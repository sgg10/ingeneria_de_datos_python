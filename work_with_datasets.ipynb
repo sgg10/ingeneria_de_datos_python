{
 "cells": [
  {
   "cell_type": "code",
   "metadata": {
    "tags": [],
    "cell_id": "00000-8c7470df-3dd6-4cbb-9354-460ff2222ff1",
    "deepnote_to_be_reexecuted": false,
    "source_hash": "4a6bb162",
    "execution_start": 1629336684784,
    "execution_millis": 2,
    "deepnote_cell_type": "code"
   },
   "source": "import os\nimport pandas as pd\nfrom urllib.parse import urlparse",
   "execution_count": 9,
   "outputs": []
  },
  {
   "cell_type": "markdown",
   "source": "# Read Datasets",
   "metadata": {
    "tags": [],
    "is_collapsed": true,
    "cell_id": "00001-8d3a1230-d71d-44d3-b4e9-c5ab8f48c022",
    "deepnote_cell_type": "text-cell-h1"
   }
  },
  {
   "cell_type": "code",
   "source": "base = os.path.abspath(os.curdir)\ndata_dir = os.path.join(base, \"output\")",
   "metadata": {
    "tags": [],
    "cell_id": "00001-c4e4438b-7c65-4339-8da7-19a407fa04cd",
    "deepnote_to_be_reexecuted": false,
    "source_hash": "dd34a55c",
    "execution_start": 1629336387896,
    "execution_millis": 4,
    "deepnote_cell_type": "code"
   },
   "outputs": [],
   "execution_count": 2
  },
  {
   "cell_type": "code",
   "source": "el_pais_df = pd.read_csv(f\"{data_dir}/elpais_2021_08_18_articles.csv\")\nel_universal_df = pd.read_csv(f\"{data_dir}/eluniversal_2021_08_18_articles.csv\")\ndf = pd.concat([el_pais_df.copy(deep=True), el_universal_def.copy(deep=True)]).reset_index(drop=True)",
   "metadata": {
    "tags": [],
    "cell_id": "00003-70453ef8-8196-4d26-bd76-47284ff35988",
    "deepnote_to_be_reexecuted": false,
    "source_hash": "660b5f57",
    "execution_start": 1629338018990,
    "execution_millis": 10,
    "deepnote_cell_type": "code"
   },
   "outputs": [],
   "execution_count": 16
  },
  {
   "cell_type": "markdown",
   "source": "## Sample of dataframes",
   "metadata": {
    "tags": [],
    "is_collapsed": true,
    "cell_id": "00004-4da0c294-b8f8-46a8-92a4-a7353b80f4ef",
    "deepnote_cell_type": "text-cell-h2"
   }
  },
  {
   "cell_type": "markdown",
   "source": "### El pais",
   "metadata": {
    "tags": [],
    "is_collapsed": true,
    "cell_id": "00005-8720a47e-556b-4bda-8680-4cf27ff13061",
    "deepnote_cell_type": "text-cell-h3"
   }
  },
  {
   "cell_type": "code",
   "source": "el_pais_df.sample(5)",
   "metadata": {
    "tags": [],
    "cell_id": "00005-fcb2e8e1-6326-4d04-9b9a-b7f49b9efa68",
    "deepnote_to_be_reexecuted": false,
    "source_hash": "2d466cc5",
    "execution_start": 1629338032902,
    "execution_millis": 11,
    "deepnote_cell_type": "code"
   },
   "outputs": [
    {
     "output_type": "execute_result",
     "execution_count": 18,
     "data": {
      "application/vnd.deepnote.dataframe.v2+json": {
       "row_count": 5,
       "column_count": 3,
       "columns": [
        {
         "name": "body",
         "dtype": "object",
         "stats": {
          "unique_count": 5,
          "nan_count": 0,
          "categories": [
           {
            "name": "Madrid es una ciudad medio vacía en agosto, pero las salas de urgencias de varios hospitales están a reventar. La escasez de sanitarios está causando hacinamientos, según",
            "count": 1
           },
           {
            "name": "Bajo la sombra, antes de la hora y con una bolsa de deporte llena de referentes —de Jane Austen a Carlos Ruiz Zafón—, apuntes y documentos, María Reig (Barcelona, 28 años) espera en la puerta de la confitería El Riojano. Los kilos que carga al hombro son parte del material con el que trabaja. El local, uno de los pocos escenarios del centro de Madrid que aparecen en su libro y han sobrevivido al paso del tiempo. Por lo menos, a los 100 años atrás en los que se ambienta ",
            "count": 1
           },
           {
            "name": "3 others",
            "count": 3
           }
          ]
         }
        },
        {
         "name": "title",
         "dtype": "object",
         "stats": {
          "unique_count": 5,
          "nan_count": 0,
          "categories": [
           {
            "name": "La falta de sanitarios en verano causa hacinamientos en las urgencias madrileñas",
            "count": 1
           },
           {
            "name": "María Reig: de montar un ‘crowdfunding’ para su libro a ser una superventas",
            "count": 1
           },
           {
            "name": "3 others",
            "count": 3
           }
          ]
         }
        },
        {
         "name": "url",
         "dtype": "object",
         "stats": {
          "unique_count": 5,
          "nan_count": 0,
          "categories": [
           {
            "name": "https://elpais.com/espana/madrid/2021-08-18/la-falta-de-sanitarios-en-verano-causa-hacinamientos-en-las-urgencias-madrilenas.html",
            "count": 1
           },
           {
            "name": "https://elpais.com/eps/2021-08-18/maria-reig-de-montar-un-crowdfunding-para-su-libro-a-ser-una-superventas.html",
            "count": 1
           },
           {
            "name": "3 others",
            "count": 3
           }
          ]
         }
        },
        {
         "name": "_deepnote_index_column",
         "dtype": "int64"
        }
       ],
       "rows_top": [
        {
         "body": "Madrid es una ciudad medio vacía en agosto, pero las salas de urgencias de varios hospitales están …",
         "title": "La falta de sanitarios en verano causa hacinamientos en las urgencias madrileñas",
         "url": "https://elpais.com/espana/madrid/2021-08-18/la-falta-de-sanitarios-en-verano-causa-hacinamientos-en…",
         "_deepnote_index_column": 13
        },
        {
         "body": "Bajo la sombra, antes de la hora y con una bolsa de deporte llena de referentes —de Jane Austen a C…",
         "title": "María Reig: de montar un ‘crowdfunding’ para su libro a ser una superventas",
         "url": "https://elpais.com/eps/2021-08-18/maria-reig-de-montar-un-crowdfunding-para-su-libro-a-ser-una-supe…",
         "_deepnote_index_column": 47
        },
        {
         "body": "El régimen talibán deberá demostrar un compromiso en la práctica con los derechos humanos de las mu…",
         "title": "Boris Johnson: “Juzgaremos al régimen talibán por sus acciones, no por sus palabras”",
         "url": "https://elpais.com/internacional/2021-08-18/boris-johnson-juzgaremos-al-regimen-taliban-por-sus-acc…",
         "_deepnote_index_column": 42
        },
        {
         "body": "Mustafa Murat Ayhan confesó a principios de agosto haber violado, matado y descuartizado a Azra Gül…",
         "title": "Las lucha de las mujeres turcas por sus derechos (ahora que nada las protege) ",
         "url": "https://elpais.com/planeta-futuro/2021-08-17/las-mujeres-turcas-resisten-las-embestidas-contra-sus-…",
         "_deepnote_index_column": 61
        },
        {
         "body": "In his iconic 1995 book on the Haitian revolution, ",
         "title": "The conquest of Mexico under question, 500 years on",
         "url": "https://english.elpais.com/usa/2021-08-09/the-conquest-of-mexico-under-question-500-years-on.html",
         "_deepnote_index_column": 56
        }
       ],
       "rows_bottom": null
      },
      "text/plain": "                                                 body  \\\n13  Madrid es una ciudad medio vacía en agosto, pe...   \n47  Bajo la sombra, antes de la hora y con una bol...   \n42  El régimen talibán deberá demostrar un comprom...   \n61  Mustafa Murat Ayhan confesó a principios de ag...   \n56  In his iconic 1995 book on the Haitian revolut...   \n\n                                                title  \\\n13  La falta de sanitarios en verano causa hacinam...   \n47  María Reig: de montar un ‘crowdfunding’ para s...   \n42  Boris Johnson: “Juzgaremos al régimen talibán ...   \n61  Las lucha de las mujeres turcas por sus derech...   \n56  The conquest of Mexico under question, 500 yea...   \n\n                                                  url  \n13  https://elpais.com/espana/madrid/2021-08-18/la...  \n47  https://elpais.com/eps/2021-08-18/maria-reig-d...  \n42  https://elpais.com/internacional/2021-08-18/bo...  \n61  https://elpais.com/planeta-futuro/2021-08-17/l...  \n56  https://english.elpais.com/usa/2021-08-09/the-...  ",
      "text/html": "<div>\n<style scoped>\n    .dataframe tbody tr th:only-of-type {\n        vertical-align: middle;\n    }\n\n    .dataframe tbody tr th {\n        vertical-align: top;\n    }\n\n    .dataframe thead th {\n        text-align: right;\n    }\n</style>\n<table border=\"1\" class=\"dataframe\">\n  <thead>\n    <tr style=\"text-align: right;\">\n      <th></th>\n      <th>body</th>\n      <th>title</th>\n      <th>url</th>\n    </tr>\n  </thead>\n  <tbody>\n    <tr>\n      <th>13</th>\n      <td>Madrid es una ciudad medio vacía en agosto, pe...</td>\n      <td>La falta de sanitarios en verano causa hacinam...</td>\n      <td>https://elpais.com/espana/madrid/2021-08-18/la...</td>\n    </tr>\n    <tr>\n      <th>47</th>\n      <td>Bajo la sombra, antes de la hora y con una bol...</td>\n      <td>María Reig: de montar un ‘crowdfunding’ para s...</td>\n      <td>https://elpais.com/eps/2021-08-18/maria-reig-d...</td>\n    </tr>\n    <tr>\n      <th>42</th>\n      <td>El régimen talibán deberá demostrar un comprom...</td>\n      <td>Boris Johnson: “Juzgaremos al régimen talibán ...</td>\n      <td>https://elpais.com/internacional/2021-08-18/bo...</td>\n    </tr>\n    <tr>\n      <th>61</th>\n      <td>Mustafa Murat Ayhan confesó a principios de ag...</td>\n      <td>Las lucha de las mujeres turcas por sus derech...</td>\n      <td>https://elpais.com/planeta-futuro/2021-08-17/l...</td>\n    </tr>\n    <tr>\n      <th>56</th>\n      <td>In his iconic 1995 book on the Haitian revolut...</td>\n      <td>The conquest of Mexico under question, 500 yea...</td>\n      <td>https://english.elpais.com/usa/2021-08-09/the-...</td>\n    </tr>\n  </tbody>\n</table>\n</div>"
     },
     "metadata": {}
    }
   ],
   "execution_count": 18
  },
  {
   "cell_type": "markdown",
   "source": "### El universal",
   "metadata": {
    "tags": [],
    "is_collapsed": true,
    "cell_id": "00007-ef02324c-fe06-424c-8b45-35cf6ea65d35",
    "deepnote_cell_type": "text-cell-h3"
   }
  },
  {
   "cell_type": "code",
   "source": "el_universal_df.sample(5)",
   "metadata": {
    "tags": [],
    "cell_id": "00007-93a8adde-ed04-4d7b-88ce-47e4646b72ef",
    "deepnote_to_be_reexecuted": false,
    "source_hash": "f4228bf5",
    "execution_start": 1629338040314,
    "execution_millis": 8,
    "deepnote_cell_type": "code"
   },
   "outputs": [
    {
     "output_type": "execute_result",
     "execution_count": 19,
     "data": {
      "application/vnd.deepnote.dataframe.v2+json": {
       "row_count": 5,
       "column_count": 3,
       "columns": [
        {
         "name": "body",
         "dtype": "object",
         "stats": {
          "unique_count": 5,
          "nan_count": 0,
          "categories": [
           {
            "name": "De acuerdo con el documento, el Ejecutivo después de más de 18 meses, “recibirá este mes de agosto por primera vez, más de 1.500 millones de dólares líquidos o en efectivo, producto del trueque, aumento de la salida de buques de petróleo para su comercialización y otros ingresos.",
            "count": 1
           },
           {
            "name": "Venezuela reportó este martes un acumulado de 320.922 casos de Covid-19 -967 nuevos y 9.831 activos- y 3.830 fallecidos -15 nuevos-.",
            "count": 1
           },
           {
            "name": "3 others",
            "count": 3
           }
          ]
         }
        },
        {
         "name": "title",
         "dtype": "object",
         "stats": {
          "unique_count": 5,
          "nan_count": 0,
          "categories": [
           {
            "name": "\r\n                                            Socías López: Venezuela recibirá más de $1.500 por exportación petrolera                                         ",
            "count": 1
           },
           {
            "name": "\r\n                                            EEUU aprueba refuerzo anticoronavirus para contrarrestar disminución de eficacia de la vacuna                                        ",
            "count": 1
           },
           {
            "name": "3 others",
            "count": 3
           }
          ]
         }
        },
        {
         "name": "url",
         "dtype": "object",
         "stats": {
          "unique_count": 5,
          "nan_count": 0,
          "categories": [
           {
            "name": "http://www.eluniversal.com/economia/104728/socias-lopez-venezuela-recibira-mas-de-1500-por-exportacion-petrolera",
            "count": 1
           },
           {
            "name": "http://www.eluniversal.com/internacional/104716/eeuu-aprueba-refuerzo-anticoronavirus-para-contrarrestar-disminucion-de-eficacia-de-la-vacuna",
            "count": 1
           },
           {
            "name": "3 others",
            "count": 3
           }
          ]
         }
        },
        {
         "name": "_deepnote_index_column",
         "dtype": "int64"
        }
       ],
       "rows_top": [
        {
         "body": "De acuerdo con el documento, el Ejecutivo después de más de 18 meses, “recibirá este mes de agosto …",
         "title": "\r\n                                            Socías López: Venezuela recibirá más de $1.500 por ex…",
         "url": "http://www.eluniversal.com/economia/104728/socias-lopez-venezuela-recibira-mas-de-1500-por-exportac…",
         "_deepnote_index_column": 11
        },
        {
         "body": "Venezuela reportó este martes un acumulado de 320.922 casos de Covid-19 -967 nuevos y 9.831 activos…",
         "title": "\r\n                                            EEUU aprueba refuerzo anticoronavirus para contrarres…",
         "url": "http://www.eluniversal.com/internacional/104716/eeuu-aprueba-refuerzo-anticoronavirus-para-contrarr…",
         "_deepnote_index_column": 21
        },
        {
         "body": "A juicio del abogado y criminólogo Luis Izquiel, “es positivo que se haya realizado el operativo qu…",
         "title": "\r\n                                            Otras bandas esperan para ocupar el espacio que dejar…",
         "url": "http://www.eluniversal.com/sucesos/104075/otras-bandas-esperan-para-ocupar-el-espacio-que-dejaron-k…",
         "_deepnote_index_column": 1
        },
        {
         "body": "La importante casa de sangrías conquista el mercado y los paladares más exigentes a través del lanz…",
         "title": "\r\n                                            Lolea Rosé, la nueva propuesta burbujeante e innovado…",
         "url": "http://www.eluniversal.com/gastronomia/104756/lolea-rose-la-nueva-propuesta-burbujeante-e-innovador…",
         "_deepnote_index_column": 2
        },
        {
         "body": "  ",
         "title": "\r\n                                            Esposo de Scarlett Johansson confirma que la actriz e…",
         "url": "http://www.eluniversal.com/entretenimiento/104708/esposo-de-scarlett-johansson-confirma-que-la-actr…",
         "_deepnote_index_column": 15
        }
       ],
       "rows_bottom": null
      },
      "text/plain": "                                                 body  \\\n11  De acuerdo con el documento, el Ejecutivo desp...   \n21  Venezuela reportó este martes un acumulado de ...   \n1   A juicio del abogado y criminólogo Luis Izquie...   \n2   La importante casa de sangrías conquista el me...   \n15                                                      \n\n                                                title  \\\n11  \\r\\n                                          ...   \n21  \\r\\n                                          ...   \n1   \\r\\n                                          ...   \n2   \\r\\n                                          ...   \n15  \\r\\n                                          ...   \n\n                                                  url  \n11  http://www.eluniversal.com/economia/104728/soc...  \n21  http://www.eluniversal.com/internacional/10471...  \n1   http://www.eluniversal.com/sucesos/104075/otra...  \n2   http://www.eluniversal.com/gastronomia/104756/...  \n15  http://www.eluniversal.com/entretenimiento/104...  ",
      "text/html": "<div>\n<style scoped>\n    .dataframe tbody tr th:only-of-type {\n        vertical-align: middle;\n    }\n\n    .dataframe tbody tr th {\n        vertical-align: top;\n    }\n\n    .dataframe thead th {\n        text-align: right;\n    }\n</style>\n<table border=\"1\" class=\"dataframe\">\n  <thead>\n    <tr style=\"text-align: right;\">\n      <th></th>\n      <th>body</th>\n      <th>title</th>\n      <th>url</th>\n    </tr>\n  </thead>\n  <tbody>\n    <tr>\n      <th>11</th>\n      <td>De acuerdo con el documento, el Ejecutivo desp...</td>\n      <td>\\r\\n                                          ...</td>\n      <td>http://www.eluniversal.com/economia/104728/soc...</td>\n    </tr>\n    <tr>\n      <th>21</th>\n      <td>Venezuela reportó este martes un acumulado de ...</td>\n      <td>\\r\\n                                          ...</td>\n      <td>http://www.eluniversal.com/internacional/10471...</td>\n    </tr>\n    <tr>\n      <th>1</th>\n      <td>A juicio del abogado y criminólogo Luis Izquie...</td>\n      <td>\\r\\n                                          ...</td>\n      <td>http://www.eluniversal.com/sucesos/104075/otra...</td>\n    </tr>\n    <tr>\n      <th>2</th>\n      <td>La importante casa de sangrías conquista el me...</td>\n      <td>\\r\\n                                          ...</td>\n      <td>http://www.eluniversal.com/gastronomia/104756/...</td>\n    </tr>\n    <tr>\n      <th>15</th>\n      <td></td>\n      <td>\\r\\n                                          ...</td>\n      <td>http://www.eluniversal.com/entretenimiento/104...</td>\n    </tr>\n  </tbody>\n</table>\n</div>"
     },
     "metadata": {}
    }
   ],
   "execution_count": 19
  },
  {
   "cell_type": "markdown",
   "source": "# Data Wrangling",
   "metadata": {
    "tags": [],
    "is_collapsed": false,
    "cell_id": "00006-9f94b44f-5b5d-4835-bafb-b09c56ea4cca",
    "deepnote_cell_type": "text-cell-h1"
   }
  },
  {
   "cell_type": "markdown",
   "source": "## Add newspaper_uid",
   "metadata": {
    "tags": [],
    "is_collapsed": true,
    "cell_id": "00008-8befe3f3-2b7b-4d0b-a507-cfa230c7ca1d",
    "deepnote_cell_type": "text-cell-h2"
   }
  },
  {
   "cell_type": "code",
   "source": "df[\"newspaper_uid\"] = df['url'].apply(lambda url: urlparse(url).netloc.replace(\"www.\", \"\").split(\".\")[0])",
   "metadata": {
    "tags": [],
    "cell_id": "00007-4f84537e-08e0-4e47-8305-488a416a9679",
    "deepnote_to_be_reexecuted": false,
    "source_hash": "ea59db1d",
    "execution_start": 1629338249180,
    "execution_millis": 0,
    "deepnote_cell_type": "code"
   },
   "outputs": [],
   "execution_count": 31
  },
  {
   "cell_type": "code",
   "source": "df.sample(2)",
   "metadata": {
    "tags": [],
    "cell_id": "00009-b8b98e5a-2e01-4472-8997-277f06c31627",
    "deepnote_to_be_reexecuted": false,
    "source_hash": "da7ea230",
    "execution_start": 1629338275515,
    "execution_millis": 13,
    "deepnote_cell_type": "code"
   },
   "outputs": [
    {
     "output_type": "execute_result",
     "execution_count": 34,
     "data": {
      "application/vnd.deepnote.dataframe.v2+json": {
       "row_count": 2,
       "column_count": 5,
       "columns": [
        {
         "name": "body",
         "dtype": "object",
         "stats": {
          "unique_count": 2,
          "nan_count": 0,
          "categories": [
           {
            "name": "Venezuela Sin Límites es un articulador de alianzas, dice su presidenta Mireya Blavia de Cisneros (CORTESÍA)",
            "count": 1
           },
           {
            "name": "Para contestar a tu pregunta hay recordar que un agujero negro es una región en el espacio con una gravedad tan elevada que nada puede escapar de ella, ni siquiera la luz. Preguntas exactamente si una región como esta podría crearse en el LHC. El ",
            "count": 1
           }
          ]
         }
        },
        {
         "name": "title",
         "dtype": "object",
         "stats": {
          "unique_count": 2,
          "nan_count": 0,
          "categories": [
           {
            "name": "\r\n                                            Venezuela Sin Límites: 22 años de solidaridad en hechos concretos                                        ",
            "count": 1
           },
           {
            "name": "¿Podría generarse un microagujero negro en el acelerador de partículas LHC?",
            "count": 1
           }
          ]
         }
        },
        {
         "name": "url",
         "dtype": "object",
         "stats": {
          "unique_count": 2,
          "nan_count": 0,
          "categories": [
           {
            "name": "http://www.eluniversal.com/sociales/104622/venezuela-sin-limites-22-anos-de-solidaridad-en-hechos-concretos",
            "count": 1
           },
           {
            "name": "https://elpais.com/ciencia/2021-08-18/podria-generarse-un-microagujero-negro-en-el-acelerador-de-particulas-lhc.html",
            "count": 1
           }
          ]
         }
        },
        {
         "name": "newspaper_uid",
         "dtype": "object",
         "stats": {
          "unique_count": 2,
          "nan_count": 0,
          "categories": [
           {
            "name": "eluniversal",
            "count": 1
           },
           {
            "name": "elpais",
            "count": 1
           }
          ]
         }
        },
        {
         "name": "host",
         "dtype": "object",
         "stats": {
          "unique_count": 2,
          "nan_count": 0,
          "categories": [
           {
            "name": "www.eluniversal.com",
            "count": 1
           },
           {
            "name": "elpais.com",
            "count": 1
           }
          ]
         }
        },
        {
         "name": "_deepnote_index_column",
         "dtype": "int64"
        }
       ],
       "rows_top": [
        {
         "body": "Venezuela Sin Límites es un articulador de alianzas, dice su presidenta Mireya Blavia de Cisneros (…",
         "title": "\r\n                                            Venezuela Sin Límites: 22 años de solidaridad en hech…",
         "url": "http://www.eluniversal.com/sociales/104622/venezuela-sin-limites-22-anos-de-solidaridad-en-hechos-c…",
         "newspaper_uid": "eluniversal",
         "host": "www.eluniversal.com",
         "_deepnote_index_column": 94
        },
        {
         "body": "Para contestar a tu pregunta hay recordar que un agujero negro es una región en el espacio con una …",
         "title": "¿Podría generarse un microagujero negro en el acelerador de partículas LHC?",
         "url": "https://elpais.com/ciencia/2021-08-18/podria-generarse-un-microagujero-negro-en-el-acelerador-de-pa…",
         "newspaper_uid": "elpais",
         "host": "elpais.com",
         "_deepnote_index_column": 22
        }
       ],
       "rows_bottom": null
      },
      "text/plain": "                                                 body  \\\n94  Venezuela Sin Límites es un articulador de ali...   \n22  Para contestar a tu pregunta hay recordar que ...   \n\n                                                title  \\\n94  \\r\\n                                          ...   \n22  ¿Podría generarse un microagujero negro en el ...   \n\n                                                  url newspaper_uid  \\\n94  http://www.eluniversal.com/sociales/104622/ven...   eluniversal   \n22  https://elpais.com/ciencia/2021-08-18/podria-g...        elpais   \n\n                   host  \n94  www.eluniversal.com  \n22           elpais.com  ",
      "text/html": "<div>\n<style scoped>\n    .dataframe tbody tr th:only-of-type {\n        vertical-align: middle;\n    }\n\n    .dataframe tbody tr th {\n        vertical-align: top;\n    }\n\n    .dataframe thead th {\n        text-align: right;\n    }\n</style>\n<table border=\"1\" class=\"dataframe\">\n  <thead>\n    <tr style=\"text-align: right;\">\n      <th></th>\n      <th>body</th>\n      <th>title</th>\n      <th>url</th>\n      <th>newspaper_uid</th>\n      <th>host</th>\n    </tr>\n  </thead>\n  <tbody>\n    <tr>\n      <th>94</th>\n      <td>Venezuela Sin Límites es un articulador de ali...</td>\n      <td>\\r\\n                                          ...</td>\n      <td>http://www.eluniversal.com/sociales/104622/ven...</td>\n      <td>eluniversal</td>\n      <td>www.eluniversal.com</td>\n    </tr>\n    <tr>\n      <th>22</th>\n      <td>Para contestar a tu pregunta hay recordar que ...</td>\n      <td>¿Podría generarse un microagujero negro en el ...</td>\n      <td>https://elpais.com/ciencia/2021-08-18/podria-g...</td>\n      <td>elpais</td>\n      <td>elpais.com</td>\n    </tr>\n  </tbody>\n</table>\n</div>"
     },
     "metadata": {}
    }
   ],
   "execution_count": 34
  },
  {
   "cell_type": "markdown",
   "source": "## Get Host",
   "metadata": {
    "tags": [],
    "is_collapsed": true,
    "cell_id": "00009-22fce656-5c28-4d83-9e38-1e60e3796465",
    "deepnote_cell_type": "text-cell-h2"
   }
  },
  {
   "cell_type": "code",
   "source": "df[\"host\"] = df['url'].apply(lambda url: urlparse(url).netloc)",
   "metadata": {
    "tags": [],
    "cell_id": "00009-5ea368ef-7d6c-440b-85ef-72deb62eeb82",
    "deepnote_to_be_reexecuted": false,
    "source_hash": "58ac0644",
    "execution_start": 1629338210442,
    "execution_millis": 1,
    "deepnote_cell_type": "code"
   },
   "outputs": [],
   "execution_count": 26
  },
  {
   "cell_type": "code",
   "source": "df.sample(2)",
   "metadata": {
    "tags": [],
    "cell_id": "00012-4b506d43-cbe2-4aee-8791-10291b5a4ea5",
    "deepnote_to_be_reexecuted": false,
    "source_hash": "da7ea230",
    "execution_start": 1629338282645,
    "execution_millis": 8,
    "deepnote_cell_type": "code"
   },
   "outputs": [
    {
     "output_type": "execute_result",
     "execution_count": 35,
     "data": {
      "application/vnd.deepnote.dataframe.v2+json": {
       "row_count": 2,
       "column_count": 5,
       "columns": [
        {
         "name": "body",
         "dtype": "object",
         "stats": {
          "unique_count": 2,
          "nan_count": 0,
          "categories": [
           {
            "name": "La ",
            "count": 1
           },
           {
            "name": "Como muchas otras personas que durante el último año han estado tratando de figurarse cómo confrontar el problema de la inmersión modificada o empobrecida, si estuviese yo leyendo esta nota una mañana de fin de semana, probablemente esperaría encontrar algunos ejemplos de cómo maximizar mi inmersión de vacaciones, que no fuera en un hamam en Turquía, al que no tengo acceso, o escalar una gran montaña, no las hay en mi proximidad, y no planeo viajar para encontrarla, ni caminar en un bosque tupido.",
            "count": 1
           }
          ]
         }
        },
        {
         "name": "title",
         "dtype": "object",
         "stats": {
          "unique_count": 2,
          "nan_count": 0,
          "categories": [
           {
            "name": "‘Grace’ se convierte en huracán y se acerca a la península de Yucatán",
            "count": 1
           },
           {
            "name": "Sumergirse en un mar, bosque o libro ayuda a la creatividad",
            "count": 1
           }
          ]
         }
        },
        {
         "name": "url",
         "dtype": "object",
         "stats": {
          "unique_count": 2,
          "nan_count": 0,
          "categories": [
           {
            "name": "https://elpais.com/mexico/2021-08-18/grace-se-convierte-en-huracan-y-se-acerca-a-la-peninsula-de-yucatan.html",
            "count": 1
           },
           {
            "name": "https://elpais.com/eps/2021-08-12/inmersion-sumergirse-siempre-en-todo.html",
            "count": 1
           }
          ]
         }
        },
        {
         "name": "newspaper_uid",
         "dtype": "object",
         "stats": {
          "unique_count": 1,
          "nan_count": 0,
          "categories": [
           {
            "name": "elpais",
            "count": 2
           }
          ]
         }
        },
        {
         "name": "host",
         "dtype": "object",
         "stats": {
          "unique_count": 1,
          "nan_count": 0,
          "categories": [
           {
            "name": "elpais.com",
            "count": 2
           }
          ]
         }
        },
        {
         "name": "_deepnote_index_column",
         "dtype": "int64"
        }
       ],
       "rows_top": [
        {
         "body": "La ",
         "title": "‘Grace’ se convierte en huracán y se acerca a la península de Yucatán",
         "url": "https://elpais.com/mexico/2021-08-18/grace-se-convierte-en-huracan-y-se-acerca-a-la-peninsula-de-yu…",
         "newspaper_uid": "elpais",
         "host": "elpais.com",
         "_deepnote_index_column": 8
        },
        {
         "body": "Como muchas otras personas que durante el último año han estado tratando de figurarse cómo confront…",
         "title": "Sumergirse en un mar, bosque o libro ayuda a la creatividad",
         "url": "https://elpais.com/eps/2021-08-12/inmersion-sumergirse-siempre-en-todo.html",
         "newspaper_uid": "elpais",
         "host": "elpais.com",
         "_deepnote_index_column": 67
        }
       ],
       "rows_bottom": null
      },
      "text/plain": "                                                 body  \\\n8                                                 La    \n67  Como muchas otras personas que durante el últi...   \n\n                                                title  \\\n8   ‘Grace’ se convierte en huracán y se acerca a ...   \n67  Sumergirse en un mar, bosque o libro ayuda a l...   \n\n                                                  url newspaper_uid  \\\n8   https://elpais.com/mexico/2021-08-18/grace-se-...        elpais   \n67  https://elpais.com/eps/2021-08-12/inmersion-su...        elpais   \n\n          host  \n8   elpais.com  \n67  elpais.com  ",
      "text/html": "<div>\n<style scoped>\n    .dataframe tbody tr th:only-of-type {\n        vertical-align: middle;\n    }\n\n    .dataframe tbody tr th {\n        vertical-align: top;\n    }\n\n    .dataframe thead th {\n        text-align: right;\n    }\n</style>\n<table border=\"1\" class=\"dataframe\">\n  <thead>\n    <tr style=\"text-align: right;\">\n      <th></th>\n      <th>body</th>\n      <th>title</th>\n      <th>url</th>\n      <th>newspaper_uid</th>\n      <th>host</th>\n    </tr>\n  </thead>\n  <tbody>\n    <tr>\n      <th>8</th>\n      <td>La</td>\n      <td>‘Grace’ se convierte en huracán y se acerca a ...</td>\n      <td>https://elpais.com/mexico/2021-08-18/grace-se-...</td>\n      <td>elpais</td>\n      <td>elpais.com</td>\n    </tr>\n    <tr>\n      <th>67</th>\n      <td>Como muchas otras personas que durante el últi...</td>\n      <td>Sumergirse en un mar, bosque o libro ayuda a l...</td>\n      <td>https://elpais.com/eps/2021-08-12/inmersion-su...</td>\n      <td>elpais</td>\n      <td>elpais.com</td>\n    </tr>\n  </tbody>\n</table>\n</div>"
     },
     "metadata": {}
    }
   ],
   "execution_count": 35
  },
  {
   "cell_type": "code",
   "source": "df[\"host\"].value_counts()",
   "metadata": {
    "tags": [],
    "cell_id": "00013-03362243-c0d9-4cbc-a4a6-cfb02a12b2d2",
    "deepnote_to_be_reexecuted": false,
    "source_hash": "29cf9003",
    "execution_start": 1629338361111,
    "execution_millis": 12,
    "deepnote_cell_type": "code"
   },
   "outputs": [
    {
     "output_type": "execute_result",
     "execution_count": 38,
     "data": {
      "text/plain": "elpais.com             78\nwww.eluniversal.com    22\nenglish.elpais.com      3\nName: host, dtype: int64"
     },
     "metadata": {}
    }
   ],
   "execution_count": 38
  },
  {
   "cell_type": "code",
   "source": "",
   "metadata": {
    "tags": [],
    "cell_id": "00017-487a7bfd-a627-4fde-bd2f-7c893f6547c9",
    "deepnote_cell_type": "code"
   },
   "outputs": [],
   "execution_count": null
  },
  {
   "cell_type": "markdown",
   "source": "<a style='text-decoration:none;line-height:16px;display:flex;color:#5B5B62;padding:10px;justify-content:end;' href='https://deepnote.com?utm_source=created-in-deepnote-cell&projectId=ea363058-8482-4b97-a1b6-14194156c350' target=\"_blank\">\n<img alt='Created in deepnote.com' style='display:inline;max-height:16px;margin:0px;margin-right:7.5px;' src='data:image/svg+xml;base64,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' > </img>\nCreated in <span style='font-weight:600;margin-left:4px;'>Deepnote</span></a>",
   "metadata": {
    "tags": [],
    "created_in_deepnote_cell": true,
    "deepnote_cell_type": "markdown"
   }
  }
 ],
 "nbformat": 4,
 "nbformat_minor": 2,
 "metadata": {
  "orig_nbformat": 2,
  "deepnote": {
   "is_reactive": false
  },
  "deepnote_notebook_id": "26641dff-ccff-4913-8d39-6b09b283c07a",
  "deepnote_execution_queue": []
 }
}