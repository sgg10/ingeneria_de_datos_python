{
 "cells": [
  {
   "cell_type": "code",
   "metadata": {
    "tags": [],
    "cell_id": "00000-6e14af96-fe7c-40cd-9a87-cc281581adf4",
    "deepnote_to_be_reexecuted": false,
    "source_hash": "26173c20",
    "execution_start": 1629346647622,
    "execution_millis": 9,
    "deepnote_cell_type": "code"
   },
   "source": "import os\nimport pandas as pd",
   "execution_count": 3,
   "outputs": []
  },
  {
   "cell_type": "markdown",
   "source": "# Read Dataset",
   "metadata": {
    "tags": [],
    "is_collapsed": false,
    "cell_id": "00001-95a2643a-3bce-4a17-aae7-cb4dbb617c90",
    "deepnote_cell_type": "text-cell-h1"
   }
  },
  {
   "cell_type": "code",
   "source": "base = os.path.abspath(os.curdir)\ndata_dir = os.path.join(base, \"final_datasets\")",
   "metadata": {
    "tags": [],
    "cell_id": "00001-a583eb63-deb0-4df0-9770-afcdd8ff85a5",
    "deepnote_to_be_reexecuted": false,
    "source_hash": "e7b29a1e",
    "execution_start": 1629346702878,
    "execution_millis": 9,
    "deepnote_cell_type": "code"
   },
   "outputs": [],
   "execution_count": 6
  },
  {
   "cell_type": "code",
   "source": "final_df = pd.read_csv(f\"{data_dir}/clean_newspapers_articles.csv\", sep=\"|\")",
   "metadata": {
    "tags": [],
    "cell_id": "00003-5ff9e968-0ff5-4b26-91ea-3dab63089855",
    "deepnote_to_be_reexecuted": false,
    "source_hash": "b0b78db5",
    "execution_start": 1629346709729,
    "execution_millis": 37,
    "deepnote_cell_type": "code"
   },
   "outputs": [],
   "execution_count": 7
  },
  {
   "cell_type": "markdown",
   "source": "## Sample of dataframe",
   "metadata": {
    "tags": [],
    "is_collapsed": false,
    "cell_id": "00004-636aa67e-0ae0-4131-966a-fecd6a8ecf4c",
    "deepnote_cell_type": "text-cell-h2"
   }
  },
  {
   "cell_type": "code",
   "source": "final_df",
   "metadata": {
    "tags": [],
    "cell_id": "00004-9fd494d9-fddb-4321-b37a-555e37c5f88e",
    "deepnote_to_be_reexecuted": false,
    "source_hash": "2a8f16c0",
    "execution_start": 1629346751748,
    "execution_millis": 109,
    "deepnote_cell_type": "code"
   },
   "outputs": [
    {
     "output_type": "execute_result",
     "execution_count": 9,
     "data": {
      "application/vnd.deepnote.dataframe.v2+json": {
       "row_count": 103,
       "column_count": 9,
       "columns": [
        {
         "name": "uid",
         "dtype": "object",
         "stats": {
          "unique_count": 103,
          "nan_count": 0,
          "categories": [
           {
            "name": "f5c8c7cd81a30cf4cbe77f68943a944b",
            "count": 1
           },
           {
            "name": "c4c9a2a32b8ebb72d9aef6658e9ea55d",
            "count": 1
           },
           {
            "name": "101 others",
            "count": 101
           }
          ]
         }
        },
        {
         "name": "body",
         "dtype": "object",
         "stats": {
          "unique_count": 97,
          "nan_count": 5,
          "categories": [
           {
            "name": "La",
            "count": 2
           },
           {
            "name": "96 others",
            "count": 96
           },
           {
            "name": "Missing",
            "count": 5
           }
          ]
         }
        },
        {
         "name": "title",
         "dtype": "object",
         "stats": {
          "unique_count": 103,
          "nan_count": 0,
          "categories": [
           {
            "name": "Decenas de miles de mujeres de todo el mundo se unen por las afganas: “Abrid las puertas a Afganistán”",
            "count": 1
           },
           {
            "name": "Interpol emite una ficha roja contra el empresario Miguel Alemán Magnani por el delito de defraudación fiscal",
            "count": 1
           },
           {
            "name": "101 others",
            "count": 101
           }
          ]
         }
        },
        {
         "name": "url",
         "dtype": "object",
         "stats": {
          "unique_count": 103,
          "nan_count": 0,
          "categories": [
           {
            "name": "https://elpais.com/internacional/2021-08-18/decenas-de-miles-de-mujeres-de-todo-el-mundo-se-unen-por-las-afganas-abrid-las-puertas-a-afganistan.html",
            "count": 1
           },
           {
            "name": "https://elpais.com/mexico/2021-08-18/interpol-emite-una-ficha-roja-contra-el-empresario-miguel-aleman-magnani-por-el-delito-de-defraudacion-fiscal.html",
            "count": 1
           },
           {
            "name": "101 others",
            "count": 101
           }
          ]
         }
        },
        {
         "name": "origin_path",
         "dtype": "object",
         "stats": {
          "unique_count": 2,
          "nan_count": 0,
          "categories": [
           {
            "name": "output/elpais_2021_08_18_articles.csv",
            "count": 81
           },
           {
            "name": "output/eluniversal_2021_08_18_articles.csv",
            "count": 22
           }
          ]
         }
        },
        {
         "name": "newspaper_uid",
         "dtype": "object",
         "stats": {
          "unique_count": 3,
          "nan_count": 0,
          "categories": [
           {
            "name": "elpais",
            "count": 78
           },
           {
            "name": "eluniversal",
            "count": 22
           },
           {
            "name": "english",
            "count": 3
           }
          ]
         }
        },
        {
         "name": "host",
         "dtype": "object",
         "stats": {
          "unique_count": 3,
          "nan_count": 0,
          "categories": [
           {
            "name": "elpais.com",
            "count": 78
           },
           {
            "name": "www.eluniversal.com",
            "count": 22
           },
           {
            "name": "english.elpais.com",
            "count": 3
           }
          ]
         }
        },
        {
         "name": "n_tokens_title",
         "dtype": "int64",
         "stats": {
          "unique_count": 13,
          "nan_count": 0,
          "min": "1",
          "max": "13",
          "histogram": [
           {
            "bin_start": 1,
            "bin_end": 2.2,
            "count": 6
           },
           {
            "bin_start": 2.2,
            "bin_end": 3.4,
            "count": 5
           },
           {
            "bin_start": 3.4,
            "bin_end": 4.6,
            "count": 9
           },
           {
            "bin_start": 4.6,
            "bin_end": 5.8,
            "count": 17
           },
           {
            "bin_start": 5.8,
            "bin_end": 7,
            "count": 16
           },
           {
            "bin_start": 7,
            "bin_end": 8.2,
            "count": 31
           },
           {
            "bin_start": 8.2,
            "bin_end": 9.4,
            "count": 10
           },
           {
            "bin_start": 9.4,
            "bin_end": 10.6,
            "count": 6
           },
           {
            "bin_start": 10.6,
            "bin_end": 11.799999999999999,
            "count": 1
           },
           {
            "bin_start": 11.799999999999999,
            "bin_end": 13,
            "count": 2
           }
          ]
         }
        },
        {
         "name": "n_tokens_body",
         "dtype": "int64",
         "stats": {
          "unique_count": 44,
          "nan_count": 0,
          "min": "0",
          "max": "59",
          "histogram": [
           {
            "bin_start": 0,
            "bin_end": 5.9,
            "count": 32
           },
           {
            "bin_start": 5.9,
            "bin_end": 11.8,
            "count": 17
           },
           {
            "bin_start": 11.8,
            "bin_end": 17.700000000000003,
            "count": 7
           },
           {
            "bin_start": 17.700000000000003,
            "bin_end": 23.6,
            "count": 13
           },
           {
            "bin_start": 23.6,
            "bin_end": 29.5,
            "count": 10
           },
           {
            "bin_start": 29.5,
            "bin_end": 35.400000000000006,
            "count": 11
           },
           {
            "bin_start": 35.400000000000006,
            "bin_end": 41.300000000000004,
            "count": 4
           },
           {
            "bin_start": 41.300000000000004,
            "bin_end": 47.2,
            "count": 2
           },
           {
            "bin_start": 47.2,
            "bin_end": 53.1,
            "count": 4
           },
           {
            "bin_start": 53.1,
            "bin_end": 59,
            "count": 3
           }
          ]
         }
        },
        {
         "name": "_deepnote_index_column",
         "dtype": "int64"
        }
       ],
       "rows_top": [
        {
         "uid": "f5c8c7cd81a30cf4cbe77f68943a944b",
         "body": "Las mujeres del mundo del periodismo, los derechos humanos, la literatura y el cine, entre otros se…",
         "title": "Decenas de miles de mujeres de todo el mundo se unen por las afganas: “Abrid las puertas a Afganist…",
         "url": "https://elpais.com/internacional/2021-08-18/decenas-de-miles-de-mujeres-de-todo-el-mundo-se-unen-po…",
         "origin_path": "output/elpais_2021_08_18_articles.csv",
         "newspaper_uid": "elpais",
         "host": "elpais.com",
         "n_tokens_title": 9,
         "n_tokens_body": 20,
         "_deepnote_index_column": 0
        },
        {
         "uid": "c4c9a2a32b8ebb72d9aef6658e9ea55d",
         "body": "La Organización Internacional de Policía Criminal,",
         "title": "Interpol emite una ficha roja contra el empresario Miguel Alemán Magnani por el delito de defraudac…",
         "url": "https://elpais.com/mexico/2021-08-18/interpol-emite-una-ficha-roja-contra-el-empresario-miguel-alem…",
         "origin_path": "output/elpais_2021_08_18_articles.csv",
         "newspaper_uid": "elpais",
         "host": "elpais.com",
         "n_tokens_title": 11,
         "n_tokens_body": 4,
         "_deepnote_index_column": 1
        },
        {
         "uid": "aba02e2f7971dcec2532c65c7f9db8fa",
         "body": "Los detalles de la participación de 18 militares colombianos en el magnicidio del",
         "title": "Las familias de los exmilitares señalados por el magnicidio en Haití piden garantías judiciales",
         "url": "https://elpais.com/internacional/2021-08-17/las-familias-de-los-exmilitares-senalados-por-el-magnic…",
         "origin_path": "output/elpais_2021_08_18_articles.csv",
         "newspaper_uid": "elpais",
         "host": "elpais.com",
         "n_tokens_title": 8,
         "n_tokens_body": 5,
         "_deepnote_index_column": 2
        },
        {
         "uid": "a694377b67054a2df88d11ca64973f4f",
         "body": "Jimmy se ha venido a vivir conmigo unos días. Tendría más interés que Jimmy fuera un australiano al…",
         "title": "Nuevas Hébridas en blanco y negro",
         "url": "https://elpais.com/babelia/2021-08-18/nuevas-hebridas-en-blanco-y-negro.html",
         "origin_path": "output/elpais_2021_08_18_articles.csv",
         "newspaper_uid": "elpais",
         "host": "elpais.com",
         "n_tokens_title": 4,
         "n_tokens_body": 20,
         "_deepnote_index_column": 3
        },
        {
         "uid": "725c8d4efa5d522b55217aaab74d0b02",
         "body": "Una mañana de verano de 1999, Shukriya Barakzai se despertó mareada y con fiebre.",
         "title": "El regreso de los talibanes es catastrófico para las mujeres",
         "url": "https://elpais.com/internacional/2021-08-18/el-regreso-de-los-talibanes-es-catastrofico-para-las-mu…",
         "origin_path": "output/elpais_2021_08_18_articles.csv",
         "newspaper_uid": "elpais",
         "host": "elpais.com",
         "n_tokens_title": 4,
         "n_tokens_body": 7,
         "_deepnote_index_column": 4
        },
        {
         "uid": "d247e47c35e15fee9c2c03ccce71ae05",
         "body": "A mediodía de este martes, José Antonio García  vio un helicóptero acercarse de frente hacia la rep…",
         "title": "Los dos montañeros atrapados tres días en un risco de los Picos de Europa: “No podíamos dormir porq…",
         "url": "https://elpais.com/espana/2021-08-18/los-dos-montaneros-atrapados-tres-dias-en-un-risco-de-los-pico…",
         "origin_path": "output/elpais_2021_08_18_articles.csv",
         "newspaper_uid": "elpais",
         "host": "elpais.com",
         "n_tokens_title": 12,
         "n_tokens_body": 31,
         "_deepnote_index_column": 5
        },
        {
         "uid": "8ce2100e0c42947003e00cb9dd894ebb",
         "body": "“Nos interesa América porque nos consideramos un periódico americano”, expresa rotundo el director …",
         "title": "Jan Martínez Ahrens: “El periódico tiene la nacionalidad de sus lectores”",
         "url": "https://elpais.com/mexico/2021-03-05/jan-martinez-ahrens-nos-interesa-america-porque-nos-consideram…",
         "origin_path": "output/elpais_2021_08_18_articles.csv",
         "newspaper_uid": "elpais",
         "host": "elpais.com",
         "n_tokens_title": 6,
         "n_tokens_body": 27,
         "_deepnote_index_column": 6
        },
        {
         "uid": "95a11bb94c319365feeee4753f82e0f7",
         "body": "El",
         "title": "Suspendido el GP de Japón de Fórmula 1 por covid",
         "url": "https://elpais.com/deportes/2021-08-18/suspendido-el-gp-de-japon-de-formula-1-por-covid.html",
         "origin_path": "output/elpais_2021_08_18_articles.csv",
         "newspaper_uid": "elpais",
         "host": "elpais.com",
         "n_tokens_title": 5,
         "n_tokens_body": 0,
         "_deepnote_index_column": 7
        },
        {
         "uid": "966c33dfdb83a96c7db9721b633df303",
         "body": "La",
         "title": "‘Grace’ se convierte en huracán y se acerca a la península de Yucatán",
         "url": "https://elpais.com/mexico/2021-08-18/grace-se-convierte-en-huracan-y-se-acerca-a-la-peninsula-de-yu…",
         "origin_path": "output/elpais_2021_08_18_articles.csv",
         "newspaper_uid": "elpais",
         "host": "elpais.com",
         "n_tokens_title": 6,
         "n_tokens_body": 0,
         "_deepnote_index_column": 8
        },
        {
         "uid": "d1a42edde34aec0ff31bef805b6e6a47",
         "body": "Celebro la actitud del Gobierno de la llamada Cuarta Transformación para designar como nueva agrega…",
         "title": "Más allá de Krauze y Aguilar Camín",
         "url": "https://elpais.com/mexico/opinion/2021-08-18/mas-alla-de-krauze-y-aguilar-camin.html",
         "origin_path": "output/elpais_2021_08_18_articles.csv",
         "newspaper_uid": "elpais",
         "host": "elpais.com",
         "n_tokens_title": 4,
         "n_tokens_body": 31,
         "_deepnote_index_column": 9
        },
        {
         "uid": "77a8070d0fe6dc236d5c376fa6d0798e",
         "body": "La del presidente del",
         "title": "Enrique Cerezo: “En la vida, si no tienes ego es que no tienes de nada”",
         "url": "https://elpais.com/revista-de-verano/2021-08-18/enrique-cerezo-en-la-vida-si-no-tienes-ego-es-que-n…",
         "origin_path": "output/elpais_2021_08_18_articles.csv",
         "newspaper_uid": "elpais",
         "host": "elpais.com",
         "n_tokens_title": 5,
         "n_tokens_body": 1,
         "_deepnote_index_column": 10
        },
        {
         "uid": "e762d6966c0edb8a2f2ce165cef6d4ba",
         "body": "La firma de un",
         "title": "Avances en Venezuela",
         "url": "https://elpais.com/opinion/2021-08-18/avances-en-venezuela.html",
         "origin_path": "output/elpais_2021_08_18_articles.csv",
         "newspaper_uid": "elpais",
         "host": "elpais.com",
         "n_tokens_title": 2,
         "n_tokens_body": 1,
         "_deepnote_index_column": 11
        },
        {
         "uid": "bdf384a1e7d62debc3b9277427dada38",
         "body": "Hombres armados atacaron este miércoles un convoy de civiles con escolta militar en el norte de Bur…",
         "title": "Asesinadas 47 personas en Burkina Faso tras un ataque yihadista a un convoy de civiles",
         "url": "https://elpais.com/internacional/2021-08-18/asesinadas-47-personas-en-burkina-faso-tras-un-ataque-y…",
         "origin_path": "output/elpais_2021_08_18_articles.csv",
         "newspaper_uid": "elpais",
         "host": "elpais.com",
         "n_tokens_title": 9,
         "n_tokens_body": 48,
         "_deepnote_index_column": 12
        },
        {
         "uid": "18d031a32e3c33aeacfff2026057d327",
         "body": "Madrid es una ciudad medio vacía en agosto, pero las salas de urgencias de varios hospitales están …",
         "title": "La falta de sanitarios en verano causa hacinamientos en las urgencias madrileñas",
         "url": "https://elpais.com/espana/madrid/2021-08-18/la-falta-de-sanitarios-en-verano-causa-hacinamientos-en…",
         "origin_path": "output/elpais_2021_08_18_articles.csv",
         "newspaper_uid": "elpais",
         "host": "elpais.com",
         "n_tokens_title": 7,
         "n_tokens_body": 15,
         "_deepnote_index_column": 13
        },
        {
         "uid": "3759856d8b3ca17e97bc55d9942708fa",
         "body": "Es un grave desastre",
         "title": "La caída de Kabul es un grave desastre",
         "url": "https://elpais.com/opinion/2021-08-18/la-caida-de-kabul-es-un-grave-desastre.html",
         "origin_path": "output/elpais_2021_08_18_articles.csv",
         "newspaper_uid": "elpais",
         "host": "elpais.com",
         "n_tokens_title": 4,
         "n_tokens_body": 2,
         "_deepnote_index_column": 14
        },
        {
         "uid": "9440bb4c3c628c7138e5f64d3d1f680b",
         "body": "Escribía en Twitter la escritora",
         "title": "Ocho novelas con la maternidad y la paternidad como protagonista para disfrutar en verano",
         "url": "https://elpais.com/mamas-papas/2021-08-18/ocho-novelas-con-la-maternidad-y-la-paternidad-como-prota…",
         "origin_path": "output/elpais_2021_08_18_articles.csv",
         "newspaper_uid": "elpais",
         "host": "elpais.com",
         "n_tokens_title": 7,
         "n_tokens_body": 3,
         "_deepnote_index_column": 15
        },
        {
         "uid": "ca80cc72fe7c3c424b33e0413e030f64",
         "body": "La prensa en México vive amenazada. El último episodio ocurrió el lunes pasado:",
         "title": "Periodismo ante el fusil amenazante del narco",
         "url": "https://elpais.com/mexico/2021-08-15/periodismo-ante-el-fusil-amenazante-del-narco.html",
         "origin_path": "output/elpais_2021_08_18_articles.csv",
         "newspaper_uid": "elpais",
         "host": "elpais.com",
         "n_tokens_title": 4,
         "n_tokens_body": 9,
         "_deepnote_index_column": 16
        },
        {
         "uid": "a513a318b0f22d6c2e9c414557f6ea0e",
         "body": "El futuro ha llegado a Iztapalapa, piensa María del Carmen Montero. El cablebús recién inaugurado l…",
         "title": "Ida y vuelta por los confines de Iztapalapa en el teleférico más largo de América Latina",
         "url": "https://elpais.com/mexico/2021-08-15/ida-y-vuelta-por-los-confines-de-iztapalapa-en-el-teleferico-m…",
         "origin_path": "output/elpais_2021_08_18_articles.csv",
         "newspaper_uid": "elpais",
         "host": "elpais.com",
         "n_tokens_title": 8,
         "n_tokens_body": 11,
         "_deepnote_index_column": 17
        },
        {
         "uid": "c85d5f6d3bbfa397a616f5f9d3a11ed8",
         "body": "En la madrugada del 18 de agosto de 1936, el poeta Federico García Lorca, el maestro Dióscoro Galin…",
         "title": "La nieta de Dióscoro Galindo pide a Estrasburgo la búsqueda de los restos de su abuelo y de Lorca",
         "url": "https://elpais.com/cultura/2021-08-18/la-nieta-del-dioscoro-galindo-pide-a-estrasburgo-la-busqueda-…",
         "origin_path": "output/elpais_2021_08_18_articles.csv",
         "newspaper_uid": "elpais",
         "host": "elpais.com",
         "n_tokens_title": 9,
         "n_tokens_body": 14,
         "_deepnote_index_column": 18
        },
        {
         "uid": "63d4492b218515c8511a90244de83558",
         "body": "El Ministerio del Interior ha tratado en los últimos días de",
         "title": "Interior descarga en Ceuta la responsabilidad de las repatriaciones de los menores marroquíes",
         "url": "https://elpais.com/espana/2021-08-18/la-audiencia-nacional-rechaza-suspender-de-urgencia-las-devolu…",
         "origin_path": "output/elpais_2021_08_18_articles.csv",
         "newspaper_uid": "elpais",
         "host": "elpais.com",
         "n_tokens_title": 7,
         "n_tokens_body": 5,
         "_deepnote_index_column": 19
        },
        {
         "uid": "483748d28cef75de969f4747ab10946b",
         "body": "Después de que expulsaran a De Ligt por hacer una falta como último hombre, el mundo del selecciona…",
         "title": "Van Gaal III de Países Bajos",
         "url": "https://elpais.com/deportes/2021-08-18/van-gaal-iii-de-paises-bajos.html",
         "origin_path": "output/elpais_2021_08_18_articles.csv",
         "newspaper_uid": "elpais",
         "host": "elpais.com",
         "n_tokens_title": 5,
         "n_tokens_body": 34,
         "_deepnote_index_column": 20
        },
        {
         "uid": "12aad194333aa6367eb744ce93f8f421",
         "body": "La Premio Nobel de la Paz en 2014, Malala Yousafzai, he pedido a todos los países que abran sus fro…",
         "title": "Vídeo | Malala pide que los países abran sus fronteras a los refugiados afganos",
         "url": "https://elpais.com/videos/2021-08-17/malala-pide-que-los-paises-abran-sus-fronteras-a-los-refugiado…",
         "origin_path": "output/elpais_2021_08_18_articles.csv",
         "newspaper_uid": "elpais",
         "host": "elpais.com",
         "n_tokens_title": 8,
         "n_tokens_body": 26,
         "_deepnote_index_column": 21
        },
        {
         "uid": "85dbbb606fd9fafbf28894a003ff2bb6",
         "body": "Para contestar a tu pregunta hay recordar que un agujero negro es una región en el espacio con una …",
         "title": "¿Podría generarse un microagujero negro en el acelerador de partículas LHC?",
         "url": "https://elpais.com/ciencia/2021-08-18/podria-generarse-un-microagujero-negro-en-el-acelerador-de-pa…",
         "origin_path": "output/elpais_2021_08_18_articles.csv",
         "newspaper_uid": "elpais",
         "host": "elpais.com",
         "n_tokens_title": 6,
         "n_tokens_body": 21,
         "_deepnote_index_column": 22
        },
        {
         "uid": "ec361ef19071381942adb62fdb04a762",
         "body": "Primero fueron los colegios, después, el médico y la farmacia. Ahora, las oficinas bancarias. La sa…",
         "title": "La España vacía se rebela contra el cierre de oficinas bancarias",
         "url": "https://elpais.com/economia/2021-08-18/la-espana-vacia-se-rebela-contra-el-cierre-de-oficinas-banca…",
         "origin_path": "output/elpais_2021_08_18_articles.csv",
         "newspaper_uid": "elpais",
         "host": "elpais.com",
         "n_tokens_title": 6,
         "n_tokens_body": 36,
         "_deepnote_index_column": 23
        },
        {
         "uid": "7ba5e77ea9925ed284ad40f8d90a651c",
         "body": "Carpisa Foods lleva 35 años construyendo su pequeño imperio cárnico hamburguesa a",
         "title": "Un imperio a base de hamburguesas",
         "url": "https://elpais.com/economia/2021-08-18/un-imperio-a-base-de-hamburguesas.html",
         "origin_path": "output/elpais_2021_08_18_articles.csv",
         "newspaper_uid": "elpais",
         "host": "elpais.com",
         "n_tokens_title": 3,
         "n_tokens_body": 9,
         "_deepnote_index_column": 24
        },
        {
         "uid": "403bcd97577ac52db106a168323c6f87",
         "body": "En el norte",
         "title": "Pueblos mayas en Guatemala presionan al BID para que retire su inversión en dos hidroeléctricas",
         "url": "https://elpais.com/economia/2021-08-18/pueblos-mayas-en-guatemala-presionan-al-bid-para-que-retire-…",
         "origin_path": "output/elpais_2021_08_18_articles.csv",
         "newspaper_uid": "elpais",
         "host": "elpais.com",
         "n_tokens_title": 9,
         "n_tokens_body": 1,
         "_deepnote_index_column": 25
        },
        {
         "uid": "b5304c1061c2aa664d39669994d74c17",
         "body": "La Agencia Europea del Medicamento (EMA) se enfrenta a una de las misiones más delicadas de sus 26 …",
         "title": "Los nuevos tratamientos contra el alzhéimer ponen a la Agencia Europea del Medicamento ante su deci…",
         "url": "https://elpais.com/sociedad/2021-08-18/los-nuevos-tratamientos-contra-el-alzheimer-ponen-a-la-agenc…",
         "origin_path": "output/elpais_2021_08_18_articles.csv",
         "newspaper_uid": "elpais",
         "host": "elpais.com",
         "n_tokens_title": 9,
         "n_tokens_body": 35,
         "_deepnote_index_column": 26
        },
        {
         "uid": "00d8310361fa2cb8ce3ad46c1dff75e7",
         "body": "El ingeniero informático, militar y estadista",
         "title": "El conflicto de Tigray en Etiopía se expande a otras regiones",
         "url": "https://elpais.com/internacional/2021-08-18/el-conflicto-de-tigray-en-etiopia-se-expande-a-otras-re…",
         "origin_path": "output/elpais_2021_08_18_articles.csv",
         "newspaper_uid": "elpais",
         "host": "elpais.com",
         "n_tokens_title": 5,
         "n_tokens_body": 4,
         "_deepnote_index_column": 27
        },
        {
         "uid": "10c997876a960042a948bd6625078a6c",
         "body": "“Fueron cinco años de vida y de relación increíbles, también con mis hijas. Aprendimos mucho. Y aho…",
         "title": "Alex Rodriguez, “agradecido” por su relación con Jennifer Lopez después de que ella lo elimine de I…",
         "url": "https://elpais.com/gente/2021-08-18/alex-rodriguez-agradecido-por-su-relacion-con-jennifer-lopez-de…",
         "origin_path": "output/elpais_2021_08_18_articles.csv",
         "newspaper_uid": "elpais",
         "host": "elpais.com",
         "n_tokens_title": 9,
         "n_tokens_body": 41,
         "_deepnote_index_column": 28
        },
        {
         "uid": "94b276f73a895c3ae3df23c3b7465ff9",
         "body": "Por primera vez en 521 días, los alumnos de primaria de la ciudad de Buenos Aires volvieron este ma…",
         "title": "La ciudad de Buenos Aires recupera la “presencialidad plena” en las aulas ante el descenso de casos…",
         "url": "https://elpais.com/internacional/2021-08-17/la-ciudad-de-buenos-aires-recupera-la-presencialidad-pl…",
         "origin_path": "output/elpais_2021_08_18_articles.csv",
         "newspaper_uid": "elpais",
         "host": "elpais.com",
         "n_tokens_title": 10,
         "n_tokens_body": 28,
         "_deepnote_index_column": 29
        },
        {
         "uid": "fa99c7f010559d35062ff3388c7934de",
         "body": "Esta historia comienza en 2018 en un restaurante de comida familiar en pleno centro histórico de Ib…",
         "title": "Las denuncias de los timados por Jonathan, el ‘amigo’ estafador",
         "url": "https://elpais.com/espana/2021-08-18/las-denuncias-de-los-timados-por-jonathan-el-amigo-estafador.h…",
         "origin_path": "output/elpais_2021_08_18_articles.csv",
         "newspaper_uid": "elpais",
         "host": "elpais.com",
         "n_tokens_title": 5,
         "n_tokens_body": 24,
         "_deepnote_index_column": 30
        },
        {
         "uid": "195faa435c7500294a46f6af2193a013",
         "body": ", de 36 años, será madre por segunda vez, según ha confirmado su marido y padre del bebé, durante u…",
         "title": "Scarlett Johansson va a ser madre por segunda vez",
         "url": "https://elpais.com/gente/2021-08-18/scarlett-johansson-va-a-ser-madre-por-segunda-vez.html",
         "origin_path": "output/elpais_2021_08_18_articles.csv",
         "newspaper_uid": "elpais",
         "host": "elpais.com",
         "n_tokens_title": 7,
         "n_tokens_body": 21,
         "_deepnote_index_column": 31
        },
        {
         "uid": "0ca8e6a6a5d2eda1e87cebf6a15ed5db",
         "body": "Sabemos que una mera correlación no implica una relación causal. Por ejemplo, que los barrios donde…",
         "title": "El enigma del grizzly",
         "url": "https://elpais.com/revista-de-verano/2021-08-18/el-enigma-del-grizzly.html",
         "origin_path": "output/elpais_2021_08_18_articles.csv",
         "newspaper_uid": "elpais",
         "host": "elpais.com",
         "n_tokens_title": 2,
         "n_tokens_body": 59,
         "_deepnote_index_column": 32
        },
        {
         "uid": "3cfe143448bd18bfa995ac943d00b9b1",
         "body": "Es difícil sonar más apasionado por teléfono que",
         "title": "D’Artacán, un mosqueperro para el siglo XXI",
         "url": "https://elpais.com/revista-de-verano/2021-08-18/dartacan-un-mosqueperro-para-el-siglo-xxi.html",
         "origin_path": "output/elpais_2021_08_18_articles.csv",
         "newspaper_uid": "elpais",
         "host": "elpais.com",
         "n_tokens_title": 5,
         "n_tokens_body": 4,
         "_deepnote_index_column": 33
        },
        {
         "uid": "7e299d21eb680a07800ef1dda2066676",
         "body": "Dice",
         "title": "Karl Deisseroth: “Nuestro entendimiento como seres humanos y animales viene de las plantas”",
         "url": "https://elpais.com/ideas/2021-08-15/karl-deisseroth-nuestro-entendimiento-como-seres-humanos-y-anim…",
         "origin_path": "output/elpais_2021_08_18_articles.csv",
         "newspaper_uid": "elpais",
         "host": "elpais.com",
         "n_tokens_title": 8,
         "n_tokens_body": 1,
         "_deepnote_index_column": 34
        },
        {
         "uid": "b9f93c44c0d3edcb9edf0a7a166009d0",
         "body": "La",
         "title": "La inflación acelera en la zona euro hasta el 2,2%, el máximo en casi tres años",
         "url": "https://elpais.com/economia/2021-08-18/la-inflacion-acelera-en-la-zona-euro-hasta-el-22-el-maximo-e…",
         "origin_path": "output/elpais_2021_08_18_articles.csv",
         "newspaper_uid": "elpais",
         "host": "elpais.com",
         "n_tokens_title": 8,
         "n_tokens_body": 0,
         "_deepnote_index_column": 35
        },
        {
         "uid": "62d251aed694ce3a67c083782acf6ee0",
         "body": "El presidente",
         "title": "La Corte Suprema de Brasil quita oxígeno a la escalada autoritaria de Jair Bolsonaro",
         "url": "https://elpais.com/internacional/2021-08-17/la-corte-suprema-de-brasil-quita-oxigeno-a-la-escalada-…",
         "origin_path": "output/elpais_2021_08_18_articles.csv",
         "newspaper_uid": "elpais",
         "host": "elpais.com",
         "n_tokens_title": 9,
         "n_tokens_body": 1,
         "_deepnote_index_column": 36
        },
        {
         "uid": "dd2b7cd660f24fcc1260f69761cab41b",
         "body": "respetado ejecutivo de la industria discográfica española, falleció esta madrugada en Madrid, vícti…",
         "title": "Muere José María Cámara, figura esencial de la industria discográfica en España",
         "url": "https://elpais.com/cultura/2021-08-18/muere-jose-maria-camara-figura-esencial-de-la-industria-disco…",
         "origin_path": "output/elpais_2021_08_18_articles.csv",
         "newspaper_uid": "elpais",
         "host": "elpais.com",
         "n_tokens_title": 9,
         "n_tokens_body": 30,
         "_deepnote_index_column": 37
        },
        {
         "uid": "6ac513417ab4b5d19eb5ef987e1443a4",
         "body": "que se ha convertido en una figura clave en la política del país en sus periodos de mayor crisis y …",
         "title": "Italia se encamina a un incierto recambio en la jefatura del Estado",
         "url": "https://elpais.com/internacional/2021-08-18/italia-se-encamina-a-un-incierto-recambio-en-la-jefatur…",
         "origin_path": "output/elpais_2021_08_18_articles.csv",
         "newspaper_uid": "elpais",
         "host": "elpais.com",
         "n_tokens_title": 5,
         "n_tokens_body": 50,
         "_deepnote_index_column": 38
        },
        {
         "uid": "8352b312453f7be47d4132dd739ec852",
         "body": "La directora de EL PAÍS, Pepa Bueno, ha nombrado a Jordi Gracia subdirector de Opinión. Gracia (Bar…",
         "title": "Jordi Gracia, subdirector de Opinión de EL PAÍS",
         "url": "https://elpais.com/comunicacion/2021-08-08/jordi-gracia-subdirector-de-opinion-de-el-pais.html",
         "origin_path": "output/elpais_2021_08_18_articles.csv",
         "newspaper_uid": "elpais",
         "host": "elpais.com",
         "n_tokens_title": 5,
         "n_tokens_body": 33,
         "_deepnote_index_column": 39
        },
        {
         "uid": "7fcd83208c1a91769b30bc47a550425a",
         "body": "Veredas repletas de vendedores ambulantes, repartidores de comida en bicicletas, mercadillos donde …",
         "title": "Formalizar la informalidad tras la pandemia en América Latina",
         "url": "https://elpais.com/america/economia/termometro-social-de-america/2021-08-12/formalizar-la-informali…",
         "origin_path": "output/elpais_2021_08_18_articles.csv",
         "newspaper_uid": "elpais",
         "host": "elpais.com",
         "n_tokens_title": 6,
         "n_tokens_body": 22,
         "_deepnote_index_column": 40
        },
        {
         "uid": "cca71beb57287801e7aa8b5318a6b799",
         "body": "No es fácil sobrevivir a un primer libro como",
         "title": "82 libros para el verano",
         "url": "https://elpais.com/babelia/2021-07-10/82-libros-de-verano.html",
         "origin_path": "output/elpais_2021_08_18_articles.csv",
         "newspaper_uid": "elpais",
         "host": "elpais.com",
         "n_tokens_title": 2,
         "n_tokens_body": 4,
         "_deepnote_index_column": 41
        },
        {
         "uid": "79df31a7e73497167f5509ab40960921",
         "body": "El régimen talibán deberá demostrar un compromiso en la práctica con los derechos humanos de las mu…",
         "title": "Boris Johnson: “Juzgaremos al régimen talibán por sus acciones, no por sus palabras”",
         "url": "https://elpais.com/internacional/2021-08-18/boris-johnson-juzgaremos-al-regimen-taliban-por-sus-acc…",
         "origin_path": "output/elpais_2021_08_18_articles.csv",
         "newspaper_uid": "elpais",
         "host": "elpais.com",
         "n_tokens_title": 7,
         "n_tokens_body": 20,
         "_deepnote_index_column": 42
        },
        {
         "uid": "f654ba4508be8d4aa35d45fd3689ca7c",
         "body": "Prometeo entregó a los humanos el fuego —piedra angular de nuestra civilización—, pero lo que nos e…",
         "title": "Nostalgia de permafrost",
         "url": "https://elpais.com/opinion/2021-08-18/nostalgia-de-permafrost.html",
         "origin_path": "output/elpais_2021_08_18_articles.csv",
         "newspaper_uid": "elpais",
         "host": "elpais.com",
         "n_tokens_title": 2,
         "n_tokens_body": 53,
         "_deepnote_index_column": 43
        },
        {
         "uid": "12c954eff12b5b42c071ca3c5e6cd33f",
         "body": "Los talibanes han intensificado este miércoles los contactos políticos con otros dirigentes afganos…",
         "title": "Los talibanes responden con violencia a las primeras protestas contra su control",
         "url": "https://elpais.com/internacional/2021-08-18/los-talibanes-responden-con-violencia-a-las-primeras-pr…",
         "origin_path": "output/elpais_2021_08_18_articles.csv",
         "newspaper_uid": "elpais",
         "host": "elpais.com",
         "n_tokens_title": 6,
         "n_tokens_body": 9,
         "_deepnote_index_column": 44
        },
        {
         "uid": "614b116987e639fd7bf5466e52904e08",
         "body": "La música popular está llena de historias increíbles. Desde hace un mes, una de ellas va siendo des…",
         "title": "La historia de Sly Stone, el genio calidoscópico que destruyó su gloria",
         "url": "https://elpais.com/cultura/2021/08/16/ruta_norteamericana/1629141664_247325.html",
         "origin_path": "output/elpais_2021_08_18_articles.csv",
         "newspaper_uid": "elpais",
         "host": "elpais.com",
         "n_tokens_title": 7,
         "n_tokens_body": 12,
         "_deepnote_index_column": 45
        },
        {
         "uid": "9fd89d39eae7dc2c756facfff56996b9",
         "body": "(El Cairo, 55 años) saluda al otro lado de la pantalla, delante de una pared forrada de libros, des…",
         "title": "Elham Manea: “El islamismo es una ideología de extrema derecha, cambia las sociedades”",
         "url": "https://elpais.com/ideas/2021-05-11/elham-manea-las-leyes-islamicas-violan-los-derechos-de-las-muje…",
         "origin_path": "output/elpais_2021_08_18_articles.csv",
         "newspaper_uid": "elpais",
         "host": "elpais.com",
         "n_tokens_title": 8,
         "n_tokens_body": 57,
         "_deepnote_index_column": 46
        },
        {
         "uid": "05c44775ca8c002f0777874a6f477d0e",
         "body": "Bajo la sombra, antes de la hora y con una bolsa de deporte llena de referentes —de Jane Austen a C…",
         "title": "María Reig: de montar un ‘crowdfunding’ para su libro a ser una superventas",
         "url": "https://elpais.com/eps/2021-08-18/maria-reig-de-montar-un-crowdfunding-para-su-libro-a-ser-una-supe…",
         "origin_path": "output/elpais_2021_08_18_articles.csv",
         "newspaper_uid": "elpais",
         "host": "elpais.com",
         "n_tokens_title": 7,
         "n_tokens_body": 41,
         "_deepnote_index_column": 47
        },
        {
         "uid": "e10d6d329f8ebeeb61cc7a2009fcb870",
         "body": "Haiti is the patient that never quite has the chance to recover. The",
         "title": "Haiti: a country in permanent crisis",
         "url": "https://english.elpais.com/usa/2021-08-16/haiti-a-country-in-permanent-crisis.html",
         "origin_path": "output/elpais_2021_08_18_articles.csv",
         "newspaper_uid": "english",
         "host": "english.elpais.com",
         "n_tokens_title": 5,
         "n_tokens_body": 12,
         "_deepnote_index_column": 48
        },
        {
         "uid": "8dbe4da7e55782ac210b220cdd5ea569",
         "body": "Todo el mundo dijo:",
         "title": "El perdón según Ali Smith, ¿o era Hannah Arendt?",
         "url": "https://elpais.com/babelia/2021-08-16/el-contexto-importa.html",
         "origin_path": "output/elpais_2021_08_18_articles.csv",
         "newspaper_uid": "elpais",
         "host": "elpais.com",
         "n_tokens_title": 6,
         "n_tokens_body": 2,
         "_deepnote_index_column": 49
        },
        {
         "uid": "afd70711444f8da85dc818eed326a001",
         "body": "No existen los días plácidos para",
         "title": "El inicio turbulento de Pedro Castillo en Perú",
         "url": "https://elpais.com/internacional/2021-08-18/el-inicio-turbulento-de-pedro-castillo-en-peru.html",
         "origin_path": "output/elpais_2021_08_18_articles.csv",
         "newspaper_uid": "elpais",
         "host": "elpais.com",
         "n_tokens_title": 5,
         "n_tokens_body": 3,
         "_deepnote_index_column": 50
        },
        {
         "uid": "768d0429289fd0e630d80dade58df4b3",
         "body": "Las nuevas disposiciones del",
         "title": "Las tensiones entre México y Estados Unidos crecen por los conflictos sindicales y las diferencias …",
         "url": "https://elpais.com/mexico/2021-08-18/las-tensiones-entre-mexico-y-estados-unidos-crecen-por-los-con…",
         "origin_path": "output/elpais_2021_08_18_articles.csv",
         "newspaper_uid": "elpais",
         "host": "elpais.com",
         "n_tokens_title": 7,
         "n_tokens_body": 2,
         "_deepnote_index_column": 51
        },
        {
         "uid": "bb77bda02c34d6ea253c21d25de46f49",
         "body": "Cae fuego en la calle, y en casa del músico",
         "title": "La magia de Buena Vista Social Club regresa 25 años después",
         "url": "https://elpais.com/revista-de-verano/2021-08-18/la-magia-de-buena-vista-social-club-regresa-25-anos…",
         "origin_path": "output/elpais_2021_08_18_articles.csv",
         "newspaper_uid": "elpais",
         "host": "elpais.com",
         "n_tokens_title": 8,
         "n_tokens_body": 5,
         "_deepnote_index_column": 52
        },
        {
         "uid": "62369b6fb41fe4173a9a51d2dfaac008",
         "body": "La pandemia de coronavirus está obligando a encontrar nuevas formas de ocio y tienta a pasar más ti…",
         "title": "Camperguru, la plataforma que quiere convertirse en la ‘Guía Michelin’ de los campistas",
         "url": "https://elpais.com/tecnologia/2021-08-18/camperguru-la-plataforma-que-quiere-convertirse-en-la-guia…",
         "origin_path": "output/elpais_2021_08_18_articles.csv",
         "newspaper_uid": "elpais",
         "host": "elpais.com",
         "n_tokens_title": 7,
         "n_tokens_body": 21,
         "_deepnote_index_column": 53
        },
        {
         "uid": "30456c5907696a99e43405b1a0db80a1",
         "body": "Nuestros primos más cercanos entre los grandes simios,",
         "title": "Cuidar de sus amistades es la mejor estrategia para los chimpancés",
         "url": "https://elpais.com/ciencia/2021-08-17/cuidar-de-sus-amistades-es-la-mejor-estrategia-para-los-chimp…",
         "origin_path": "output/elpais_2021_08_18_articles.csv",
         "newspaper_uid": "elpais",
         "host": "elpais.com",
         "n_tokens_title": 5,
         "n_tokens_body": 4,
         "_deepnote_index_column": 54
        },
        {
         "uid": "1fb18fdc1c821f13f0195ad22a7943c8",
         "body": "El informe del Grupo Interdisciplinario de Expertos Independientes de la Comisión Interamericana de…",
         "title": "El Grupo de Expertos de la CIDH concluye que hubo ejecuciones sumarias y masacres en la crisis polí…",
         "url": "https://elpais.com/internacional/2021-08-17/el-grupo-de-expertos-de-la-cidh-concluye-que-hubo-ejecu…",
         "origin_path": "output/elpais_2021_08_18_articles.csv",
         "newspaper_uid": "elpais",
         "host": "elpais.com",
         "n_tokens_title": 10,
         "n_tokens_body": 10,
         "_deepnote_index_column": 55
        },
        {
         "uid": "936fae52e3544b6109a832195aa2ffec",
         "body": "In his iconic 1995 book on the Haitian revolution,",
         "title": "The conquest of Mexico under question, 500 years on",
         "url": "https://english.elpais.com/usa/2021-08-09/the-conquest-of-mexico-under-question-500-years-on.html",
         "origin_path": "output/elpais_2021_08_18_articles.csv",
         "newspaper_uid": "english",
         "host": "english.elpais.com",
         "n_tokens_title": 8,
         "n_tokens_body": 8,
         "_deepnote_index_column": 56
        },
        {
         "uid": "349964cc50aed76c4478fa4773be38ed",
         "body": "El amor como amenaza. No como disfrute, como apoyo, como acompañamiento, como catalizador del deseo…",
         "title": "Cristina Rivera Garza: “La palabra escrita puede convocar apariciones”",
         "url": "https://elpais.com/babelia/2021-08-17/cristina-rivera-garza-la-palabra-escrita-puede-convocar-apari…",
         "origin_path": "output/elpais_2021_08_18_articles.csv",
         "newspaper_uid": "elpais",
         "host": "elpais.com",
         "n_tokens_title": 8,
         "n_tokens_body": 26,
         "_deepnote_index_column": 57
        },
        {
         "uid": "2b8d5be1929fa294352af11d44991575",
         "body": "El ser humano lleva 400.000 generaciones habitando este orbe de azul y tierra. Ha soportado semanas…",
         "title": "El control del agua: la guerra económica que se avecina",
         "url": "https://elpais.com/economia/2021-08-15/el-control-del-agua-la-guerra-economica-que-se-avecina.html",
         "origin_path": "output/elpais_2021_08_18_articles.csv",
         "newspaper_uid": "elpais",
         "host": "elpais.com",
         "n_tokens_title": 5,
         "n_tokens_body": 30,
         "_deepnote_index_column": 58
        },
        {
         "uid": "b62c492a669fa22e1e174bad2f695593",
         "body": "En medio de la guerra civil que arrasó Afganistán tras la retirada de las tropas soviéticas, a medi…",
         "title": "Todas las guerras perdidas de Afganistán",
         "url": "https://elpais.com/babelia/2021-08-18/todas-las-guerras-perdidas-de-afganistan.html",
         "origin_path": "output/elpais_2021_08_18_articles.csv",
         "newspaper_uid": "elpais",
         "host": "elpais.com",
         "n_tokens_title": 4,
         "n_tokens_body": 21,
         "_deepnote_index_column": 59
        },
        {
         "uid": "d7f4a4d932f2f7a3069b7a8ed04384d7",
         "body": "El consejo de administración de EL PAÍS ha ratificado este lunes por unanimidad el nombramiento de …",
         "title": "El consejo de administración de EL PAÍS ratifica el nombramiento de Pepa Bueno como directora",
         "url": "https://elpais.com/sociedad/2021-08-02/el-consejo-de-administracion-de-el-pais-ratifica-el-nombrami…",
         "origin_path": "output/elpais_2021_08_18_articles.csv",
         "newspaper_uid": "elpais",
         "host": "elpais.com",
         "n_tokens_title": 8,
         "n_tokens_body": 24,
         "_deepnote_index_column": 60
        },
        {
         "uid": "2300859879b755db2306cf923f58b07c",
         "body": "Mustafa Murat Ayhan confesó a principios de agosto haber violado, matado y descuartizado a Azra Gül…",
         "title": "Las lucha de las mujeres turcas por sus derechos (ahora que nada las protege)",
         "url": "https://elpais.com/planeta-futuro/2021-08-17/las-mujeres-turcas-resisten-las-embestidas-contra-sus-…",
         "origin_path": "output/elpais_2021_08_18_articles.csv",
         "newspaper_uid": "elpais",
         "host": "elpais.com",
         "n_tokens_title": 6,
         "n_tokens_body": 46,
         "_deepnote_index_column": 61
        },
        {
         "uid": "4107ef1f8899d026719d40b16867f904",
         "body": "Las tres temporadas de",
         "title": "‘Land Girls’ o la imbatible calidad de la BBC",
         "url": "https://elpais.com/television/2021-08-18/land-girls-o-la-imbatible-calidad-de-la-bbc.html",
         "origin_path": "output/elpais_2021_08_18_articles.csv",
         "newspaper_uid": "elpais",
         "host": "elpais.com",
         "n_tokens_title": 5,
         "n_tokens_body": 2,
         "_deepnote_index_column": 62
        },
        {
         "uid": "0deda4edf603719e541f2e6c85696925",
         "body": "Después de 32 años tras las rejas, el que fuera el primer gran capo de la droga de la historia de M…",
         "title": "El jefe de jefes del narco mexicano lo niega todo",
         "url": "https://elpais.com/mexico/2021-08-18/el-jefe-de-jefes-del-narco-mexicano-lo-niega-todo.html",
         "origin_path": "output/elpais_2021_08_18_articles.csv",
         "newspaper_uid": "elpais",
         "host": "elpais.com",
         "n_tokens_title": 5,
         "n_tokens_body": 32,
         "_deepnote_index_column": 63
        },
        {
         "uid": "b0239689e18981f4e8a227577980cef2",
         "body": "Isabel Andrade, de 18 años, fue una de las primeras en llegar el sábado a uno de los puestos de vac…",
         "title": "“Esperanza fiestera”: Brasil supera a EE UU en adultos vacunados con una primera dosis contra la co…",
         "url": "https://elpais.com/internacional/2021-08-17/esperanza-fiestera-brasil-supera-a-ee-uu-en-adultos-vac…",
         "origin_path": "output/elpais_2021_08_18_articles.csv",
         "newspaper_uid": "elpais",
         "host": "elpais.com",
         "n_tokens_title": 10,
         "n_tokens_body": 49,
         "_deepnote_index_column": 64
        },
        {
         "uid": "dcc5904e4b0fdb61c4bb28b16086f3e6",
         "body": "Como parte de la transición política vivida en todo el país tras los pasados",
         "title": "Avances legislativos para los mexiquenses",
         "url": "https://elpais.com/sociedad/2021-08-13/avances-legislativos-para-los-mexiquenses.html",
         "origin_path": "output/elpais_2021_08_18_articles.csv",
         "newspaper_uid": "elpais",
         "host": "elpais.com",
         "n_tokens_title": 3,
         "n_tokens_body": 7,
         "_deepnote_index_column": 65
        },
        {
         "uid": "5a9f8bd70bdf0b449d0c8a7ea12ff08e",
         "body": "Los países de América Latina están migrando hacia modelos de desarrollos sostenibles y circulares, …",
         "title": "Transformando el futuro del transporte público en América Latina",
         "url": "https://elpais.com/sociedad/2021-08-16/transformando-el-futuro-del-transporte-publico-en-america-la…",
         "origin_path": "output/elpais_2021_08_18_articles.csv",
         "newspaper_uid": "elpais",
         "host": "elpais.com",
         "n_tokens_title": 6,
         "n_tokens_body": 26,
         "_deepnote_index_column": 66
        },
        {
         "uid": "48d5bdeaee8c53ba050b264e9d93b22c",
         "body": "Como muchas otras personas que durante el último año han estado tratando de figurarse cómo confront…",
         "title": "Sumergirse en un mar, bosque o libro ayuda a la creatividad",
         "url": "https://elpais.com/eps/2021-08-12/inmersion-sumergirse-siempre-en-todo.html",
         "origin_path": "output/elpais_2021_08_18_articles.csv",
         "newspaper_uid": "elpais",
         "host": "elpais.com",
         "n_tokens_title": 6,
         "n_tokens_body": 39,
         "_deepnote_index_column": 67
        },
        {
         "uid": "14edfa386661333965e37483718b074c",
         "body": "lo jugó casi todos los partidos de la Liga de la pasada temporada. Solo se perdió el último, intras…",
         "title": "La infinita fábrica de porteros del Athletic",
         "url": "https://elpais.com/deportes/2021-08-18/la-infinita-fabrica-de-porteros-del-athletic.html",
         "origin_path": "output/elpais_2021_08_18_articles.csv",
         "newspaper_uid": "elpais",
         "host": "elpais.com",
         "n_tokens_title": 4,
         "n_tokens_body": 10,
         "_deepnote_index_column": 68
        },
        {
         "uid": "d9a8516458f3387ce439b70ebb28b40b",
         "body": "Los talibanes no mandaban en Afganistán desde 2001. Aquel año la burbuja de internet había explotad…",
         "title": "El drama digital en Afganistán: borrarse de las redes y limpiar el historial en internet para escap…",
         "url": "https://elpais.com/tecnologia/2021-08-18/el-drama-digital-en-afganistan-borrarse-de-las-redes-y-lim…",
         "origin_path": "output/elpais_2021_08_18_articles.csv",
         "newspaper_uid": "elpais",
         "host": "elpais.com",
         "n_tokens_title": 10,
         "n_tokens_body": 58,
         "_deepnote_index_column": 69
        },
        {
         "uid": "46d38c85dc19970ce6340e9f326d37c0",
         "body": "y cambiar las prácticas agrícolas actuales para prevenir futuras pandemias. Así ha concluido el Gru…",
         "title": "El riesgo de pandemias ha aumentado en las últimas cinco décadas por el maltrato al planeta",
         "url": "https://elpais.com/planeta-futuro/2021-08-18/el-riesgo-de-pandemias-ha-aumentado-en-las-ultimas-cin…",
         "origin_path": "output/elpais_2021_08_18_articles.csv",
         "newspaper_uid": "elpais",
         "host": "elpais.com",
         "n_tokens_title": 8,
         "n_tokens_body": 26,
         "_deepnote_index_column": 70
        },
        {
         "uid": "4450239055bcab32fcad922c8b70e274",
         "body": "“Son las decisiones que tomamos ahora, para aliviar el sufrimiento entre aquellos que conocemos y a…",
         "title": "Meghan Markle y el príncipe Enrique llaman a la acción frente a la situación en Afganistán y Haití",
         "url": "https://elpais.com/gente/2021-08-18/meghan-markle-y-el-principe-enrique-llaman-a-la-accion-frente-a…",
         "origin_path": "output/elpais_2021_08_18_articles.csv",
         "newspaper_uid": "elpais",
         "host": "elpais.com",
         "n_tokens_title": 10,
         "n_tokens_body": 19,
         "_deepnote_index_column": 71
        },
        {
         "uid": "06df0d5f3196ea2262c5e86b7e4d4107",
         "body": "La arqueología política permite imaginar la democratización de Cuba a través de la Constitución de …",
         "title": "Aleccionadora prehistoria cubana",
         "url": "https://elpais.com/opinion/2021-08-17/aleccionadora-prehistoria-cubana.html",
         "origin_path": "output/elpais_2021_08_18_articles.csv",
         "newspaper_uid": "elpais",
         "host": "elpais.com",
         "n_tokens_title": 3,
         "n_tokens_body": 11,
         "_deepnote_index_column": 72
        },
        {
         "uid": "387262dd07a314615adff7d9cb46f0cf",
         "body": "Costa de Marfil comenzó este lunes una amplia campaña de vacunación para hacer frente al brote de é…",
         "title": "Costa de Marfil comienza a vacunar contra el ébola",
         "url": "https://elpais.com/planeta-futuro/2021-08-18/costa-de-marfil-comienza-a-vacunar-contra-el-ebola.html",
         "origin_path": "output/elpais_2021_08_18_articles.csv",
         "newspaper_uid": "elpais",
         "host": "elpais.com",
         "n_tokens_title": 5,
         "n_tokens_body": 14,
         "_deepnote_index_column": 73
        },
        {
         "uid": "cf130ca4f859cccda713e344392cfbd7",
         "body": "Joe Biden ha anunciado este miércoles un plan para ofrecer",
         "title": "EE UU planea ofrecer en septiembre una tercera dosis de la vacuna a la población general para ataja…",
         "url": "https://elpais.com/sociedad/2021-08-18/ee-uu-planea-ofrecer-en-septiembre-una-tercera-dosis-de-la-v…",
         "origin_path": "output/elpais_2021_08_18_articles.csv",
         "newspaper_uid": "elpais",
         "host": "elpais.com",
         "n_tokens_title": 13,
         "n_tokens_body": 6,
         "_deepnote_index_column": 74
        },
        {
         "uid": "ba489a6ba404a5dec6481603288bfe6a",
         "body": "Hasta que a Rosa María Montano Ullune le diagnosticaron osteogénesis imperfecta —una enfermedad con…",
         "title": "Cómo hacer para que lo ‘normal’ deje de ser excluyente",
         "url": "https://elpais.com/planeta-futuro/2021-08-18/como-hacer-para-que-lo-normal-deje-de-ser-excluyente.h…",
         "origin_path": "output/elpais_2021_08_18_articles.csv",
         "newspaper_uid": "elpais",
         "host": "elpais.com",
         "n_tokens_title": 6,
         "n_tokens_body": 32,
         "_deepnote_index_column": 75
        },
        {
         "uid": "e4ce3100743e4f930764cb0a75d08a16",
         "body": "The future has arrived, thinks María del Carmen Montero. The recently inaugurated cable car reminds…",
         "title": "Iztapalapa: a round trip in Latin America’s longest cable car",
         "url": "https://english.elpais.com/usa/2021-08-18/iztapalapa-a-round-trip-in-latin-americas-longest-cable-c…",
         "origin_path": "output/elpais_2021_08_18_articles.csv",
         "newspaper_uid": "english",
         "host": "english.elpais.com",
         "n_tokens_title": 10,
         "n_tokens_body": 15,
         "_deepnote_index_column": 76
        },
        {
         "uid": "a70ed446ad5aee4ba78ac2f28fad7a0d",
         "body": "En otoño de 2013",
         "title": "El emblema de un horror inadmisible",
         "url": "https://elpais.com/internacional/2021-08-18/el-emblema-de-un-horror-inadmisible.html",
         "origin_path": "output/elpais_2021_08_18_articles.csv",
         "newspaper_uid": "elpais",
         "host": "elpais.com",
         "n_tokens_title": 3,
         "n_tokens_body": 1,
         "_deepnote_index_column": 77
        },
        {
         "uid": "aceb7f33242825c2725a2f598a8c4c49",
         "body": "Las",
         "title": "Las negociaciones en México dejan en la sombra la estructura creada por Juan Guaidó",
         "url": "https://elpais.com/internacional/2021-08-18/las-negociaciones-en-mexico-dejan-en-la-sombra-la-estru…",
         "origin_path": "output/elpais_2021_08_18_articles.csv",
         "newspaper_uid": "elpais",
         "host": "elpais.com",
         "n_tokens_title": 8,
         "n_tokens_body": 0,
         "_deepnote_index_column": 78
        },
        {
         "uid": "674b3ba18c0e4185e018ac3c83b7a50a",
         "body": "Mensaje tipo de",
         "title": "La voz de los talibanes ya tiene (un) rostro",
         "url": "https://elpais.com/internacional/2021-08-18/la-voz-de-los-talibanes-ya-tiene-un-rostro.html",
         "origin_path": "output/elpais_2021_08_18_articles.csv",
         "newspaper_uid": "elpais",
         "host": "elpais.com",
         "n_tokens_title": 3,
         "n_tokens_body": 2,
         "_deepnote_index_column": 79
        },
        {
         "uid": "4eff6ff4b44c444bdffbd7e60e8ad9df",
         "body": "El exilio no es aquel lugar dorado que algún día le contaron.",
         "title": "Washington, la capital de la justicia guatemalteca en el exilio",
         "url": "https://elpais.com/internacional/2021-08-16/washington-la-capital-de-la-justicia-guatemalteca-en-el…",
         "origin_path": "output/elpais_2021_08_18_articles.csv",
         "newspaper_uid": "elpais",
         "host": "elpais.com",
         "n_tokens_title": 5,
         "n_tokens_body": 7,
         "_deepnote_index_column": 80
        },
        {
         "uid": "66c43e1f768e56ee98a29850ac320faf",
         "body": "Con información de",
         "title": "Consejo Moral apoya memorándum de Entendimiento al diálogo en México",
         "url": "http://www.eluniversal.com/politica/104729/consejo-moral-apoya-memorandum-de-entendimiento-al-dialo…",
         "origin_path": "output/eluniversal_2021_08_18_articles.csv",
         "newspaper_uid": "eluniversal",
         "host": "www.eluniversal.com",
         "n_tokens_title": 7,
         "n_tokens_body": 1,
         "_deepnote_index_column": 81
        },
        {
         "uid": "eb7da4be5403ae9d114da75033041508",
         "body": "A juicio del abogado y criminólogo Luis Izquiel, “es positivo que se haya realizado el operativo qu…",
         "title": "Otras bandas esperan para ocupar el espacio que dejaron Koki y Loco Leo",
         "url": "http://www.eluniversal.com/sucesos/104075/otras-bandas-esperan-para-ocupar-el-espacio-que-dejaron-k…",
         "origin_path": "output/eluniversal_2021_08_18_articles.csv",
         "newspaper_uid": "eluniversal",
         "host": "www.eluniversal.com",
         "n_tokens_title": 8,
         "n_tokens_body": 18,
         "_deepnote_index_column": 82
        },
        {
         "uid": "73e81e8615ae0846001b332105cf8a93",
         "body": "La importante casa de sangrías conquista el mercado y los paladares más exigentes a través del lanz…",
         "title": "Lolea Rosé, la nueva propuesta burbujeante e innovadora de la casa española Lolea",
         "url": "http://www.eluniversal.com/gastronomia/104756/lolea-rose-la-nueva-propuesta-burbujeante-e-innovador…",
         "origin_path": "output/eluniversal_2021_08_18_articles.csv",
         "newspaper_uid": "eluniversal",
         "host": "www.eluniversal.com",
         "n_tokens_title": 9,
         "n_tokens_body": 43,
         "_deepnote_index_column": 83
        },
        {
         "uid": "8494fa066edccdfeb9a9b592541598a0",
         "body": "A través de la red social Twitter, el diplomático venezolano aseguró que esperan seguir trabajando …",
         "title": "Arreaza espera trabajar con respeto y cooperación con nuevo representante ONU en Venezuela",
         "url": "http://www.eluniversal.com/politica/104738/arreaza-espera-trabajar-con-respeto-y-cooperacion-con-nu…",
         "origin_path": "output/eluniversal_2021_08_18_articles.csv",
         "newspaper_uid": "eluniversal",
         "host": "www.eluniversal.com",
         "n_tokens_title": 9,
         "n_tokens_body": 15,
         "_deepnote_index_column": 84
        },
        {
         "uid": "5854e4d756185dd62467ffbc21647ffc",
         "body": "Los datos obtenidos durante la jornada reflejaron una elevación porcentual del 1,53%, frente a los …",
         "title": "Bolsa de Valores de Caracas cerró la jornada con números verdes",
         "url": "http://www.eluniversal.com/economia/104748/bolsa-de-valores-de-caracas-cerro-la-jornada-con-numeros…",
         "origin_path": "output/eluniversal_2021_08_18_articles.csv",
         "newspaper_uid": "eluniversal",
         "host": "www.eluniversal.com",
         "n_tokens_title": 7,
         "n_tokens_body": 10,
         "_deepnote_index_column": 85
        },
        {
         "uid": "e5bc2870b281c93950c1b5942b073fca",
         "body": "nan",
         "title": "En la tierra",
         "url": "http://www.eluniversal.com/el-universal/104590/en-la-tierra",
         "origin_path": "output/eluniversal_2021_08_18_articles.csv",
         "newspaper_uid": "eluniversal",
         "host": "www.eluniversal.com",
         "n_tokens_title": 1,
         "n_tokens_body": 0,
         "_deepnote_index_column": 86
        },
        {
         "uid": "3f50f8c44349d3e680e8706e04b416e1",
         "body": "nan",
         "title": "Dieciocho candidatas competirán por el título del Miss Venezuela 2021",
         "url": "http://www.eluniversal.com/entretenimiento/104700/dieciocho-candidatas-competiran-por-el-titulo-del…",
         "origin_path": "output/eluniversal_2021_08_18_articles.csv",
         "newspaper_uid": "eluniversal",
         "host": "www.eluniversal.com",
         "n_tokens_title": 6,
         "n_tokens_body": 0,
         "_deepnote_index_column": 87
        },
        {
         "uid": "176f6fb1c1ddc91ef69115e23e7663bb",
         "body": "El belga consiguió en la meta de Albacete su segundo triunfo en esta Vuelta después del logrado en …",
         "title": "El francés Kenny Elissonde es el nuevo maillot rojo de la Vuelta a España",
         "url": "http://www.eluniversal.com/deportes/104740/el-frances-kenny-elissonde-es-el-nuevo-maillot-rojo-de-l…",
         "origin_path": "output/eluniversal_2021_08_18_articles.csv",
         "newspaper_uid": "eluniversal",
         "host": "www.eluniversal.com",
         "n_tokens_title": 8,
         "n_tokens_body": 25,
         "_deepnote_index_column": 88
        },
        {
         "uid": "688f2993c53e9b1a284d9af9393b25cc",
         "body": "nan",
         "title": "Reportan avería en cableado de Línea 2 del Metro de Caracas",
         "url": "http://www.eluniversal.com/caracas/104556/reportan-averia-en-cableado-de-linea-2-del-metro-de-carac…",
         "origin_path": "output/eluniversal_2021_08_18_articles.csv",
         "newspaper_uid": "eluniversal",
         "host": "www.eluniversal.com",
         "n_tokens_title": 6,
         "n_tokens_body": 0,
         "_deepnote_index_column": 89
        },
        {
         "uid": "d659992471b2709c7819a7962549af06",
         "body": "nan",
         "title": "Onda tropical N° 36 generará lluvias en gran parte del país",
         "url": "http://www.eluniversal.com/venezuela/104704/onda-tropical-n-36-generara-lluvias-en-gran-parte-del-p…",
         "origin_path": "output/eluniversal_2021_08_18_articles.csv",
         "newspaper_uid": "eluniversal",
         "host": "www.eluniversal.com",
         "n_tokens_title": 7,
         "n_tokens_body": 0,
         "_deepnote_index_column": 90
        },
        {
         "uid": "22498a78cafc228d70ee2a50f788e0f3",
         "body": "Por otra parte, la revista francesa Paris Macht ha publicado que Charlene tiene entre sus amistades…",
         "title": "Una numeróloga en la vida de la princesa Charlene",
         "url": "http://www.eluniversal.com/sociales/104640/una-numerologa-en-la-vida-de-charlene",
         "origin_path": "output/eluniversal_2021_08_18_articles.csv",
         "newspaper_uid": "eluniversal",
         "host": "www.eluniversal.com",
         "n_tokens_title": 4,
         "n_tokens_body": 30,
         "_deepnote_index_column": 91
        },
        {
         "uid": "5786b3ffb846ce61e7efacce8c54c957",
         "body": "De acuerdo con el documento, el Ejecutivo después de más de 18 meses, “recibirá este mes de agosto …",
         "title": "Socías López: Venezuela recibirá más de $1.500 por exportación petrolera",
         "url": "http://www.eluniversal.com/economia/104728/socias-lopez-venezuela-recibira-mas-de-1500-por-exportac…",
         "origin_path": "output/eluniversal_2021_08_18_articles.csv",
         "newspaper_uid": "eluniversal",
         "host": "www.eluniversal.com",
         "n_tokens_title": 6,
         "n_tokens_body": 22,
         "_deepnote_index_column": 92
        },
        {
         "uid": "c3a763e65091c2ecb3beb0d7f945e762",
         "body": "Detenido e imputado en Lara el aberrado sexual José Parra (42 años) por los delitos de actos lasciv…",
         "title": "Detienen a depravado sexual en Lara",
         "url": "http://www.eluniversal.com/venezuela/104526/detienen-a-depravado-sexual-en-lara",
         "origin_path": "output/eluniversal_2021_08_18_articles.csv",
         "newspaper_uid": "eluniversal",
         "host": "www.eluniversal.com",
         "n_tokens_title": 4,
         "n_tokens_body": 25,
         "_deepnote_index_column": 93
        },
        {
         "uid": "d56d8b58b9a78aeb5318c24277cc8b1d",
         "body": "Venezuela Sin Límites es un articulador de alianzas, dice su presidenta Mireya Blavia de Cisneros (…",
         "title": "Venezuela Sin Límites: 22 años de solidaridad en hechos concretos",
         "url": "http://www.eluniversal.com/sociales/104622/venezuela-sin-limites-22-anos-de-solidaridad-en-hechos-c…",
         "origin_path": "output/eluniversal_2021_08_18_articles.csv",
         "newspaper_uid": "eluniversal",
         "host": "www.eluniversal.com",
         "n_tokens_title": 6,
         "n_tokens_body": 10,
         "_deepnote_index_column": 94
        },
        {
         "uid": "6092da2cf351a96be9cea86fee735918",
         "body": "La mucormicosis afecta principalmente a pacientes con problemas de salud de base, como diabetes o s…",
         "title": "Gobernador de Mérida confirmó primer caso de hongo negro relacionado con Covid-19",
         "url": "http://www.eluniversal.com/venezuela/104726/gobernador-de-merida-confirmo-primer-caso-de-hongo-negr…",
         "origin_path": "output/eluniversal_2021_08_18_articles.csv",
         "newspaper_uid": "eluniversal",
         "host": "www.eluniversal.com",
         "n_tokens_title": 8,
         "n_tokens_body": 19,
         "_deepnote_index_column": 95
        },
        {
         "uid": "f10a37d81e67aa6d62064e2c43077853",
         "body": "nan",
         "title": "Esposo de Scarlett Johansson confirma que la actriz está embarazada",
         "url": "http://www.eluniversal.com/entretenimiento/104708/esposo-de-scarlett-johansson-confirma-que-la-actr…",
         "origin_path": "output/eluniversal_2021_08_18_articles.csv",
         "newspaper_uid": "eluniversal",
         "host": "www.eluniversal.com",
         "n_tokens_title": 6,
         "n_tokens_body": 0,
         "_deepnote_index_column": 96
        },
        {
         "uid": "034ea5e51b4b864ad1437471f83fa1ac",
         "body": "Los municipios Ezequiel Zamora, Antonio José de Sucre y Pedraza de Barinas, están en una crítica si…",
         "title": "Inundación en tres municipios de Barinas al desbordarse los ríos Suripá y Anaro",
         "url": "http://www.eluniversal.com/venezuela/104753/inundacion-en-tres-municipios-de-barinas-al-desbordarse…",
         "origin_path": "output/eluniversal_2021_08_18_articles.csv",
         "newspaper_uid": "eluniversal",
         "host": "www.eluniversal.com",
         "n_tokens_title": 8,
         "n_tokens_body": 23,
         "_deepnote_index_column": 97
        },
        {
         "uid": "6abc95056e36f655fba0424634cf956d",
         "body": "No se registraron heridos ni daños graves.",
         "title": "Se registró incendio en la sede del Saime de Plaza Caracas este martes",
         "url": "http://www.eluniversal.com/caracas/104625/reportaron-incendio-en-sede-del-saime-de-plaza-caracas-es…",
         "origin_path": "output/eluniversal_2021_08_18_articles.csv",
         "newspaper_uid": "eluniversal",
         "host": "www.eluniversal.com",
         "n_tokens_title": 7,
         "n_tokens_body": 4,
         "_deepnote_index_column": 98
        },
        {
         "uid": "3a9d24f94bd5b149fac28e4cb8118174",
         "body": "Vicente Fernández Jr. aseguró que los rumores sobre que su padre, Vicente Fernández, sufra el síndr…",
         "title": "Familia desmiente que Vicente Fernández tenga el síndrome Guillain-Barré",
         "url": "http://www.eluniversal.com/entretenimiento/104702/familia-desmiente-que-vicente-fernandez-tenga-el-…",
         "origin_path": "output/eluniversal_2021_08_18_articles.csv",
         "newspaper_uid": "eluniversal",
         "host": "www.eluniversal.com",
         "n_tokens_title": 5,
         "n_tokens_body": 10,
         "_deepnote_index_column": 99
        },
        {
         "uid": "aef10800a98e4e8429e0ed0d1fbbbefe",
         "body": "•Renuncia del canciller de Perú, Héctor Béjar, por presiones de la Marina de Guerra.",
         "title": "Día a Día",
         "url": "http://www.eluniversal.com/politica/104682/dia-a-dia",
         "origin_path": "output/eluniversal_2021_08_18_articles.csv",
         "newspaper_uid": "eluniversal",
         "host": "www.eluniversal.com",
         "n_tokens_title": 2,
         "n_tokens_body": 7,
         "_deepnote_index_column": 100
        },
        {
         "uid": "5883b343c782ec896d8f8ab4b7316e75",
         "body": "Dominic Thiem se coronó campeón del último US Open disputado en Flushing Meadows, Nueva York, tras …",
         "title": "El campeón Dominic Thiem no defenderá su corona en el Abierto de Estados Unidos",
         "url": "http://www.eluniversal.com/deportes/104698/el-campeon-dominic-thiem-no-defendera-su-corona-en-el-us…",
         "origin_path": "output/eluniversal_2021_08_18_articles.csv",
         "newspaper_uid": "eluniversal",
         "host": "www.eluniversal.com",
         "n_tokens_title": 7,
         "n_tokens_body": 34,
         "_deepnote_index_column": 101
        },
        {
         "uid": "62c00ff8d98071303b3d3aa2eaf22f71",
         "body": "Venezuela reportó este martes un acumulado de 320.922 casos de Covid-19 -967 nuevos y 9.831 activos…",
         "title": "EEUU aprueba refuerzo anticoronavirus para contrarrestar disminución de eficacia de la vacuna",
         "url": "http://www.eluniversal.com/internacional/104716/eeuu-aprueba-refuerzo-anticoronavirus-para-contrarr…",
         "origin_path": "output/eluniversal_2021_08_18_articles.csv",
         "newspaper_uid": "eluniversal",
         "host": "www.eluniversal.com",
         "n_tokens_title": 8,
         "n_tokens_body": 7,
         "_deepnote_index_column": 102
        }
       ],
       "rows_bottom": null
      },
      "text/plain": "                                  uid  \\\n0    f5c8c7cd81a30cf4cbe77f68943a944b   \n1    c4c9a2a32b8ebb72d9aef6658e9ea55d   \n2    aba02e2f7971dcec2532c65c7f9db8fa   \n3    a694377b67054a2df88d11ca64973f4f   \n4    725c8d4efa5d522b55217aaab74d0b02   \n..                                ...   \n98   6abc95056e36f655fba0424634cf956d   \n99   3a9d24f94bd5b149fac28e4cb8118174   \n100  aef10800a98e4e8429e0ed0d1fbbbefe   \n101  5883b343c782ec896d8f8ab4b7316e75   \n102  62c00ff8d98071303b3d3aa2eaf22f71   \n\n                                                  body  \\\n0    Las mujeres del mundo del periodismo, los dere...   \n1    La Organización Internacional de Policía Crimi...   \n2    Los detalles de la participación de 18 militar...   \n3    Jimmy se ha venido a vivir conmigo unos días. ...   \n4    Una mañana de verano de 1999, Shukriya Barakza...   \n..                                                 ...   \n98          No se registraron heridos ni daños graves.   \n99   Vicente Fernández Jr. aseguró que los rumores ...   \n100  •Renuncia del canciller de Perú, Héctor Béjar,...   \n101  Dominic Thiem se coronó campeón del último US ...   \n102  Venezuela reportó este martes un acumulado de ...   \n\n                                                 title  \\\n0    Decenas de miles de mujeres de todo el mundo s...   \n1    Interpol emite una ficha roja contra el empres...   \n2    Las familias de los exmilitares señalados por ...   \n3                    Nuevas Hébridas en blanco y negro   \n4    El regreso de los talibanes es catastrófico pa...   \n..                                                 ...   \n98   Se registró incendio en la sede del Saime de P...   \n99   Familia desmiente que Vicente Fernández tenga ...   \n100                                          Día a Día   \n101  El campeón Dominic Thiem no defenderá su coron...   \n102  EEUU aprueba refuerzo anticoronavirus para con...   \n\n                                                   url  \\\n0    https://elpais.com/internacional/2021-08-18/de...   \n1    https://elpais.com/mexico/2021-08-18/interpol-...   \n2    https://elpais.com/internacional/2021-08-17/la...   \n3    https://elpais.com/babelia/2021-08-18/nuevas-h...   \n4    https://elpais.com/internacional/2021-08-18/el...   \n..                                                 ...   \n98   http://www.eluniversal.com/caracas/104625/repo...   \n99   http://www.eluniversal.com/entretenimiento/104...   \n100  http://www.eluniversal.com/politica/104682/dia...   \n101  http://www.eluniversal.com/deportes/104698/el-...   \n102  http://www.eluniversal.com/internacional/10471...   \n\n                                    origin_path newspaper_uid  \\\n0         output/elpais_2021_08_18_articles.csv        elpais   \n1         output/elpais_2021_08_18_articles.csv        elpais   \n2         output/elpais_2021_08_18_articles.csv        elpais   \n3         output/elpais_2021_08_18_articles.csv        elpais   \n4         output/elpais_2021_08_18_articles.csv        elpais   \n..                                          ...           ...   \n98   output/eluniversal_2021_08_18_articles.csv   eluniversal   \n99   output/eluniversal_2021_08_18_articles.csv   eluniversal   \n100  output/eluniversal_2021_08_18_articles.csv   eluniversal   \n101  output/eluniversal_2021_08_18_articles.csv   eluniversal   \n102  output/eluniversal_2021_08_18_articles.csv   eluniversal   \n\n                    host  n_tokens_title  n_tokens_body  \n0             elpais.com               9             20  \n1             elpais.com              11              4  \n2             elpais.com               8              5  \n3             elpais.com               4             20  \n4             elpais.com               4              7  \n..                   ...             ...            ...  \n98   www.eluniversal.com               7              4  \n99   www.eluniversal.com               5             10  \n100  www.eluniversal.com               2              7  \n101  www.eluniversal.com               7             34  \n102  www.eluniversal.com               8              7  \n\n[103 rows x 9 columns]",
      "text/html": "<div>\n<style scoped>\n    .dataframe tbody tr th:only-of-type {\n        vertical-align: middle;\n    }\n\n    .dataframe tbody tr th {\n        vertical-align: top;\n    }\n\n    .dataframe thead th {\n        text-align: right;\n    }\n</style>\n<table border=\"1\" class=\"dataframe\">\n  <thead>\n    <tr style=\"text-align: right;\">\n      <th></th>\n      <th>uid</th>\n      <th>body</th>\n      <th>title</th>\n      <th>url</th>\n      <th>origin_path</th>\n      <th>newspaper_uid</th>\n      <th>host</th>\n      <th>n_tokens_title</th>\n      <th>n_tokens_body</th>\n    </tr>\n  </thead>\n  <tbody>\n    <tr>\n      <th>0</th>\n      <td>f5c8c7cd81a30cf4cbe77f68943a944b</td>\n      <td>Las mujeres del mundo del periodismo, los dere...</td>\n      <td>Decenas de miles de mujeres de todo el mundo s...</td>\n      <td>https://elpais.com/internacional/2021-08-18/de...</td>\n      <td>output/elpais_2021_08_18_articles.csv</td>\n      <td>elpais</td>\n      <td>elpais.com</td>\n      <td>9</td>\n      <td>20</td>\n    </tr>\n    <tr>\n      <th>1</th>\n      <td>c4c9a2a32b8ebb72d9aef6658e9ea55d</td>\n      <td>La Organización Internacional de Policía Crimi...</td>\n      <td>Interpol emite una ficha roja contra el empres...</td>\n      <td>https://elpais.com/mexico/2021-08-18/interpol-...</td>\n      <td>output/elpais_2021_08_18_articles.csv</td>\n      <td>elpais</td>\n      <td>elpais.com</td>\n      <td>11</td>\n      <td>4</td>\n    </tr>\n    <tr>\n      <th>2</th>\n      <td>aba02e2f7971dcec2532c65c7f9db8fa</td>\n      <td>Los detalles de la participación de 18 militar...</td>\n      <td>Las familias de los exmilitares señalados por ...</td>\n      <td>https://elpais.com/internacional/2021-08-17/la...</td>\n      <td>output/elpais_2021_08_18_articles.csv</td>\n      <td>elpais</td>\n      <td>elpais.com</td>\n      <td>8</td>\n      <td>5</td>\n    </tr>\n    <tr>\n      <th>3</th>\n      <td>a694377b67054a2df88d11ca64973f4f</td>\n      <td>Jimmy se ha venido a vivir conmigo unos días. ...</td>\n      <td>Nuevas Hébridas en blanco y negro</td>\n      <td>https://elpais.com/babelia/2021-08-18/nuevas-h...</td>\n      <td>output/elpais_2021_08_18_articles.csv</td>\n      <td>elpais</td>\n      <td>elpais.com</td>\n      <td>4</td>\n      <td>20</td>\n    </tr>\n    <tr>\n      <th>4</th>\n      <td>725c8d4efa5d522b55217aaab74d0b02</td>\n      <td>Una mañana de verano de 1999, Shukriya Barakza...</td>\n      <td>El regreso de los talibanes es catastrófico pa...</td>\n      <td>https://elpais.com/internacional/2021-08-18/el...</td>\n      <td>output/elpais_2021_08_18_articles.csv</td>\n      <td>elpais</td>\n      <td>elpais.com</td>\n      <td>4</td>\n      <td>7</td>\n    </tr>\n    <tr>\n      <th>...</th>\n      <td>...</td>\n      <td>...</td>\n      <td>...</td>\n      <td>...</td>\n      <td>...</td>\n      <td>...</td>\n      <td>...</td>\n      <td>...</td>\n      <td>...</td>\n    </tr>\n    <tr>\n      <th>98</th>\n      <td>6abc95056e36f655fba0424634cf956d</td>\n      <td>No se registraron heridos ni daños graves.</td>\n      <td>Se registró incendio en la sede del Saime de P...</td>\n      <td>http://www.eluniversal.com/caracas/104625/repo...</td>\n      <td>output/eluniversal_2021_08_18_articles.csv</td>\n      <td>eluniversal</td>\n      <td>www.eluniversal.com</td>\n      <td>7</td>\n      <td>4</td>\n    </tr>\n    <tr>\n      <th>99</th>\n      <td>3a9d24f94bd5b149fac28e4cb8118174</td>\n      <td>Vicente Fernández Jr. aseguró que los rumores ...</td>\n      <td>Familia desmiente que Vicente Fernández tenga ...</td>\n      <td>http://www.eluniversal.com/entretenimiento/104...</td>\n      <td>output/eluniversal_2021_08_18_articles.csv</td>\n      <td>eluniversal</td>\n      <td>www.eluniversal.com</td>\n      <td>5</td>\n      <td>10</td>\n    </tr>\n    <tr>\n      <th>100</th>\n      <td>aef10800a98e4e8429e0ed0d1fbbbefe</td>\n      <td>•Renuncia del canciller de Perú, Héctor Béjar,...</td>\n      <td>Día a Día</td>\n      <td>http://www.eluniversal.com/politica/104682/dia...</td>\n      <td>output/eluniversal_2021_08_18_articles.csv</td>\n      <td>eluniversal</td>\n      <td>www.eluniversal.com</td>\n      <td>2</td>\n      <td>7</td>\n    </tr>\n    <tr>\n      <th>101</th>\n      <td>5883b343c782ec896d8f8ab4b7316e75</td>\n      <td>Dominic Thiem se coronó campeón del último US ...</td>\n      <td>El campeón Dominic Thiem no defenderá su coron...</td>\n      <td>http://www.eluniversal.com/deportes/104698/el-...</td>\n      <td>output/eluniversal_2021_08_18_articles.csv</td>\n      <td>eluniversal</td>\n      <td>www.eluniversal.com</td>\n      <td>7</td>\n      <td>34</td>\n    </tr>\n    <tr>\n      <th>102</th>\n      <td>62c00ff8d98071303b3d3aa2eaf22f71</td>\n      <td>Venezuela reportó este martes un acumulado de ...</td>\n      <td>EEUU aprueba refuerzo anticoronavirus para con...</td>\n      <td>http://www.eluniversal.com/internacional/10471...</td>\n      <td>output/eluniversal_2021_08_18_articles.csv</td>\n      <td>eluniversal</td>\n      <td>www.eluniversal.com</td>\n      <td>8</td>\n      <td>7</td>\n    </tr>\n  </tbody>\n</table>\n<p>103 rows × 9 columns</p>\n</div>"
     },
     "metadata": {}
    }
   ],
   "execution_count": 9
  },
  {
   "cell_type": "markdown",
   "source": "# Describe",
   "metadata": {
    "tags": [],
    "is_collapsed": false,
    "cell_id": "00007-e61851a1-9240-4a3a-b6be-729b2c4856f3",
    "deepnote_cell_type": "text-cell-h1"
   }
  },
  {
   "cell_type": "code",
   "source": "final_df.describe()",
   "metadata": {
    "tags": [],
    "cell_id": "00006-246cce0f-3080-4334-9369-fa8a3d58518d",
    "deepnote_to_be_reexecuted": false,
    "source_hash": "c115e184",
    "execution_start": 1629346840405,
    "execution_millis": 106,
    "deepnote_cell_type": "code"
   },
   "outputs": [
    {
     "output_type": "execute_result",
     "execution_count": 10,
     "data": {
      "application/vnd.deepnote.dataframe.v2+json": {
       "row_count": 8,
       "column_count": 2,
       "columns": [
        {
         "name": "n_tokens_title",
         "dtype": "float64",
         "stats": {
          "unique_count": 8,
          "nan_count": 0,
          "min": "1.0",
          "max": "103.0",
          "histogram": [
           {
            "bin_start": 1,
            "bin_end": 11.2,
            "count": 6
           },
           {
            "bin_start": 11.2,
            "bin_end": 21.4,
            "count": 1
           },
           {
            "bin_start": 21.4,
            "bin_end": 31.599999999999998,
            "count": 0
           },
           {
            "bin_start": 31.599999999999998,
            "bin_end": 41.8,
            "count": 0
           },
           {
            "bin_start": 41.8,
            "bin_end": 52,
            "count": 0
           },
           {
            "bin_start": 52,
            "bin_end": 62.199999999999996,
            "count": 0
           },
           {
            "bin_start": 62.199999999999996,
            "bin_end": 72.39999999999999,
            "count": 0
           },
           {
            "bin_start": 72.39999999999999,
            "bin_end": 82.6,
            "count": 0
           },
           {
            "bin_start": 82.6,
            "bin_end": 92.8,
            "count": 0
           },
           {
            "bin_start": 92.8,
            "bin_end": 103,
            "count": 1
           }
          ]
         }
        },
        {
         "name": "n_tokens_body",
         "dtype": "float64",
         "stats": {
          "unique_count": 8,
          "nan_count": 0,
          "min": "0.0",
          "max": "103.0",
          "histogram": [
           {
            "bin_start": 0,
            "bin_end": 10.3,
            "count": 2
           },
           {
            "bin_start": 10.3,
            "bin_end": 20.6,
            "count": 3
           },
           {
            "bin_start": 20.6,
            "bin_end": 30.900000000000002,
            "count": 1
           },
           {
            "bin_start": 30.900000000000002,
            "bin_end": 41.2,
            "count": 0
           },
           {
            "bin_start": 41.2,
            "bin_end": 51.5,
            "count": 0
           },
           {
            "bin_start": 51.5,
            "bin_end": 61.800000000000004,
            "count": 1
           },
           {
            "bin_start": 61.800000000000004,
            "bin_end": 72.10000000000001,
            "count": 0
           },
           {
            "bin_start": 72.10000000000001,
            "bin_end": 82.4,
            "count": 0
           },
           {
            "bin_start": 82.4,
            "bin_end": 92.7,
            "count": 0
           },
           {
            "bin_start": 92.7,
            "bin_end": 103,
            "count": 1
           }
          ]
         }
        },
        {
         "name": "_deepnote_index_column",
         "dtype": "object"
        }
       ],
       "rows_top": [
        {
         "n_tokens_title": 103,
         "n_tokens_body": 103,
         "_deepnote_index_column": "count"
        },
        {
         "n_tokens_title": 6.436893203883495,
         "n_tokens_body": 17.50485436893204,
         "_deepnote_index_column": "mean"
        },
        {
         "n_tokens_title": 2.3459180355799396,
         "n_tokens_body": 15.659911217542989,
         "_deepnote_index_column": "std"
        },
        {
         "n_tokens_title": 1,
         "n_tokens_body": 0,
         "_deepnote_index_column": "min"
        },
        {
         "n_tokens_title": 5,
         "n_tokens_body": 4,
         "_deepnote_index_column": "25%"
        },
        {
         "n_tokens_title": 6,
         "n_tokens_body": 14,
         "_deepnote_index_column": "50%"
        },
        {
         "n_tokens_title": 8,
         "n_tokens_body": 26.5,
         "_deepnote_index_column": "75%"
        },
        {
         "n_tokens_title": 13,
         "n_tokens_body": 59,
         "_deepnote_index_column": "max"
        }
       ],
       "rows_bottom": null
      },
      "text/plain": "       n_tokens_title  n_tokens_body\ncount      103.000000     103.000000\nmean         6.436893      17.504854\nstd          2.345918      15.659911\nmin          1.000000       0.000000\n25%          5.000000       4.000000\n50%          6.000000      14.000000\n75%          8.000000      26.500000\nmax         13.000000      59.000000",
      "text/html": "<div>\n<style scoped>\n    .dataframe tbody tr th:only-of-type {\n        vertical-align: middle;\n    }\n\n    .dataframe tbody tr th {\n        vertical-align: top;\n    }\n\n    .dataframe thead th {\n        text-align: right;\n    }\n</style>\n<table border=\"1\" class=\"dataframe\">\n  <thead>\n    <tr style=\"text-align: right;\">\n      <th></th>\n      <th>n_tokens_title</th>\n      <th>n_tokens_body</th>\n    </tr>\n  </thead>\n  <tbody>\n    <tr>\n      <th>count</th>\n      <td>103.000000</td>\n      <td>103.000000</td>\n    </tr>\n    <tr>\n      <th>mean</th>\n      <td>6.436893</td>\n      <td>17.504854</td>\n    </tr>\n    <tr>\n      <th>std</th>\n      <td>2.345918</td>\n      <td>15.659911</td>\n    </tr>\n    <tr>\n      <th>min</th>\n      <td>1.000000</td>\n      <td>0.000000</td>\n    </tr>\n    <tr>\n      <th>25%</th>\n      <td>5.000000</td>\n      <td>4.000000</td>\n    </tr>\n    <tr>\n      <th>50%</th>\n      <td>6.000000</td>\n      <td>14.000000</td>\n    </tr>\n    <tr>\n      <th>75%</th>\n      <td>8.000000</td>\n      <td>26.500000</td>\n    </tr>\n    <tr>\n      <th>max</th>\n      <td>13.000000</td>\n      <td>59.000000</td>\n    </tr>\n  </tbody>\n</table>\n</div>"
     },
     "metadata": {}
    }
   ],
   "execution_count": 10
  },
  {
   "cell_type": "code",
   "source": "final_df[\"n_tokens_title\"][final_df[\"newspaper_uid\"] == \"elpais\"].plot(style=\"k+\")\nfinal_df[\"n_tokens_title\"][final_df[\"newspaper_uid\"] == \"eluniversal\"].plot(style=\"r.\")",
   "metadata": {
    "tags": [],
    "cell_id": "00008-32bcf5de-b046-4c05-85c9-b08b200f0c7c",
    "deepnote_to_be_reexecuted": false,
    "source_hash": "7d254991",
    "execution_start": 1629347179583,
    "execution_millis": 386,
    "deepnote_cell_type": "code"
   },
   "outputs": [
    {
     "output_type": "execute_result",
     "execution_count": 15,
     "data": {
      "text/plain": "<AxesSubplot:>"
     },
     "metadata": {}
    },
    {
     "data": {
      "text/plain": "<Figure size 432x288 with 1 Axes>",
      "image/png": "[encoded data removed]"
     },
     "metadata": {
      "needs_background": "light",
      "image/png": {
       "width": 368,
       "height": 248
      }
     },
     "output_type": "display_data"
    }
   ],
   "execution_count": 15
  },
  {
   "cell_type": "code",
   "source": "final_df[\"n_tokens_body\"][final_df[\"newspaper_uid\"] == \"elpais\"].plot(style=\"k+\")\nfinal_df[\"n_tokens_body\"][final_df[\"newspaper_uid\"] == \"eluniversal\"].plot(style=\"r.\")",
   "metadata": {
    "tags": [],
    "cell_id": "00009-dbbf75ce-0a32-4ecd-b416-3294e0716331",
    "deepnote_to_be_reexecuted": false,
    "source_hash": "712cc836",
    "execution_start": 1629347211577,
    "execution_millis": 383,
    "deepnote_cell_type": "code"
   },
   "outputs": [
    {
     "output_type": "execute_result",
     "execution_count": 16,
     "data": {
      "text/plain": "<AxesSubplot:>"
     },
     "metadata": {}
    },
    {
     "data": {
      "text/plain": "<Figure size 432x288 with 1 Axes>",
      "image/png": "[encoded data removed]"
     },
     "metadata": {
      "needs_background": "light",
      "image/png": {
       "width": 368,
       "height": 248
      }
     },
     "output_type": "display_data"
    }
   ],
   "execution_count": 16
  },
  {
   "cell_type": "code",
   "source": "grouped = final_df.groupby(\"newspaper_uid\")\ngrouped.hist()",
   "metadata": {
    "tags": [],
    "cell_id": "00011-be6a1230-b14a-4c1d-9733-a40bd5943a21",
    "deepnote_to_be_reexecuted": false,
    "source_hash": "640ed8b",
    "execution_start": 1629347494229,
    "execution_millis": 1631,
    "deepnote_cell_type": "code"
   },
   "outputs": [
    {
     "output_type": "execute_result",
     "execution_count": 29,
     "data": {
      "text/plain": "newspaper_uid\nelpais         [[AxesSubplot(0.125,0.125;0.336957x0.755), Axe...\neluniversal    [[AxesSubplot(0.125,0.125;0.336957x0.755), Axe...\nenglish        [[AxesSubplot(0.125,0.125;0.336957x0.755), Axe...\ndtype: object"
     },
     "metadata": {}
    },
    {
     "data": {
      "text/plain": "<Figure size 432x288 with 2 Axes>",
      "image/png": "[encoded data removed]"
     },
     "metadata": {
      "needs_background": "light",
      "image/png": {
       "width": 370,
       "height": 264
      }
     },
     "output_type": "display_data"
    },
    {
     "data": {
      "text/plain": "<Figure size 432x288 with 2 Axes>",
      "image/png": "[encoded data removed]"
     },
     "metadata": {
      "needs_background": "light",
      "image/png": {
       "width": 362,
       "height": 264
      }
     },
     "output_type": "display_data"
    },
    {
     "data": {
      "text/plain": "<Figure size 432x288 with 2 Axes>",
      "image/png": "[encoded data removed]"
     },
     "metadata": {
      "needs_background": "light",
      "image/png": {
       "width": 372,
       "height": 264
      }
     },
     "output_type": "display_data"
    }
   ],
   "execution_count": 29
  },
  {
   "cell_type": "code",
   "source": "_deepnote_run_altair(final_df, \"\"\"{\"$schema\":\"https://vega.github.io/schema/vega-lite/v4.json\",\"mark\":{\"type\":\"bar\",\"tooltip\":{\"content\":\"data\"}},\"height\":220,\"autosize\":{\"type\":\"fit\"},\"data\":{\"name\":\"placeholder\"},\"encoding\":{\"x\":{\"field\":\"newspaper_uid\",\"type\":\"nominal\",\"sort\":null,\"scale\":{\"type\":\"linear\",\"zero\":false}},\"y\":{\"field\":\"n_tokens_title\",\"type\":\"quantitative\",\"sort\":null,\"scale\":{\"type\":\"linear\",\"zero\":true}},\"color\":{\"field\":\"n_tokens_title\",\"type\":\"quantitative\",\"sort\":null,\"scale\":{\"type\":\"linear\",\"zero\":false}}}}\"\"\")",
   "metadata": {
    "cell_id": "00011-7d7dde3c-a43b-4fac-a759-f475b7132e68",
    "deepnote_variable_name": "final_df",
    "deepnote_visualization_spec": {
     "$schema": "https://vega.github.io/schema/vega-lite/v4.json",
     "mark": {
      "type": "bar",
      "tooltip": {
       "content": "data"
      }
     },
     "height": 220,
     "autosize": {
      "type": "fit"
     },
     "data": {
      "name": "placeholder"
     },
     "encoding": {
      "x": {
       "field": "newspaper_uid",
       "type": "nominal",
       "sort": null,
       "scale": {
        "type": "linear",
        "zero": false
       }
      },
      "y": {
       "field": "n_tokens_title",
       "type": "quantitative",
       "sort": null,
       "scale": {
        "type": "linear",
        "zero": true
       }
      },
      "color": {
       "field": "n_tokens_title",
       "type": "quantitative",
       "sort": null,
       "scale": {
        "type": "linear",
        "zero": false
       }
      }
     }
    },
    "deepnote_to_be_reexecuted": false,
    "source_hash": "acb8216d",
    "execution_start": 1629347438925,
    "execution_millis": 232,
    "deepnote_cell_type": "visualization"
   },
   "outputs": [
    {
     "output_type": "execute_result",
     "execution_count": 28,
     "data": {
      "text/html": "\n<div id=\"altair-viz-015c97a3f987466a843572eed7b81637\"></div>\n<script type=\"text/javascript\">\n  (function(spec, embedOpt){\n    let outputDiv = document.currentScript.previousElementSibling;\n    if (outputDiv.id !== \"altair-viz-015c97a3f987466a843572eed7b81637\") {\n      outputDiv = document.getElementById(\"altair-viz-015c97a3f987466a843572eed7b81637\");\n    }\n    const paths = {\n      \"vega\": \"https://cdn.jsdelivr.net/npm//vega@5?noext\",\n      \"vega-lib\": \"https://cdn.jsdelivr.net/npm//vega-lib?noext\",\n      \"vega-lite\": \"https://cdn.jsdelivr.net/npm//vega-lite@4.8.1?noext\",\n      \"vega-embed\": \"https://cdn.jsdelivr.net/npm//vega-embed@6?noext\",\n    };\n\n    function loadScript(lib) {\n      return new Promise(function(resolve, reject) {\n        var s = document.createElement('script');\n        s.src = paths[lib];\n        s.async = true;\n        s.onload = () => resolve(paths[lib]);\n        s.onerror = () => reject(`Error loading script: ${paths[lib]}`);\n        document.getElementsByTagName(\"head\")[0].appendChild(s);\n      });\n    }\n\n    function showError(err) {\n      outputDiv.innerHTML = `<div class=\"error\" style=\"color:red;\">${err}</div>`;\n      throw err;\n    }\n\n    function displayChart(vegaEmbed) {\n      vegaEmbed(outputDiv, spec, embedOpt)\n        .catch(err => showError(`Javascript Error: ${err.message}<br>This usually means there's a typo in your chart specification. See the javascript console for the full traceback.`));\n    }\n\n    if(typeof define === \"function\" && define.amd) {\n      requirejs.config({paths});\n      require([\"vega-embed\"], displayChart, err => showError(`Error loading script: ${err.message}`));\n    } else if (typeof vegaEmbed === \"function\") {\n      displayChart(vegaEmbed);\n    } else {\n      loadScript(\"vega\")\n        .then(() => loadScript(\"vega-lite\"))\n        .then(() => loadScript(\"vega-embed\"))\n        .catch(showError)\n        .then(() => displayChart(vegaEmbed));\n    }\n  })({\"config\": {\"view\": {\"continuousWidth\": 400, \"continuousHeight\": 300}, \"area\": {\"fill\": \"#51C0E9\"}, \"axis\": {\"labelFont\": \"Inter, sans-serif\", \"labelFontSize\": 12, \"labelFontWeight\": \"normal\", \"labelLimit\": 60, \"labelOverlap\": \"greedy\", \"titleFont\": \"Inter, sans-serif\", \"titleFontSize\": 12, \"titleFontWeight\": \"bold\"}, \"background\": \"#ffffff\", \"legend\": {\"labelFont\": \"Inter, sans-serif\", \"labelFontSize\": 12, \"titleFont\": \"Inter, sans-serif\", \"titleFontSize\": 12, \"titleFontWeight\": \"bold\"}, \"line\": {\"stroke\": \"#51C0E9\", \"strokeWidth\": 2}, \"rect\": {\"fill\": \"#51C0E9\"}, \"title\": {\"anchor\": \"start\", \"color\": \"#000000\", \"font\": \"Inter, sans-serif\", \"fontSize\": 22, \"fontWeight\": \"normal\"}}, \"data\": {\"name\": \"data-c45157002471a69178a90c225ba61c23\"}, \"mark\": {\"type\": \"bar\", \"tooltip\": {\"content\": \"data\"}}, \"autosize\": {\"type\": \"fit\"}, \"encoding\": {\"color\": {\"type\": \"quantitative\", \"field\": \"n_tokens_title\", \"scale\": {\"type\": \"linear\", \"zero\": false}, \"sort\": null}, \"x\": {\"type\": \"nominal\", \"field\": \"newspaper_uid\", \"scale\": {\"type\": \"linear\", \"zero\": false}, \"sort\": null}, \"y\": {\"type\": \"quantitative\", \"field\": \"n_tokens_title\", \"scale\": {\"type\": \"linear\", \"zero\": true}, \"sort\": null}}, \"height\": 300, \"width\": \"container\", \"$schema\": \"https://vega.github.io/schema/vega-lite/v4.json\", \"datasets\": {\"data-c45157002471a69178a90c225ba61c23\": [{\"uid\": \"f5c8c7cd81a30cf4cbe77f68943a944b\", \"body\": \"Las mujeres del mundo del periodismo, los derechos humanos, la literatura y el cine, entre otros sectores, han hecho un llamamiento internacional para que Afganist\\u00e1n mantenga las fronteras abiertas a todas las personas que requieran salir, en especial\", \"title\": \"Decenas de miles de mujeres de todo el mundo se unen por las afganas: \\u201cAbrid las puertas a Afganist\\u00e1n\\u201d\", \"url\": \"https://elpais.com/internacional/2021-08-18/decenas-de-miles-de-mujeres-de-todo-el-mundo-se-unen-por-las-afganas-abrid-las-puertas-a-afganistan.html\", \"origin_path\": \"output/elpais_2021_08_18_articles.csv\", \"newspaper_uid\": \"elpais\", \"host\": \"elpais.com\", \"n_tokens_title\": 9, \"n_tokens_body\": 20}, {\"uid\": \"c4c9a2a32b8ebb72d9aef6658e9ea55d\", \"body\": \"La Organizaci\\u00f3n Internacional de Polic\\u00eda Criminal,\", \"title\": \"Interpol emite una ficha roja contra el empresario Miguel Alem\\u00e1n Magnani por el delito de defraudaci\\u00f3n fiscal\", \"url\": \"https://elpais.com/mexico/2021-08-18/interpol-emite-una-ficha-roja-contra-el-empresario-miguel-aleman-magnani-por-el-delito-de-defraudacion-fiscal.html\", \"origin_path\": \"output/elpais_2021_08_18_articles.csv\", \"newspaper_uid\": \"elpais\", \"host\": \"elpais.com\", \"n_tokens_title\": 11, \"n_tokens_body\": 4}, {\"uid\": \"aba02e2f7971dcec2532c65c7f9db8fa\", \"body\": \"Los detalles de la participaci\\u00f3n de 18 militares colombianos en el magnicidio del\", \"title\": \"Las familias de los exmilitares se\\u00f1alados por el magnicidio en Hait\\u00ed piden garant\\u00edas judiciales\", \"url\": \"https://elpais.com/internacional/2021-08-17/las-familias-de-los-exmilitares-senalados-por-el-magnicidio-en-haiti-piden-garantias-judiciales.html\", \"origin_path\": \"output/elpais_2021_08_18_articles.csv\", \"newspaper_uid\": \"elpais\", \"host\": \"elpais.com\", \"n_tokens_title\": 8, \"n_tokens_body\": 5}, {\"uid\": \"a694377b67054a2df88d11ca64973f4f\", \"body\": \"Jimmy se ha venido a vivir conmigo unos d\\u00edas. Tendr\\u00eda m\\u00e1s inter\\u00e9s que Jimmy fuera un australiano alto y fornido que misteriosamente se ha quedado atrapado en Barcelona, pero lo cierto es que Jimmy es un roedor que mide 15 cent\\u00edmetros y juega a\", \"title\": \"Nuevas H\\u00e9bridas en blanco y negro\", \"url\": \"https://elpais.com/babelia/2021-08-18/nuevas-hebridas-en-blanco-y-negro.html\", \"origin_path\": \"output/elpais_2021_08_18_articles.csv\", \"newspaper_uid\": \"elpais\", \"host\": \"elpais.com\", \"n_tokens_title\": 4, \"n_tokens_body\": 20}, {\"uid\": \"725c8d4efa5d522b55217aaab74d0b02\", \"body\": \"Una ma\\u00f1ana de verano de 1999, Shukriya Barakzai se despert\\u00f3 mareada y con fiebre.\", \"title\": \"El regreso de los talibanes es catastr\\u00f3fico para las mujeres\", \"url\": \"https://elpais.com/internacional/2021-08-18/el-regreso-de-los-talibanes-es-catastrofico-para-las-mujeres.html\", \"origin_path\": \"output/elpais_2021_08_18_articles.csv\", \"newspaper_uid\": \"elpais\", \"host\": \"elpais.com\", \"n_tokens_title\": 4, \"n_tokens_body\": 7}, {\"uid\": \"d247e47c35e15fee9c2c03ccce71ae05\", \"body\": \"A mediod\\u00eda de este martes, Jos\\u00e9 Antonio Garc\\u00eda  vio un helic\\u00f3ptero acercarse de frente hacia la repisa de dos metros en la que se encontraba. Era la Guardia Civil. Por fin lo hab\\u00edan localizado. Hab\\u00eda pasado tres largos d\\u00edas atrapado junto a su amigo y compa\\u00f1ero en la monta\\u00f1a Ram\\u00f3n Gonz\\u00e1lez en la parte asturiana de los\", \"title\": \"Los dos monta\\u00f1eros atrapados tres d\\u00edas en un risco de los Picos de Europa: \\u201cNo pod\\u00edamos dormir porque pod\\u00edamos deslizarnos\\u201d\", \"url\": \"https://elpais.com/espana/2021-08-18/los-dos-montaneros-atrapados-tres-dias-en-un-risco-de-los-picos-de-europa-no-podiamos-dormir-porque-podiamos-deslizarnos.html\", \"origin_path\": \"output/elpais_2021_08_18_articles.csv\", \"newspaper_uid\": \"elpais\", \"host\": \"elpais.com\", \"n_tokens_title\": 12, \"n_tokens_body\": 31}, {\"uid\": \"8ce2100e0c42947003e00cb9dd894ebb\", \"body\": \"\\u201cNos interesa Am\\u00e9rica porque nos consideramos un peri\\u00f3dico americano\\u201d, expresa rotundo el director de EL PA\\u00cdS Am\\u00e9rica, Jan Mart\\u00ednez Ahrens. \\u201cEl peri\\u00f3dico tiene la nacionalidad de sus lectores\\u201d. Mas all\\u00e1 de la cl\\u00e1sica informaci\\u00f3n de corresponsal, EL PA\\u00cdS intenta estar \\u201cen el nervio central de la actualidad\\u201d y de las sociedades.\", \"title\": \"Jan Mart\\u00ednez Ahrens: \\u201cEl peri\\u00f3dico tiene la nacionalidad de sus lectores\\u201d\", \"url\": \"https://elpais.com/mexico/2021-03-05/jan-martinez-ahrens-nos-interesa-america-porque-nos-consideramos-un-periodico-americano.html\", \"origin_path\": \"output/elpais_2021_08_18_articles.csv\", \"newspaper_uid\": \"elpais\", \"host\": \"elpais.com\", \"n_tokens_title\": 6, \"n_tokens_body\": 27}, {\"uid\": \"95a11bb94c319365feeee4753f82e0f7\", \"body\": \"El\", \"title\": \"Suspendido el GP de Jap\\u00f3n de F\\u00f3rmula 1 por covid\", \"url\": \"https://elpais.com/deportes/2021-08-18/suspendido-el-gp-de-japon-de-formula-1-por-covid.html\", \"origin_path\": \"output/elpais_2021_08_18_articles.csv\", \"newspaper_uid\": \"elpais\", \"host\": \"elpais.com\", \"n_tokens_title\": 5, \"n_tokens_body\": 0}, {\"uid\": \"966c33dfdb83a96c7db9721b633df303\", \"body\": \"La\", \"title\": \"\\u2018Grace\\u2019 se convierte en hurac\\u00e1n y se acerca a la pen\\u00ednsula de Yucat\\u00e1n\", \"url\": \"https://elpais.com/mexico/2021-08-18/grace-se-convierte-en-huracan-y-se-acerca-a-la-peninsula-de-yucatan.html\", \"origin_path\": \"output/elpais_2021_08_18_articles.csv\", \"newspaper_uid\": \"elpais\", \"host\": \"elpais.com\", \"n_tokens_title\": 6, \"n_tokens_body\": 0}, {\"uid\": \"d1a42edde34aec0ff31bef805b6e6a47\", \"body\": \"Celebro la actitud del Gobierno de la llamada Cuarta Transformaci\\u00f3n para designar como nueva agregada de cultura en Espa\\u00f1a a Brenda Lozano, quien ha sido cuestionada desde las filas obradoristas por sus cr\\u00edticas al actual presidente. Un acto de tolerancia que parecer\\u00eda encomiable, considerando las muchas suspicacias que dej\\u00f3 el despido del anterior titular,\", \"title\": \"M\\u00e1s all\\u00e1 de Krauze y Aguilar Cam\\u00edn\", \"url\": \"https://elpais.com/mexico/opinion/2021-08-18/mas-alla-de-krauze-y-aguilar-camin.html\", \"origin_path\": \"output/elpais_2021_08_18_articles.csv\", \"newspaper_uid\": \"elpais\", \"host\": \"elpais.com\", \"n_tokens_title\": 4, \"n_tokens_body\": 31}, {\"uid\": \"77a8070d0fe6dc236d5c376fa6d0798e\", \"body\": \"La del presidente del\", \"title\": \"Enrique Cerezo: \\u201cEn la vida, si no tienes ego es que no tienes de nada\\u201d\", \"url\": \"https://elpais.com/revista-de-verano/2021-08-18/enrique-cerezo-en-la-vida-si-no-tienes-ego-es-que-no-tienes-de-nada.html\", \"origin_path\": \"output/elpais_2021_08_18_articles.csv\", \"newspaper_uid\": \"elpais\", \"host\": \"elpais.com\", \"n_tokens_title\": 5, \"n_tokens_body\": 1}, {\"uid\": \"e762d6966c0edb8a2f2ce165cef6d4ba\", \"body\": \"La firma de un\", \"title\": \"Avances en Venezuela\", \"url\": \"https://elpais.com/opinion/2021-08-18/avances-en-venezuela.html\", \"origin_path\": \"output/elpais_2021_08_18_articles.csv\", \"newspaper_uid\": \"elpais\", \"host\": \"elpais.com\", \"n_tokens_title\": 2, \"n_tokens_body\": 1}, {\"uid\": \"bdf384a1e7d62debc3b9277427dada38\", \"body\": \"Hombres armados atacaron este mi\\u00e9rcoles un convoy de civiles con escolta militar en el norte de Burkina Faso y provocaron la muerte a 47 personas, seg\\u00fan ha informado el Ministerio de Comunicaci\\u00f3n burkin\\u00e9s. Entre los fallecidos hay 30 civiles, 14 soldados y tres miembros del grupo paramilitar Voluntarios para la Defensa de la Patria (VDP), creado a instancias del Gobierno. Ning\\u00fan grupo ha reclamado la autor\\u00eda del ataque, pero esta zona es el escenario habitual de acci\\u00f3n de facciones yihadistas pertenecientes tanto a Al Qaeda como al autodenominado Estado Isl\\u00e1mico.\", \"title\": \"Asesinadas 47 personas en Burkina Faso tras un ataque yihadista a un convoy de civiles\", \"url\": \"https://elpais.com/internacional/2021-08-18/asesinadas-47-personas-en-burkina-faso-tras-un-ataque-yihadista-a-un-convoy-de-civiles.html\", \"origin_path\": \"output/elpais_2021_08_18_articles.csv\", \"newspaper_uid\": \"elpais\", \"host\": \"elpais.com\", \"n_tokens_title\": 9, \"n_tokens_body\": 48}, {\"uid\": \"18d031a32e3c33aeacfff2026057d327\", \"body\": \"Madrid es una ciudad medio vac\\u00eda en agosto, pero las salas de urgencias de varios hospitales est\\u00e1n a reventar. La escasez de sanitarios est\\u00e1 causando hacinamientos, seg\\u00fan\", \"title\": \"La falta de sanitarios en verano causa hacinamientos en las urgencias madrile\\u00f1as\", \"url\": \"https://elpais.com/espana/madrid/2021-08-18/la-falta-de-sanitarios-en-verano-causa-hacinamientos-en-las-urgencias-madrilenas.html\", \"origin_path\": \"output/elpais_2021_08_18_articles.csv\", \"newspaper_uid\": \"elpais\", \"host\": \"elpais.com\", \"n_tokens_title\": 7, \"n_tokens_body\": 15}, {\"uid\": \"3759856d8b3ca17e97bc55d9942708fa\", \"body\": \"Es un grave desastre\", \"title\": \"La ca\\u00edda de Kabul es un grave desastre\", \"url\": \"https://elpais.com/opinion/2021-08-18/la-caida-de-kabul-es-un-grave-desastre.html\", \"origin_path\": \"output/elpais_2021_08_18_articles.csv\", \"newspaper_uid\": \"elpais\", \"host\": \"elpais.com\", \"n_tokens_title\": 4, \"n_tokens_body\": 2}, {\"uid\": \"9440bb4c3c628c7138e5f64d3d1f680b\", \"body\": \"Escrib\\u00eda en Twitter la escritora\", \"title\": \"Ocho novelas con la maternidad y la paternidad como protagonista para disfrutar en verano\", \"url\": \"https://elpais.com/mamas-papas/2021-08-18/ocho-novelas-con-la-maternidad-y-la-paternidad-como-protagonista-para-disfrutar-en-verano.html\", \"origin_path\": \"output/elpais_2021_08_18_articles.csv\", \"newspaper_uid\": \"elpais\", \"host\": \"elpais.com\", \"n_tokens_title\": 7, \"n_tokens_body\": 3}, {\"uid\": \"ca80cc72fe7c3c424b33e0413e030f64\", \"body\": \"La prensa en M\\u00e9xico vive amenazada. El \\u00faltimo episodio ocurri\\u00f3 el lunes pasado:\", \"title\": \"Periodismo ante el fusil amenazante del narco\", \"url\": \"https://elpais.com/mexico/2021-08-15/periodismo-ante-el-fusil-amenazante-del-narco.html\", \"origin_path\": \"output/elpais_2021_08_18_articles.csv\", \"newspaper_uid\": \"elpais\", \"host\": \"elpais.com\", \"n_tokens_title\": 4, \"n_tokens_body\": 9}, {\"uid\": \"a513a318b0f22d6c2e9c414557f6ea0e\", \"body\": \"El futuro ha llegado a Iztapalapa, piensa Mar\\u00eda del Carmen Montero. El cableb\\u00fas reci\\u00e9n inaugurado le recuerda a\", \"title\": \"Ida y vuelta por los confines de Iztapalapa en el telef\\u00e9rico m\\u00e1s largo de Am\\u00e9rica Latina\", \"url\": \"https://elpais.com/mexico/2021-08-15/ida-y-vuelta-por-los-confines-de-iztapalapa-en-el-teleferico-mas-largo-de-america-latina.html\", \"origin_path\": \"output/elpais_2021_08_18_articles.csv\", \"newspaper_uid\": \"elpais\", \"host\": \"elpais.com\", \"n_tokens_title\": 8, \"n_tokens_body\": 11}, {\"uid\": \"c85d5f6d3bbfa397a616f5f9d3a11ed8\", \"body\": \"En la madrugada del 18 de agosto de 1936, el poeta Federico Garc\\u00eda Lorca, el maestro Di\\u00f3scoro Galindo y los banderilleros Francisco Galad\\u00ed y Joaqu\\u00edn Arcollas\", \"title\": \"La nieta de Di\\u00f3scoro Galindo pide a Estrasburgo la b\\u00fasqueda de los restos de su abuelo y de Lorca\", \"url\": \"https://elpais.com/cultura/2021-08-18/la-nieta-del-dioscoro-galindo-pide-a-estrasburgo-la-busqueda-de-los-restos-de-su-abuelo-y-de-lorca.html\", \"origin_path\": \"output/elpais_2021_08_18_articles.csv\", \"newspaper_uid\": \"elpais\", \"host\": \"elpais.com\", \"n_tokens_title\": 9, \"n_tokens_body\": 14}, {\"uid\": \"63d4492b218515c8511a90244de83558\", \"body\": \"El Ministerio del Interior ha tratado en los \\u00faltimos d\\u00edas de\", \"title\": \"Interior descarga en Ceuta la responsabilidad de las repatriaciones de los menores marroqu\\u00edes\", \"url\": \"https://elpais.com/espana/2021-08-18/la-audiencia-nacional-rechaza-suspender-de-urgencia-las-devoluciones-de-menores-marroquies-de-ceuta.html\", \"origin_path\": \"output/elpais_2021_08_18_articles.csv\", \"newspaper_uid\": \"elpais\", \"host\": \"elpais.com\", \"n_tokens_title\": 7, \"n_tokens_body\": 5}, {\"uid\": \"483748d28cef75de969f4747ab10946b\", \"body\": \"Despu\\u00e9s de que expulsaran a De Ligt por hacer una falta como \\u00faltimo hombre, el mundo del seleccionador de Pa\\u00edses Bajos, Frank de Boer, se vino abajo. Tambi\\u00e9n Holanda, que recibi\\u00f3 dos goles de la Rep\\u00fablica Checa y qued\\u00f3 apeada en los octavos de la pasada Eurocopa. Horas m\\u00e1s tarde, el t\\u00e9cnico renunciaba a su cargo. Un vac\\u00edo que no pod\\u00eda demorarse m\\u00e1s porque la\", \"title\": \"Van Gaal III de Pa\\u00edses Bajos\", \"url\": \"https://elpais.com/deportes/2021-08-18/van-gaal-iii-de-paises-bajos.html\", \"origin_path\": \"output/elpais_2021_08_18_articles.csv\", \"newspaper_uid\": \"elpais\", \"host\": \"elpais.com\", \"n_tokens_title\": 5, \"n_tokens_body\": 34}, {\"uid\": \"12aad194333aa6367eb744ce93f8f421\", \"body\": \"La Premio Nobel de la Paz en 2014, Malala Yousafzai, he pedido a todos los pa\\u00edses que abran sus fronteras a los refugiados afganos. La activista paquistan\\u00ed habla en esta entrevista de la situaci\\u00f3n de Afganist\\u00e1n, del peligro que corren las mujeres y ni\\u00f1as y pide a los l\\u00edderes mundiales que tomen responsabilidades sobre el\", \"title\": \"V\\u00eddeo | Malala pide que los pa\\u00edses abran sus fronteras a los refugiados afganos\", \"url\": \"https://elpais.com/videos/2021-08-17/malala-pide-que-los-paises-abran-sus-fronteras-a-los-refugiados-afganos.html\", \"origin_path\": \"output/elpais_2021_08_18_articles.csv\", \"newspaper_uid\": \"elpais\", \"host\": \"elpais.com\", \"n_tokens_title\": 8, \"n_tokens_body\": 26}, {\"uid\": \"85dbbb606fd9fafbf28894a003ff2bb6\", \"body\": \"Para contestar a tu pregunta hay recordar que un agujero negro es una regi\\u00f3n en el espacio con una gravedad tan elevada que nada puede escapar de ella, ni siquiera la luz. Preguntas exactamente si una regi\\u00f3n como esta podr\\u00eda crearse en el LHC. El\", \"title\": \"\\u00bfPodr\\u00eda generarse un microagujero negro en el acelerador de part\\u00edculas LHC?\", \"url\": \"https://elpais.com/ciencia/2021-08-18/podria-generarse-un-microagujero-negro-en-el-acelerador-de-particulas-lhc.html\", \"origin_path\": \"output/elpais_2021_08_18_articles.csv\", \"newspaper_uid\": \"elpais\", \"host\": \"elpais.com\", \"n_tokens_title\": 6, \"n_tokens_body\": 21}, {\"uid\": \"ec361ef19071381942adb62fdb04a762\", \"body\": \"Primero fueron los colegios, despu\\u00e9s, el m\\u00e9dico y la farmacia. Ahora, las oficinas bancarias. La sangr\\u00eda de servicios en la Espa\\u00f1a rural es imparable. Ya sea en Castilla y Le\\u00f3n, Galicia, Arag\\u00f3n o Andaluc\\u00eda, cada vez m\\u00e1s alcaldes, instituciones y colectivos ciudadanos muestran su hartazgo ante una situaci\\u00f3n que deja a ciertos sectores de la poblaci\\u00f3n, sobre todo mayores en zonas rurales con pocos recursos,\", \"title\": \"La Espa\\u00f1a vac\\u00eda se rebela contra el cierre de oficinas bancarias\", \"url\": \"https://elpais.com/economia/2021-08-18/la-espana-vacia-se-rebela-contra-el-cierre-de-oficinas-bancarias.html\", \"origin_path\": \"output/elpais_2021_08_18_articles.csv\", \"newspaper_uid\": \"elpais\", \"host\": \"elpais.com\", \"n_tokens_title\": 6, \"n_tokens_body\": 36}, {\"uid\": \"7ba5e77ea9925ed284ad40f8d90a651c\", \"body\": \"Carpisa Foods lleva 35 a\\u00f1os construyendo su peque\\u00f1o imperio c\\u00e1rnico hamburguesa a\", \"title\": \"Un imperio a base de hamburguesas\", \"url\": \"https://elpais.com/economia/2021-08-18/un-imperio-a-base-de-hamburguesas.html\", \"origin_path\": \"output/elpais_2021_08_18_articles.csv\", \"newspaper_uid\": \"elpais\", \"host\": \"elpais.com\", \"n_tokens_title\": 3, \"n_tokens_body\": 9}, {\"uid\": \"403bcd97577ac52db106a168323c6f87\", \"body\": \"En el norte\", \"title\": \"Pueblos mayas en Guatemala presionan al BID para que retire su inversi\\u00f3n en dos hidroel\\u00e9ctricas\", \"url\": \"https://elpais.com/economia/2021-08-18/pueblos-mayas-en-guatemala-presionan-al-bid-para-que-retire-inversion-en-hidroelectricas.html\", \"origin_path\": \"output/elpais_2021_08_18_articles.csv\", \"newspaper_uid\": \"elpais\", \"host\": \"elpais.com\", \"n_tokens_title\": 9, \"n_tokens_body\": 1}, {\"uid\": \"b5304c1061c2aa664d39669994d74c17\", \"body\": \"La Agencia Europea del Medicamento (EMA) se enfrenta a una de las misiones m\\u00e1s delicadas de sus 26 a\\u00f1os de historia: decidir si autoriza la comercializaci\\u00f3n del aducanumab. Este medicamento, bautizado como Aduhelm por la farmac\\u00e9utica Biogen, es el primer tratamiento que ataca la supuesta causa del alzh\\u00e9imer en lugar de sus s\\u00edntomas, como hacen los actuales. Un hito que ha generado muchas expectativas con una dolencia que solo\", \"title\": \"Los nuevos tratamientos contra el alzh\\u00e9imer ponen a la Agencia Europea del Medicamento ante su decisi\\u00f3n m\\u00e1s dif\\u00edcil\", \"url\": \"https://elpais.com/sociedad/2021-08-18/los-nuevos-tratamientos-contra-el-alzheimer-ponen-a-la-agencia-europea-del-medicamento-ante-su-decision-mas-dificil.html\", \"origin_path\": \"output/elpais_2021_08_18_articles.csv\", \"newspaper_uid\": \"elpais\", \"host\": \"elpais.com\", \"n_tokens_title\": 9, \"n_tokens_body\": 35}, {\"uid\": \"00d8310361fa2cb8ce3ad46c1dff75e7\", \"body\": \"El ingeniero inform\\u00e1tico, militar y estadista\", \"title\": \"El conflicto de Tigray en Etiop\\u00eda se expande a otras regiones\", \"url\": \"https://elpais.com/internacional/2021-08-18/el-conflicto-de-tigray-en-etiopia-se-expande-a-otras-regiones.html\", \"origin_path\": \"output/elpais_2021_08_18_articles.csv\", \"newspaper_uid\": \"elpais\", \"host\": \"elpais.com\", \"n_tokens_title\": 5, \"n_tokens_body\": 4}, {\"uid\": \"10c997876a960042a948bd6625078a6c\", \"body\": \"\\u201cFueron cinco a\\u00f1os de vida y de relaci\\u00f3n incre\\u00edbles, tambi\\u00e9n con mis hijas. Aprendimos mucho. Y ahora tenemos la oportunidad de quedarnos con eso, seguir adelante y decir, \\u2018\\u00bfsabes qu\\u00e9? Estamos muy agradecidos por estos \\u00faltimos cinco a\\u00f1os, \\u00bfc\\u00f3mo podemos lograr que los pr\\u00f3ximos cinco sean a\\u00fan mejores gracias a las lecciones aprendidas?\\u201d. Con estas palabras el exjugador de b\\u00e9isbol Alex Rodriguez se refer\\u00eda a su relaci\\u00f3n con Jennifer Lopez, finalizada el pasado mes de abril, en una entrevista concedida a\", \"title\": \"Alex Rodriguez, \\u201cagradecido\\u201d por su relaci\\u00f3n con Jennifer Lopez despu\\u00e9s de que ella lo elimine de Instagram\", \"url\": \"https://elpais.com/gente/2021-08-18/alex-rodriguez-agradecido-por-su-relacion-con-jennifer-lopez-despues-de-que-ella-lo-elimine-de-instagram.html\", \"origin_path\": \"output/elpais_2021_08_18_articles.csv\", \"newspaper_uid\": \"elpais\", \"host\": \"elpais.com\", \"n_tokens_title\": 9, \"n_tokens_body\": 41}, {\"uid\": \"94b276f73a895c3ae3df23c3b7465ff9\", \"body\": \"Por primera vez en 521 d\\u00edas, los alumnos de primaria de la ciudad de Buenos Aires volvieron este martes a compartir las aulas. A principios de agosto se hab\\u00edan reencontrado los estudiantes de secundaria y la que viene les tocar\\u00e1 a los m\\u00e1s peque\\u00f1os. La vuelta a la nueva normalidad de unos 290.000 alumnos en la capital de Argentina se da en medio de un\", \"title\": \"La ciudad de Buenos Aires recupera la \\u201cpresencialidad plena\\u201d en las aulas ante el descenso de casos de coronavirus\", \"url\": \"https://elpais.com/internacional/2021-08-17/la-ciudad-de-buenos-aires-recupera-la-presencialidad-plena-en-las-aulas-ante-el-descenso-de-casos-de-coronavirus.html\", \"origin_path\": \"output/elpais_2021_08_18_articles.csv\", \"newspaper_uid\": \"elpais\", \"host\": \"elpais.com\", \"n_tokens_title\": 10, \"n_tokens_body\": 28}, {\"uid\": \"fa99c7f010559d35062ff3388c7934de\", \"body\": \"Esta historia comienza en 2018 en un restaurante de comida familiar en pleno centro hist\\u00f3rico de Ibiza. El encargado del local, Diego Romero, conoci\\u00f3 ese a\\u00f1o al que se convirti\\u00f3 en uno de sus mejores amigos primero y en la causa de todos sus dolores de cabeza despu\\u00e9s. Jonathan. D. C.,\", \"title\": \"Las denuncias de los timados por Jonathan, el \\u2018amigo\\u2019 estafador\", \"url\": \"https://elpais.com/espana/2021-08-18/las-denuncias-de-los-timados-por-jonathan-el-amigo-estafador.html\", \"origin_path\": \"output/elpais_2021_08_18_articles.csv\", \"newspaper_uid\": \"elpais\", \"host\": \"elpais.com\", \"n_tokens_title\": 5, \"n_tokens_body\": 24}, {\"uid\": \"195faa435c7500294a46f6af2193a013\", \"body\": \", de 36 a\\u00f1os, ser\\u00e1 madre por segunda vez, seg\\u00fan ha confirmado su marido y padre del beb\\u00e9, durante una actuaci\\u00f3n en el Ridgefield Playhouse, en Connecticut, Estados Unidos. \\u201cVamos a tener un beb\\u00e9, es emocionante\\u201d, ha asegurado el actor y comediante,\", \"title\": \"Scarlett Johansson va a ser madre por segunda vez\", \"url\": \"https://elpais.com/gente/2021-08-18/scarlett-johansson-va-a-ser-madre-por-segunda-vez.html\", \"origin_path\": \"output/elpais_2021_08_18_articles.csv\", \"newspaper_uid\": \"elpais\", \"host\": \"elpais.com\", \"n_tokens_title\": 7, \"n_tokens_body\": 21}, {\"uid\": \"0ca8e6a6a5d2eda1e87cebf6a15ed5db\", \"body\": \"Sabemos que una mera correlaci\\u00f3n no implica una relaci\\u00f3n causal. Por ejemplo, que los barrios donde viven m\\u00e1s minor\\u00edas \\u00e9tnicas registren m\\u00e1s casos de infarto no implica que la etnia sea la causa del infarto. Lo que s\\u00ed demanda una correlaci\\u00f3n es una explicaci\\u00f3n que se pueda poner a prueba despu\\u00e9s. En nuestro ejemplo, una posible explicaci\\u00f3n es que no sea la etnia, sino la pobreza, la que empeora la salud cardiovascular, y esta es una hip\\u00f3tesis que puede examinarse con datos m\\u00e1s amplios y una estad\\u00edstica m\\u00e1s refinada. Ahora veamos el enigma del grizzly: el an\\u00e1lisis gen\\u00f3mico de estos enormes osos marrones ha revelado que, en la Columbia Brit\\u00e1nica, junto a la costa pac\\u00edfica de Canad\\u00e1, los grizzlys se dividen en\", \"title\": \"El enigma del grizzly\", \"url\": \"https://elpais.com/revista-de-verano/2021-08-18/el-enigma-del-grizzly.html\", \"origin_path\": \"output/elpais_2021_08_18_articles.csv\", \"newspaper_uid\": \"elpais\", \"host\": \"elpais.com\", \"n_tokens_title\": 2, \"n_tokens_body\": 59}, {\"uid\": \"3cfe143448bd18bfa995ac943d00b9b1\", \"body\": \"Es dif\\u00edcil sonar m\\u00e1s apasionado por tel\\u00e9fono que\", \"title\": \"D\\u2019Artac\\u00e1n, un mosqueperro para el siglo XXI\", \"url\": \"https://elpais.com/revista-de-verano/2021-08-18/dartacan-un-mosqueperro-para-el-siglo-xxi.html\", \"origin_path\": \"output/elpais_2021_08_18_articles.csv\", \"newspaper_uid\": \"elpais\", \"host\": \"elpais.com\", \"n_tokens_title\": 5, \"n_tokens_body\": 4}, {\"uid\": \"7e299d21eb680a07800ef1dda2066676\", \"body\": \"Dice\", \"title\": \"Karl Deisseroth: \\u201cNuestro entendimiento como seres humanos y animales viene de las plantas\\u201d\", \"url\": \"https://elpais.com/ideas/2021-08-15/karl-deisseroth-nuestro-entendimiento-como-seres-humanos-y-animales-viene-de-las-plantas.html\", \"origin_path\": \"output/elpais_2021_08_18_articles.csv\", \"newspaper_uid\": \"elpais\", \"host\": \"elpais.com\", \"n_tokens_title\": 8, \"n_tokens_body\": 1}, {\"uid\": \"b9f93c44c0d3edcb9edf0a7a166009d0\", \"body\": \"La\", \"title\": \"La inflaci\\u00f3n acelera en la zona euro hasta el 2,2%, el m\\u00e1ximo en casi tres a\\u00f1os\", \"url\": \"https://elpais.com/economia/2021-08-18/la-inflacion-acelera-en-la-zona-euro-hasta-el-22-el-maximo-en-casi-tres-anos.html\", \"origin_path\": \"output/elpais_2021_08_18_articles.csv\", \"newspaper_uid\": \"elpais\", \"host\": \"elpais.com\", \"n_tokens_title\": 8, \"n_tokens_body\": 0}, {\"uid\": \"62d251aed694ce3a67c083782acf6ee0\", \"body\": \"El presidente\", \"title\": \"La Corte Suprema de Brasil quita ox\\u00edgeno a la escalada autoritaria de Jair Bolsonaro\", \"url\": \"https://elpais.com/internacional/2021-08-17/la-corte-suprema-de-brasil-quita-oxigeno-a-la-escalada-autoritaria-de-jair-bolsonaro.html\", \"origin_path\": \"output/elpais_2021_08_18_articles.csv\", \"newspaper_uid\": \"elpais\", \"host\": \"elpais.com\", \"n_tokens_title\": 9, \"n_tokens_body\": 1}, {\"uid\": \"dd2b7cd660f24fcc1260f69761cab41b\", \"body\": \"respetado ejecutivo de la industria discogr\\u00e1fica espa\\u00f1ola, falleci\\u00f3 esta madrugada en Madrid, v\\u00edctima de un tumor cerebral, con 74 a\\u00f1os. C\\u00e1mara estuvo en la c\\u00fapula de CBS, en BMG Ariola y en la compa\\u00f1\\u00eda resultante de la fusi\\u00f3n de ambas, Sony BMG. En 2007 entr\\u00f3 en el mundo del teatro, para montar musicales originales o traducidos.\", \"title\": \"Muere Jos\\u00e9 Mar\\u00eda C\\u00e1mara, figura esencial de la industria discogr\\u00e1fica en Espa\\u00f1a\", \"url\": \"https://elpais.com/cultura/2021-08-18/muere-jose-maria-camara-figura-esencial-de-la-industria-discografica-en-espana.html\", \"origin_path\": \"output/elpais_2021_08_18_articles.csv\", \"newspaper_uid\": \"elpais\", \"host\": \"elpais.com\", \"n_tokens_title\": 9, \"n_tokens_body\": 30}, {\"uid\": \"6ac513417ab4b5d19eb5ef987e1443a4\", \"body\": \"que se ha convertido en una figura clave en la pol\\u00edtica del pa\\u00eds en sus periodos de mayor crisis y fragilidad, se prepara para despedirse del cargo y, salvo sorpresas, dejar\\u00e1 el Palacio del Quirinal en febrero. Su mandato ha entrado este mes de agosto en la recta final, los \\u00faltimos seis meses, que se conocen habitualmente como el Semestre blanco, que marca una fase decisiva en la que no se pueden disolver las C\\u00e1maras del Parlamento ni convocar elecciones. La carrera para elegir a un sucesor ha comenzado hace tiempo, pero ser\\u00e1 dif\\u00edcil encontrar un nombre de consenso.\", \"title\": \"Italia se encamina a un incierto recambio en la jefatura del Estado\", \"url\": \"https://elpais.com/internacional/2021-08-18/italia-se-encamina-a-un-incierto-recambio-en-la-jefatura-del-estado.html\", \"origin_path\": \"output/elpais_2021_08_18_articles.csv\", \"newspaper_uid\": \"elpais\", \"host\": \"elpais.com\", \"n_tokens_title\": 5, \"n_tokens_body\": 50}, {\"uid\": \"8352b312453f7be47d4132dd739ec852\", \"body\": \"La directora de EL PA\\u00cdS, Pepa Bueno, ha nombrado a Jordi Gracia subdirector de Opini\\u00f3n. Gracia (Barcelona, 1965) es catedr\\u00e1tico de Literatura Espa\\u00f1ola de la Universidad de Barcelona y colaborador habitual de EL PA\\u00cdS. Lleva m\\u00e1s de 15 a\\u00f1os publicando en la secci\\u00f3n de Opini\\u00f3n y ejerciendo regularmente la cr\\u00edtica literaria en las p\\u00e1ginas de Babelia, el suplemento cultural del diario.\", \"title\": \"Jordi Gracia, subdirector de Opini\\u00f3n de EL PA\\u00cdS\", \"url\": \"https://elpais.com/comunicacion/2021-08-08/jordi-gracia-subdirector-de-opinion-de-el-pais.html\", \"origin_path\": \"output/elpais_2021_08_18_articles.csv\", \"newspaper_uid\": \"elpais\", \"host\": \"elpais.com\", \"n_tokens_title\": 5, \"n_tokens_body\": 33}, {\"uid\": \"7fcd83208c1a91769b30bc47a550425a\", \"body\": \"Veredas repletas de vendedores ambulantes, repartidores de comida en bicicletas, mercadillos donde se venden desde artesan\\u00edas hasta alimentos, plomeros, electricistas, mec\\u00e1nicos que trabajan \\u201cen negro\\u201d. Todos estos son empleos muy comunes, pero tambi\\u00e9n, lamentablemente, son la cara de la informalidad en Latinoam\\u00e9rica.\", \"title\": \"Formalizar la informalidad tras la pandemia en Am\\u00e9rica Latina\", \"url\": \"https://elpais.com/america/economia/termometro-social-de-america/2021-08-12/formalizar-la-informalidad-tras-la-pandemia-en-america-latina.html\", \"origin_path\": \"output/elpais_2021_08_18_articles.csv\", \"newspaper_uid\": \"elpais\", \"host\": \"elpais.com\", \"n_tokens_title\": 6, \"n_tokens_body\": 22}, {\"uid\": \"cca71beb57287801e7aa8b5318a6b799\", \"body\": \"No es f\\u00e1cil sobrevivir a un primer libro como\", \"title\": \"82 libros para el verano\", \"url\": \"https://elpais.com/babelia/2021-07-10/82-libros-de-verano.html\", \"origin_path\": \"output/elpais_2021_08_18_articles.csv\", \"newspaper_uid\": \"elpais\", \"host\": \"elpais.com\", \"n_tokens_title\": 2, \"n_tokens_body\": 4}, {\"uid\": \"79df31a7e73497167f5509ab40960921\", \"body\": \"El r\\u00e9gimen talib\\u00e1n deber\\u00e1 demostrar un compromiso en la pr\\u00e1ctica con los derechos humanos de las mujeres, la lucha antiterrorista y la erradicaci\\u00f3n del narcotr\\u00e1fico para ganarse el reconocimiento y la confianza de la comunidad internacional. As\\u00ed lo indic\\u00f3 el\", \"title\": \"Boris Johnson: \\u201cJuzgaremos al r\\u00e9gimen talib\\u00e1n por sus acciones, no por sus palabras\\u201d\", \"url\": \"https://elpais.com/internacional/2021-08-18/boris-johnson-juzgaremos-al-regimen-taliban-por-sus-acciones-no-por-sus-palabras.html\", \"origin_path\": \"output/elpais_2021_08_18_articles.csv\", \"newspaper_uid\": \"elpais\", \"host\": \"elpais.com\", \"n_tokens_title\": 7, \"n_tokens_body\": 20}, {\"uid\": \"f654ba4508be8d4aa35d45fd3689ca7c\", \"body\": \"Prometeo entreg\\u00f3 a los humanos el fuego \\u2014piedra angular de nuestra civilizaci\\u00f3n\\u2014, pero lo que nos endios\\u00f3 fue el aire acondicionado. Despu\\u00e9s de que en 1902 un ingeniero consiguiera regular por primera vez la temperatura y la humedad en una imprenta de Brooklyn, pas\\u00f3 de la industria y los espacios p\\u00fablicos a los privados, y transform\\u00f3 la manera de viajar, socializar y consumir. Tambi\\u00e9n abrazaron el invento las promotoras urban\\u00edsticas: erigieron rascacielos acristalados y colonizaron regiones c\\u00e1lidas sin tener que priorizar la eficiencia t\\u00e9rmica, para regocijo de las el\\u00e9ctricas. Eso era el progreso, as\\u00ed se export\\u00f3. Pero esta historia feliz se vio enturbiada en los setenta, cuando se descubri\\u00f3 la\", \"title\": \"Nostalgia de permafrost\", \"url\": \"https://elpais.com/opinion/2021-08-18/nostalgia-de-permafrost.html\", \"origin_path\": \"output/elpais_2021_08_18_articles.csv\", \"newspaper_uid\": \"elpais\", \"host\": \"elpais.com\", \"n_tokens_title\": 2, \"n_tokens_body\": 53}, {\"uid\": \"12c954eff12b5b42c071ca3c5e6cd33f\", \"body\": \"Los talibanes han intensificado este mi\\u00e9rcoles los contactos pol\\u00edticos con otros dirigentes afganos para formar un Gobierno que\", \"title\": \"Los talibanes responden con violencia a las primeras protestas contra su control\", \"url\": \"https://elpais.com/internacional/2021-08-18/los-talibanes-responden-con-violencia-a-las-primeras-protestas-contra-su-control.html\", \"origin_path\": \"output/elpais_2021_08_18_articles.csv\", \"newspaper_uid\": \"elpais\", \"host\": \"elpais.com\", \"n_tokens_title\": 6, \"n_tokens_body\": 9}, {\"uid\": \"614b116987e639fd7bf5466e52904e08\", \"body\": \"La m\\u00fasica popular est\\u00e1 llena de historias incre\\u00edbles. Desde hace un mes, una de ellas va siendo descubierta poco a poco por m\\u00e1s gente a trav\\u00e9s del\", \"title\": \"La historia de Sly Stone, el genio calidosc\\u00f3pico que destruy\\u00f3 su gloria\", \"url\": \"https://elpais.com/cultura/2021/08/16/ruta_norteamericana/1629141664_247325.html\", \"origin_path\": \"output/elpais_2021_08_18_articles.csv\", \"newspaper_uid\": \"elpais\", \"host\": \"elpais.com\", \"n_tokens_title\": 7, \"n_tokens_body\": 12}, {\"uid\": \"9fd89d39eae7dc2c756facfff56996b9\", \"body\": \"(El Cairo, 55 a\\u00f1os) saluda al otro lado de la pantalla, delante de una pared forrada de libros, desde su casa en Berna. \\u201cEs mi hogar\\u201d, conf\\u00eda esta acad\\u00e9mica suizoyemen\\u00ed, con abuelos egipcios, que se instal\\u00f3 en Suiza en 1995, tras su matrimonio, y ha hecho de sus m\\u00faltiples identidades el eje de su trabajo y de su activismo a favor de los derechos humanos. Profesora adjunta de Ciencias Pol\\u00edticas en la Universidad de Z\\u00farich y consultora en temas de islam y g\\u00e9nero para gobiernos y organizaciones internacionales, Manea es una en\\u00e9rgica defensora de la separaci\\u00f3n del Estado y la religi\\u00f3n en los pa\\u00edses isl\\u00e1micos, as\\u00ed como de las libertades de expresi\\u00f3n y de creencias, y de los derechos de la mujer y las minor\\u00edas.\", \"title\": \"Elham Manea: \\u201cEl islamismo es una ideolog\\u00eda de extrema derecha, cambia las sociedades\\u201d\", \"url\": \"https://elpais.com/ideas/2021-05-11/elham-manea-las-leyes-islamicas-violan-los-derechos-de-las-mujeres-con-impunidad.html\", \"origin_path\": \"output/elpais_2021_08_18_articles.csv\", \"newspaper_uid\": \"elpais\", \"host\": \"elpais.com\", \"n_tokens_title\": 8, \"n_tokens_body\": 57}, {\"uid\": \"05c44775ca8c002f0777874a6f477d0e\", \"body\": \"Bajo la sombra, antes de la hora y con una bolsa de deporte llena de referentes \\u2014de Jane Austen a Carlos Ruiz Zaf\\u00f3n\\u2014, apuntes y documentos, Mar\\u00eda Reig (Barcelona, 28 a\\u00f1os) espera en la puerta de la confiter\\u00eda El Riojano. Los kilos que carga al hombro son parte del material con el que trabaja. El local, uno de los pocos escenarios del centro de Madrid que aparecen en su libro y han sobrevivido al paso del tiempo. Por lo menos, a los 100 a\\u00f1os atr\\u00e1s en los que se ambienta\", \"title\": \"Mar\\u00eda Reig: de montar un \\u2018crowdfunding\\u2019 para su libro a ser una superventas\", \"url\": \"https://elpais.com/eps/2021-08-18/maria-reig-de-montar-un-crowdfunding-para-su-libro-a-ser-una-superventas.html\", \"origin_path\": \"output/elpais_2021_08_18_articles.csv\", \"newspaper_uid\": \"elpais\", \"host\": \"elpais.com\", \"n_tokens_title\": 7, \"n_tokens_body\": 41}, {\"uid\": \"e10d6d329f8ebeeb61cc7a2009fcb870\", \"body\": \"Haiti is the patient that never quite has the chance to recover. The\", \"title\": \"Haiti: a country in permanent crisis\", \"url\": \"https://english.elpais.com/usa/2021-08-16/haiti-a-country-in-permanent-crisis.html\", \"origin_path\": \"output/elpais_2021_08_18_articles.csv\", \"newspaper_uid\": \"english\", \"host\": \"english.elpais.com\", \"n_tokens_title\": 5, \"n_tokens_body\": 12}, {\"uid\": \"8dbe4da7e55782ac210b220cdd5ea569\", \"body\": \"Todo el mundo dijo:\", \"title\": \"El perd\\u00f3n seg\\u00fan Ali Smith, \\u00bfo era Hannah Arendt?\", \"url\": \"https://elpais.com/babelia/2021-08-16/el-contexto-importa.html\", \"origin_path\": \"output/elpais_2021_08_18_articles.csv\", \"newspaper_uid\": \"elpais\", \"host\": \"elpais.com\", \"n_tokens_title\": 6, \"n_tokens_body\": 2}, {\"uid\": \"afd70711444f8da85dc818eed326a001\", \"body\": \"No existen los d\\u00edas pl\\u00e1cidos para\", \"title\": \"El inicio turbulento de Pedro Castillo en Per\\u00fa\", \"url\": \"https://elpais.com/internacional/2021-08-18/el-inicio-turbulento-de-pedro-castillo-en-peru.html\", \"origin_path\": \"output/elpais_2021_08_18_articles.csv\", \"newspaper_uid\": \"elpais\", \"host\": \"elpais.com\", \"n_tokens_title\": 5, \"n_tokens_body\": 3}, {\"uid\": \"768d0429289fd0e630d80dade58df4b3\", \"body\": \"Las nuevas disposiciones del\", \"title\": \"Las tensiones entre M\\u00e9xico y Estados Unidos crecen por los conflictos sindicales y las diferencias sobre el T-MEC\", \"url\": \"https://elpais.com/mexico/2021-08-18/las-tensiones-entre-mexico-y-estados-unidos-crecen-por-los-conflictos-sindicales-y-las-diferencias-sobre-el-t-mec.html\", \"origin_path\": \"output/elpais_2021_08_18_articles.csv\", \"newspaper_uid\": \"elpais\", \"host\": \"elpais.com\", \"n_tokens_title\": 7, \"n_tokens_body\": 2}, {\"uid\": \"bb77bda02c34d6ea253c21d25de46f49\", \"body\": \"Cae fuego en la calle, y en casa del m\\u00fasico\", \"title\": \"La magia de Buena Vista Social Club regresa 25 a\\u00f1os despu\\u00e9s\", \"url\": \"https://elpais.com/revista-de-verano/2021-08-18/la-magia-de-buena-vista-social-club-regresa-25-anos-despues.html\", \"origin_path\": \"output/elpais_2021_08_18_articles.csv\", \"newspaper_uid\": \"elpais\", \"host\": \"elpais.com\", \"n_tokens_title\": 8, \"n_tokens_body\": 5}, {\"uid\": \"62369b6fb41fe4173a9a51d2dfaac008\", \"body\": \"La pandemia de coronavirus est\\u00e1 obligando a encontrar nuevas formas de ocio y tienta a pasar m\\u00e1s tiempo  al aire libre despu\\u00e9s de un a\\u00f1o encerrados en casa. Esto es lo que asegura el fot\\u00f3grafo Jakub Zdechovan, uno de los impulsores de\", \"title\": \"Camperguru, la plataforma que quiere convertirse en la \\u2018Gu\\u00eda Michelin\\u2019 de los campistas\", \"url\": \"https://elpais.com/tecnologia/2021-08-18/camperguru-la-plataforma-que-quiere-convertirse-en-la-guia-michelin-de-los-campistas.html\", \"origin_path\": \"output/elpais_2021_08_18_articles.csv\", \"newspaper_uid\": \"elpais\", \"host\": \"elpais.com\", \"n_tokens_title\": 7, \"n_tokens_body\": 21}, {\"uid\": \"30456c5907696a99e43405b1a0db80a1\", \"body\": \"Nuestros primos m\\u00e1s cercanos entre los grandes simios,\", \"title\": \"Cuidar de sus amistades es la mejor estrategia para los chimpanc\\u00e9s\", \"url\": \"https://elpais.com/ciencia/2021-08-17/cuidar-de-sus-amistades-es-la-mejor-estrategia-para-los-chimpances.html\", \"origin_path\": \"output/elpais_2021_08_18_articles.csv\", \"newspaper_uid\": \"elpais\", \"host\": \"elpais.com\", \"n_tokens_title\": 5, \"n_tokens_body\": 4}, {\"uid\": \"1fb18fdc1c821f13f0195ad22a7943c8\", \"body\": \"El informe del Grupo Interdisciplinario de Expertos Independientes de la Comisi\\u00f3n Interamericana de Derechos Humanos (GIEI-Bolivia) ha concluido que en\", \"title\": \"El Grupo de Expertos de la CIDH concluye que hubo ejecuciones sumarias y masacres en la crisis pol\\u00edtica boliviana de 2019\", \"url\": \"https://elpais.com/internacional/2021-08-17/el-grupo-de-expertos-de-la-cidh-concluye-que-hubo-ejecuciones-sumarias-y-masacres-en-la-crisis-politica-boliviana-de-2019.html\", \"origin_path\": \"output/elpais_2021_08_18_articles.csv\", \"newspaper_uid\": \"elpais\", \"host\": \"elpais.com\", \"n_tokens_title\": 10, \"n_tokens_body\": 10}, {\"uid\": \"936fae52e3544b6109a832195aa2ffec\", \"body\": \"In his iconic 1995 book on the Haitian revolution,\", \"title\": \"The conquest of Mexico under question, 500 years on\", \"url\": \"https://english.elpais.com/usa/2021-08-09/the-conquest-of-mexico-under-question-500-years-on.html\", \"origin_path\": \"output/elpais_2021_08_18_articles.csv\", \"newspaper_uid\": \"english\", \"host\": \"english.elpais.com\", \"n_tokens_title\": 8, \"n_tokens_body\": 8}, {\"uid\": \"349964cc50aed76c4478fa4773be38ed\", \"body\": \"El amor como amenaza. No como disfrute, como apoyo, como acompa\\u00f1amiento, como catalizador del deseo y los proyectos o formas m\\u00e1s fruct\\u00edferas de vida, sino como una amenaza constante a la seguridad f\\u00edsica, a la estabilidad mental y al propio transcurso de la vida y la libertad. Es la propuesta de Cristina Rivera Garza en\", \"title\": \"Cristina Rivera Garza: \\u201cLa palabra escrita puede convocar apariciones\\u201d\", \"url\": \"https://elpais.com/babelia/2021-08-17/cristina-rivera-garza-la-palabra-escrita-puede-convocar-apariciones.html\", \"origin_path\": \"output/elpais_2021_08_18_articles.csv\", \"newspaper_uid\": \"elpais\", \"host\": \"elpais.com\", \"n_tokens_title\": 8, \"n_tokens_body\": 26}, {\"uid\": \"2b8d5be1929fa294352af11d44991575\", \"body\": \"El ser humano lleva 400.000 generaciones habitando este orbe de azul y tierra. Ha soportado semanas en las que parec\\u00eda que nunca dejar\\u00eda de llover y meses de un est\\u00edo infinito. Conoce las consecuencias de la aridez. Los acadios desaparecieron hace 4.000 a\\u00f1os, los mayas entre los siglos VIII y IX despu\\u00e9s de Cristo\", \"title\": \"El control del agua: la guerra econ\\u00f3mica que se avecina\", \"url\": \"https://elpais.com/economia/2021-08-15/el-control-del-agua-la-guerra-economica-que-se-avecina.html\", \"origin_path\": \"output/elpais_2021_08_18_articles.csv\", \"newspaper_uid\": \"elpais\", \"host\": \"elpais.com\", \"n_tokens_title\": 5, \"n_tokens_body\": 30}, {\"uid\": \"b62c492a669fa22e1e174bad2f695593\", \"body\": \"En medio de la guerra civil que arras\\u00f3 Afganist\\u00e1n tras la retirada de las tropas sovi\\u00e9ticas, a mediados de los a\\u00f1os noventa, surgi\\u00f3 una milicia que poco a poco fue conquistando terreno, con una ideolog\\u00eda que mezclaba la versi\\u00f3n m\\u00e1s radical del islam, el\", \"title\": \"Todas las guerras perdidas de Afganist\\u00e1n\", \"url\": \"https://elpais.com/babelia/2021-08-18/todas-las-guerras-perdidas-de-afganistan.html\", \"origin_path\": \"output/elpais_2021_08_18_articles.csv\", \"newspaper_uid\": \"elpais\", \"host\": \"elpais.com\", \"n_tokens_title\": 4, \"n_tokens_body\": 21}, {\"uid\": \"d7f4a4d932f2f7a3069b7a8ed04384d7\", \"body\": \"El consejo de administraci\\u00f3n de EL PA\\u00cdS ha ratificado este lunes por unanimidad el nombramiento de Pepa Bueno como directora del peri\\u00f3dico, en sustituci\\u00f3n de Javier Moreno. El relevo en la direcci\\u00f3n del diario se har\\u00e1 efectivo el martes. De acuerdo con el Estatuto de la Redacci\\u00f3n de EL PA\\u00cdS,\", \"title\": \"El consejo de administraci\\u00f3n de EL PA\\u00cdS ratifica el nombramiento de Pepa Bueno como directora\", \"url\": \"https://elpais.com/sociedad/2021-08-02/el-consejo-de-administracion-de-el-pais-ratifica-el-nombramiento-de-pepa-bueno-como-directora.html\", \"origin_path\": \"output/elpais_2021_08_18_articles.csv\", \"newspaper_uid\": \"elpais\", \"host\": \"elpais.com\", \"n_tokens_title\": 8, \"n_tokens_body\": 24}, {\"uid\": \"2300859879b755db2306cf923f58b07c\", \"body\": \"Mustafa Murat Ayhan confes\\u00f3 a principios de agosto haber violado, matado y descuartizado a Azra G\\u00fclendam Haytaoglu, estudiante de Periodismo de 21 a\\u00f1os. Unos d\\u00edas despu\\u00e9s, \\u00dcmitcan Uygun, principal sospechoso del asesinato de su anterior pareja en 2020, fue detenido por el cargo de homicidio deliberado de Esra Hankulu. Estos hombres han puesto de nuevo a Turqu\\u00eda frente al problema de la violencia contra las mujeres y la impunidad que la rodea. Y las mujeres turcas, una vez m\\u00e1s, han exigido en las calles\", \"title\": \"Las lucha de las mujeres turcas por sus derechos (ahora que nada las protege)\", \"url\": \"https://elpais.com/planeta-futuro/2021-08-17/las-mujeres-turcas-resisten-las-embestidas-contra-sus-derechos.html\", \"origin_path\": \"output/elpais_2021_08_18_articles.csv\", \"newspaper_uid\": \"elpais\", \"host\": \"elpais.com\", \"n_tokens_title\": 6, \"n_tokens_body\": 46}, {\"uid\": \"4107ef1f8899d026719d40b16867f904\", \"body\": \"Las tres temporadas de\", \"title\": \"\\u2018Land Girls\\u2019 o la imbatible calidad de la BBC\", \"url\": \"https://elpais.com/television/2021-08-18/land-girls-o-la-imbatible-calidad-de-la-bbc.html\", \"origin_path\": \"output/elpais_2021_08_18_articles.csv\", \"newspaper_uid\": \"elpais\", \"host\": \"elpais.com\", \"n_tokens_title\": 5, \"n_tokens_body\": 2}, {\"uid\": \"0deda4edf603719e541f2e6c85696925\", \"body\": \"Despu\\u00e9s de 32 a\\u00f1os tras las rejas, el que fuera el primer gran capo de la droga de la historia de M\\u00e9xico ha decidido hablar. Miguel \\u00c1ngel F\\u00e9lix Gallardo (Sinaloa, 76 a\\u00f1os), que cumple condena en una c\\u00e1rcel de m\\u00e1xima seguridad de Guadalajara por el brutal asesinato en 1985 del agente infiltrado de la Agencia Antidrogas de Estados Unidos (DEA)\", \"title\": \"El jefe de jefes del narco mexicano lo niega todo\", \"url\": \"https://elpais.com/mexico/2021-08-18/el-jefe-de-jefes-del-narco-mexicano-lo-niega-todo.html\", \"origin_path\": \"output/elpais_2021_08_18_articles.csv\", \"newspaper_uid\": \"elpais\", \"host\": \"elpais.com\", \"n_tokens_title\": 5, \"n_tokens_body\": 32}, {\"uid\": \"b0239689e18981f4e8a227577980cef2\", \"body\": \"Isabel Andrade, de 18 a\\u00f1os, fue una de las primeras en llegar el s\\u00e1bado a uno de los puestos de vacunaci\\u00f3n en S\\u00e3o Paulo y esper\\u00f3 ansiosamente su turno. De fondo, sonaban las comparsas de carnaval contratadas por el Ayuntamiento para animar durante el fin de semana la \\u201cVirada da Vacina\\u201d, 34 horas seguidas de vacunaci\\u00f3n en las que se administr\\u00f3 la primera dosis de la vacuna contra la covid-19 a casi 500.000 personas entre 18 y 21 a\\u00f1os. \\u201cEvito salir de casa desde el inicio de la pandemia, pero ahora puedo so\\u00f1ar con divertirme en las calles, \\u00bfno? \\u00a1No puedo esperar!\\u201d, celebr\\u00f3 la brasile\\u00f1a.\", \"title\": \"\\u201cEsperanza fiestera\\u201d: Brasil supera a EE UU en adultos vacunados con una primera dosis contra la covid-19\", \"url\": \"https://elpais.com/internacional/2021-08-17/esperanza-fiestera-brasil-supera-a-ee-uu-en-adultos-vacunados-con-una-primera-dosis-contra-la-covid-19.html\", \"origin_path\": \"output/elpais_2021_08_18_articles.csv\", \"newspaper_uid\": \"elpais\", \"host\": \"elpais.com\", \"n_tokens_title\": 10, \"n_tokens_body\": 49}, {\"uid\": \"dcc5904e4b0fdb61c4bb28b16086f3e6\", \"body\": \"Como parte de la transici\\u00f3n pol\\u00edtica vivida en todo el pa\\u00eds tras los pasados\", \"title\": \"Avances legislativos para los mexiquenses\", \"url\": \"https://elpais.com/sociedad/2021-08-13/avances-legislativos-para-los-mexiquenses.html\", \"origin_path\": \"output/elpais_2021_08_18_articles.csv\", \"newspaper_uid\": \"elpais\", \"host\": \"elpais.com\", \"n_tokens_title\": 3, \"n_tokens_body\": 7}, {\"uid\": \"5a9f8bd70bdf0b449d0c8a7ea12ff08e\", \"body\": \"Los pa\\u00edses de Am\\u00e9rica Latina est\\u00e1n migrando hacia modelos de desarrollos sostenibles y circulares, implementando innovadores motores de inversi\\u00f3n y financiamiento para potenciar sus econom\\u00edas. En este escenario, la electrificaci\\u00f3n est\\u00e1 tomando un rol clave para lograr ciudades m\\u00e1s limpias, resilientes e inclusivas.\", \"title\": \"Transformando el futuro del transporte p\\u00fablico en Am\\u00e9rica Latina\", \"url\": \"https://elpais.com/sociedad/2021-08-16/transformando-el-futuro-del-transporte-publico-en-america-latina.html\", \"origin_path\": \"output/elpais_2021_08_18_articles.csv\", \"newspaper_uid\": \"elpais\", \"host\": \"elpais.com\", \"n_tokens_title\": 6, \"n_tokens_body\": 26}, {\"uid\": \"48d5bdeaee8c53ba050b264e9d93b22c\", \"body\": \"Como muchas otras personas que durante el \\u00faltimo a\\u00f1o han estado tratando de figurarse c\\u00f3mo confrontar el problema de la inmersi\\u00f3n modificada o empobrecida, si estuviese yo leyendo esta nota una ma\\u00f1ana de fin de semana, probablemente esperar\\u00eda encontrar algunos ejemplos de c\\u00f3mo maximizar mi inmersi\\u00f3n de vacaciones, que no fuera en un hamam en Turqu\\u00eda, al que no tengo acceso, o escalar una gran monta\\u00f1a, no las hay en mi proximidad, y no planeo viajar para encontrarla, ni caminar en un bosque tupido.\", \"title\": \"Sumergirse en un mar, bosque o libro ayuda a la creatividad\", \"url\": \"https://elpais.com/eps/2021-08-12/inmersion-sumergirse-siempre-en-todo.html\", \"origin_path\": \"output/elpais_2021_08_18_articles.csv\", \"newspaper_uid\": \"elpais\", \"host\": \"elpais.com\", \"n_tokens_title\": 6, \"n_tokens_body\": 39}, {\"uid\": \"14edfa386661333965e37483718b074c\", \"body\": \"lo jug\\u00f3 casi todos los partidos de la Liga de la pasada temporada. Solo se perdi\\u00f3 el \\u00faltimo, intrascendente para el\", \"title\": \"La infinita f\\u00e1brica de porteros del Athletic\", \"url\": \"https://elpais.com/deportes/2021-08-18/la-infinita-fabrica-de-porteros-del-athletic.html\", \"origin_path\": \"output/elpais_2021_08_18_articles.csv\", \"newspaper_uid\": \"elpais\", \"host\": \"elpais.com\", \"n_tokens_title\": 4, \"n_tokens_body\": 10}, {\"uid\": \"d9a8516458f3387ce439b70ebb28b40b\", \"body\": \"Los talibanes no mandaban en Afganist\\u00e1n desde 2001. Aquel a\\u00f1o la burbuja de internet hab\\u00eda explotado, el m\\u00f3vil m\\u00e1s elogiado era un Nokia y Facebook, YouTube o Twitter no exist\\u00edan. Veinte a\\u00f1os despu\\u00e9s la vida digital ha cambiado mucho. La red se ha convertido en una parte de nuestras vidas donde inadvertidamente dejamos un reguero de amigos, gustos, intereses y amantes, sin prestarle mucha atenci\\u00f3n. La irrupci\\u00f3n de los talibanes de nuevo en Afganist\\u00e1n provoca que, junto con los casos algo distintos de Myanmar, Hong Kong e Irak con el Estado Isl\\u00e1mico, el anodino pasado digital de un ciudadano pueda volverse en su contra debido a un repentino cambio de r\\u00e9gimen.\", \"title\": \"El drama digital en Afganist\\u00e1n: borrarse de las redes y limpiar el historial en internet para escapar de los talibanes\", \"url\": \"https://elpais.com/tecnologia/2021-08-18/el-drama-digital-en-afganistan-borrarse-de-las-redes-y-limpiar-el-historial-online-para-escapar-de-los-talibanes.html\", \"origin_path\": \"output/elpais_2021_08_18_articles.csv\", \"newspaper_uid\": \"elpais\", \"host\": \"elpais.com\", \"n_tokens_title\": 10, \"n_tokens_body\": 58}, {\"uid\": \"46d38c85dc19970ce6340e9f326d37c0\", \"body\": \"y cambiar las pr\\u00e1cticas agr\\u00edcolas actuales para prevenir futuras pandemias. As\\u00ed ha concluido el Grupo de Trabajo Cient\\u00edfico Internacional en Prevenci\\u00f3n de Pandemias, organizado por el Instituto de Salud Global de Harvard junto con la Escuela de Salud P\\u00fablica T.H. Chan de Harvard, en un\", \"title\": \"El riesgo de pandemias ha aumentado en las \\u00faltimas cinco d\\u00e9cadas por el maltrato al planeta\", \"url\": \"https://elpais.com/planeta-futuro/2021-08-18/el-riesgo-de-pandemias-ha-aumentado-en-las-ultimas-cinco-decadas-por-el-maltrato-al-planeta.html\", \"origin_path\": \"output/elpais_2021_08_18_articles.csv\", \"newspaper_uid\": \"elpais\", \"host\": \"elpais.com\", \"n_tokens_title\": 8, \"n_tokens_body\": 26}, {\"uid\": \"4450239055bcab32fcad922c8b70e274\", \"body\": \"\\u201cSon las decisiones que tomamos ahora, para aliviar el sufrimiento entre aquellos que conocemos y aquellos a los que tal vez nunca nos encontremos, las que probar\\u00e1n nuestra humanidad \\u201c. Con esta frase finaliza el comunicado que los duques de Sussex\", \"title\": \"Meghan Markle y el pr\\u00edncipe Enrique llaman a la acci\\u00f3n frente a la situaci\\u00f3n en Afganist\\u00e1n y Hait\\u00ed\", \"url\": \"https://elpais.com/gente/2021-08-18/meghan-markle-y-el-principe-enrique-llaman-a-la-accion-frente-a-la-situacion-en-afganistan-y-haiti.html\", \"origin_path\": \"output/elpais_2021_08_18_articles.csv\", \"newspaper_uid\": \"elpais\", \"host\": \"elpais.com\", \"n_tokens_title\": 10, \"n_tokens_body\": 19}, {\"uid\": \"06df0d5f3196ea2262c5e86b7e4d4107\", \"body\": \"La arqueolog\\u00eda pol\\u00edtica permite imaginar la democratizaci\\u00f3n de Cuba a trav\\u00e9s de la Constituci\\u00f3n de 1940, que Fidel Castro alab\\u00f3 en\", \"title\": \"Aleccionadora prehistoria cubana\", \"url\": \"https://elpais.com/opinion/2021-08-17/aleccionadora-prehistoria-cubana.html\", \"origin_path\": \"output/elpais_2021_08_18_articles.csv\", \"newspaper_uid\": \"elpais\", \"host\": \"elpais.com\", \"n_tokens_title\": 3, \"n_tokens_body\": 11}, {\"uid\": \"387262dd07a314615adff7d9cb46f0cf\", \"body\": \"Costa de Marfil comenz\\u00f3 este lunes una amplia campa\\u00f1a de vacunaci\\u00f3n para hacer frente al brote de \\u00e9bola que declar\\u00f3 el pasado s\\u00e1bado\", \"title\": \"Costa de Marfil comienza a vacunar contra el \\u00e9bola\", \"url\": \"https://elpais.com/planeta-futuro/2021-08-18/costa-de-marfil-comienza-a-vacunar-contra-el-ebola.html\", \"origin_path\": \"output/elpais_2021_08_18_articles.csv\", \"newspaper_uid\": \"elpais\", \"host\": \"elpais.com\", \"n_tokens_title\": 5, \"n_tokens_body\": 14}, {\"uid\": \"cf130ca4f859cccda713e344392cfbd7\", \"body\": \"Joe Biden ha anunciado este mi\\u00e9rcoles un plan para ofrecer\", \"title\": \"EE UU planea ofrecer en septiembre una tercera dosis de la vacuna a la poblaci\\u00f3n general para atajar la variante delta\", \"url\": \"https://elpais.com/sociedad/2021-08-18/ee-uu-planea-ofrecer-en-septiembre-una-tercera-dosis-de-la-vacuna-a-la-poblacion-general-para-atajar-la-variante-delta.html\", \"origin_path\": \"output/elpais_2021_08_18_articles.csv\", \"newspaper_uid\": \"elpais\", \"host\": \"elpais.com\", \"n_tokens_title\": 13, \"n_tokens_body\": 6}, {\"uid\": \"ba489a6ba404a5dec6481603288bfe6a\", \"body\": \"Hasta que a Rosa Mar\\u00eda Montano Ullune le diagnosticaron osteog\\u00e9nesis imperfecta \\u2014una enfermedad conocida como huesos de cristal\\u2014, se sucedieron innumerables lesiones y fracturas. La primera, a los cuatro a\\u00f1os. Y la \\u00faltima, a los 16. Con miedo y sin saber a\\u00fan qu\\u00e9 pasaba en el cuerpo de su \\u00fanica hija, los Montano tuvieron que ense\\u00f1arle lo b\\u00e1sico (lectura, escritura y matem\\u00e1ticas) desde casa, en el\", \"title\": \"C\\u00f3mo hacer para que lo \\u2018normal\\u2019 deje de ser excluyente\", \"url\": \"https://elpais.com/planeta-futuro/2021-08-18/como-hacer-para-que-lo-normal-deje-de-ser-excluyente.html\", \"origin_path\": \"output/elpais_2021_08_18_articles.csv\", \"newspaper_uid\": \"elpais\", \"host\": \"elpais.com\", \"n_tokens_title\": 6, \"n_tokens_body\": 32}, {\"uid\": \"e4ce3100743e4f930764cb0a75d08a16\", \"body\": \"The future has arrived, thinks Mar\\u00eda del Carmen Montero. The recently inaugurated cable car reminds her of\", \"title\": \"Iztapalapa: a round trip in Latin America\\u2019s longest cable car\", \"url\": \"https://english.elpais.com/usa/2021-08-18/iztapalapa-a-round-trip-in-latin-americas-longest-cable-car.html\", \"origin_path\": \"output/elpais_2021_08_18_articles.csv\", \"newspaper_uid\": \"english\", \"host\": \"english.elpais.com\", \"n_tokens_title\": 10, \"n_tokens_body\": 15}, {\"uid\": \"a70ed446ad5aee4ba78ac2f28fad7a0d\", \"body\": \"En oto\\u00f1o de 2013\", \"title\": \"El emblema de un horror inadmisible\", \"url\": \"https://elpais.com/internacional/2021-08-18/el-emblema-de-un-horror-inadmisible.html\", \"origin_path\": \"output/elpais_2021_08_18_articles.csv\", \"newspaper_uid\": \"elpais\", \"host\": \"elpais.com\", \"n_tokens_title\": 3, \"n_tokens_body\": 1}, {\"uid\": \"aceb7f33242825c2725a2f598a8c4c49\", \"body\": \"Las\", \"title\": \"Las negociaciones en M\\u00e9xico dejan en la sombra la estructura creada por Juan Guaid\\u00f3\", \"url\": \"https://elpais.com/internacional/2021-08-18/las-negociaciones-en-mexico-dejan-en-la-sombra-la-estructura-creada-por-juan-guaido.html\", \"origin_path\": \"output/elpais_2021_08_18_articles.csv\", \"newspaper_uid\": \"elpais\", \"host\": \"elpais.com\", \"n_tokens_title\": 8, \"n_tokens_body\": 0}, {\"uid\": \"674b3ba18c0e4185e018ac3c83b7a50a\", \"body\": \"Mensaje tipo de\", \"title\": \"La voz de los talibanes ya tiene (un) rostro\", \"url\": \"https://elpais.com/internacional/2021-08-18/la-voz-de-los-talibanes-ya-tiene-un-rostro.html\", \"origin_path\": \"output/elpais_2021_08_18_articles.csv\", \"newspaper_uid\": \"elpais\", \"host\": \"elpais.com\", \"n_tokens_title\": 3, \"n_tokens_body\": 2}, {\"uid\": \"4eff6ff4b44c444bdffbd7e60e8ad9df\", \"body\": \"El exilio no es aquel lugar dorado que alg\\u00fan d\\u00eda le contaron.\", \"title\": \"Washington, la capital de la justicia guatemalteca en el exilio\", \"url\": \"https://elpais.com/internacional/2021-08-16/washington-la-capital-de-la-justicia-guatemalteca-en-el-exilio.html\", \"origin_path\": \"output/elpais_2021_08_18_articles.csv\", \"newspaper_uid\": \"elpais\", \"host\": \"elpais.com\", \"n_tokens_title\": 5, \"n_tokens_body\": 7}, {\"uid\": \"66c43e1f768e56ee98a29850ac320faf\", \"body\": \"Con informaci\\u00f3n de\", \"title\": \"Consejo Moral apoya memor\\u00e1ndum de Entendimiento al di\\u00e1logo en M\\u00e9xico\", \"url\": \"http://www.eluniversal.com/politica/104729/consejo-moral-apoya-memorandum-de-entendimiento-al-dialogo-en-mexico\", \"origin_path\": \"output/eluniversal_2021_08_18_articles.csv\", \"newspaper_uid\": \"eluniversal\", \"host\": \"www.eluniversal.com\", \"n_tokens_title\": 7, \"n_tokens_body\": 1}, {\"uid\": \"eb7da4be5403ae9d114da75033041508\", \"body\": \"A juicio del abogado y crimin\\u00f3logo Luis Izquiel, \\u201ces positivo que se haya realizado el operativo que aparentemente acab\\u00f3 con el feudo criminal que ten\\u00eda el Koki en la Cota 905, al menos los vecinos tendr\\u00e1n un poco de normalidad por un tiempo\\u201d.\", \"title\": \"Otras bandas esperan para ocupar el espacio que dejaron Koki y Loco Leo\", \"url\": \"http://www.eluniversal.com/sucesos/104075/otras-bandas-esperan-para-ocupar-el-espacio-que-dejaron-koki-y-loco-leo\", \"origin_path\": \"output/eluniversal_2021_08_18_articles.csv\", \"newspaper_uid\": \"eluniversal\", \"host\": \"www.eluniversal.com\", \"n_tokens_title\": 8, \"n_tokens_body\": 18}, {\"uid\": \"73e81e8615ae0846001b332105cf8a93\", \"body\": \"La importante casa de sangr\\u00edas conquista el mercado y los paladares m\\u00e1s exigentes a trav\\u00e9s del lanzamiento de Lolea Ros\\u00e9, un c\\u00f3ctel de vino con la gracia y frescura de un blanco y la seriedad y profundidad de un tinto; aparece este rosado de uvas Garnacha y tempranillo para todos aquellos que disfrutan del equilibrio de ambos, es un refrescante sorbo con aroma de la flor de hibisco, sabor de fondo picante y especiado del jengibre con un toque frizzante del fino carb\\u00f3nico, que despertar\\u00e1 todos tus sentidos.\", \"title\": \"Lolea Ros\\u00e9, la nueva propuesta burbujeante e innovadora de la casa espa\\u00f1ola Lolea\", \"url\": \"http://www.eluniversal.com/gastronomia/104756/lolea-rose-la-nueva-propuesta-burbujeante-e-innovadora-de-la-casa-espanola-lolea\", \"origin_path\": \"output/eluniversal_2021_08_18_articles.csv\", \"newspaper_uid\": \"eluniversal\", \"host\": \"www.eluniversal.com\", \"n_tokens_title\": 9, \"n_tokens_body\": 43}, {\"uid\": \"8494fa066edccdfeb9a9b592541598a0\", \"body\": \"A trav\\u00e9s de la red social Twitter, el diplom\\u00e1tico venezolano asegur\\u00f3 que esperan seguir trabajando en t\\u00e9rminos de respeto y sana cooperaci\\u00f3n con la ONU.\", \"title\": \"Arreaza espera trabajar con respeto y cooperaci\\u00f3n con nuevo representante ONU en Venezuela\", \"url\": \"http://www.eluniversal.com/politica/104738/arreaza-espera-trabajar-con-respeto-y-cooperacion-con-nuevo-representante-onu-en-venezuela\", \"origin_path\": \"output/eluniversal_2021_08_18_articles.csv\", \"newspaper_uid\": \"eluniversal\", \"host\": \"www.eluniversal.com\", \"n_tokens_title\": 9, \"n_tokens_body\": 15}, {\"uid\": \"5854e4d756185dd62467ffbc21647ffc\", \"body\": \"Los datos obtenidos durante la jornada reflejaron una elevaci\\u00f3n porcentual del 1,53%, frente a los n\\u00fameros del d\\u00eda previo.\", \"title\": \"Bolsa de Valores de Caracas cerr\\u00f3 la jornada con n\\u00fameros verdes\", \"url\": \"http://www.eluniversal.com/economia/104748/bolsa-de-valores-de-caracas-cerro-la-jornada-con-numeros-verdes\", \"origin_path\": \"output/eluniversal_2021_08_18_articles.csv\", \"newspaper_uid\": \"eluniversal\", \"host\": \"www.eluniversal.com\", \"n_tokens_title\": 7, \"n_tokens_body\": 10}, {\"uid\": \"e5bc2870b281c93950c1b5942b073fca\", \"body\": null, \"title\": \"En la tierra\", \"url\": \"http://www.eluniversal.com/el-universal/104590/en-la-tierra\", \"origin_path\": \"output/eluniversal_2021_08_18_articles.csv\", \"newspaper_uid\": \"eluniversal\", \"host\": \"www.eluniversal.com\", \"n_tokens_title\": 1, \"n_tokens_body\": 0}, {\"uid\": \"3f50f8c44349d3e680e8706e04b416e1\", \"body\": null, \"title\": \"Dieciocho candidatas competir\\u00e1n por el t\\u00edtulo del Miss Venezuela 2021\", \"url\": \"http://www.eluniversal.com/entretenimiento/104700/dieciocho-candidatas-competiran-por-el-titulo-del-miss-venezuela-2021\", \"origin_path\": \"output/eluniversal_2021_08_18_articles.csv\", \"newspaper_uid\": \"eluniversal\", \"host\": \"www.eluniversal.com\", \"n_tokens_title\": 6, \"n_tokens_body\": 0}, {\"uid\": \"176f6fb1c1ddc91ef69115e23e7663bb\", \"body\": \"El belga consigui\\u00f3 en la meta de Albacete su segundo triunfo en esta Vuelta despu\\u00e9s del logrado en Burgos, de nuevo por delante de otro sprinter en buena forma en esta ronda espa\\u00f1ola, el neerland\\u00e9s Fabio Jakobsen (Deceuninck-Quick Step), vencedor el martes en Molina de Arag\\u00f3n.\", \"title\": \"El franc\\u00e9s Kenny Elissonde es el nuevo maillot rojo de la Vuelta a Espa\\u00f1a\", \"url\": \"http://www.eluniversal.com/deportes/104740/el-frances-kenny-elissonde-es-el-nuevo-maillot-rojo-de-la-vuelta-a-espana\", \"origin_path\": \"output/eluniversal_2021_08_18_articles.csv\", \"newspaper_uid\": \"eluniversal\", \"host\": \"www.eluniversal.com\", \"n_tokens_title\": 8, \"n_tokens_body\": 25}, {\"uid\": \"688f2993c53e9b1a284d9af9393b25cc\", \"body\": null, \"title\": \"Reportan aver\\u00eda en cableado de L\\u00ednea 2 del Metro de Caracas\", \"url\": \"http://www.eluniversal.com/caracas/104556/reportan-averia-en-cableado-de-linea-2-del-metro-de-caracas\", \"origin_path\": \"output/eluniversal_2021_08_18_articles.csv\", \"newspaper_uid\": \"eluniversal\", \"host\": \"www.eluniversal.com\", \"n_tokens_title\": 6, \"n_tokens_body\": 0}, {\"uid\": \"d659992471b2709c7819a7962549af06\", \"body\": null, \"title\": \"Onda tropical N\\u00b0 36 generar\\u00e1 lluvias en gran parte del pa\\u00eds\", \"url\": \"http://www.eluniversal.com/venezuela/104704/onda-tropical-n-36-generara-lluvias-en-gran-parte-del-pais\", \"origin_path\": \"output/eluniversal_2021_08_18_articles.csv\", \"newspaper_uid\": \"eluniversal\", \"host\": \"www.eluniversal.com\", \"n_tokens_title\": 7, \"n_tokens_body\": 0}, {\"uid\": \"22498a78cafc228d70ee2a50f788e0f3\", \"body\": \"Por otra parte, la revista francesa Paris Macht ha publicado que Charlene tiene entre sus amistades m\\u00e1s cercanas a una numer\\u00f3loga que se llama Dawn Earl y quien se ha convertido en su confidente. Seg\\u00fan la publicaci\\u00f3n francesa, la\\u00a0maga determina todos los movimientos de la esposa de Alberto, indic\\u00e1ndole cuando y donde puede asistir y quienes deben formar su c\\u00edrculo de amistades.\", \"title\": \"Una numer\\u00f3loga en la vida de la princesa Charlene\", \"url\": \"http://www.eluniversal.com/sociales/104640/una-numerologa-en-la-vida-de-charlene\", \"origin_path\": \"output/eluniversal_2021_08_18_articles.csv\", \"newspaper_uid\": \"eluniversal\", \"host\": \"www.eluniversal.com\", \"n_tokens_title\": 4, \"n_tokens_body\": 30}, {\"uid\": \"5786b3ffb846ce61e7efacce8c54c957\", \"body\": \"De acuerdo con el documento, el Ejecutivo despu\\u00e9s de m\\u00e1s de 18 meses, \\u201crecibir\\u00e1 este mes de agosto por primera vez, m\\u00e1s de 1.500 millones de d\\u00f3lares l\\u00edquidos o en efectivo, producto del trueque, aumento de la salida de buques de petr\\u00f3leo para su comercializaci\\u00f3n y otros ingresos.\", \"title\": \"Soc\\u00edas L\\u00f3pez: Venezuela recibir\\u00e1 m\\u00e1s de $1.500 por exportaci\\u00f3n petrolera\", \"url\": \"http://www.eluniversal.com/economia/104728/socias-lopez-venezuela-recibira-mas-de-1500-por-exportacion-petrolera\", \"origin_path\": \"output/eluniversal_2021_08_18_articles.csv\", \"newspaper_uid\": \"eluniversal\", \"host\": \"www.eluniversal.com\", \"n_tokens_title\": 6, \"n_tokens_body\": 22}, {\"uid\": \"c3a763e65091c2ecb3beb0d7f945e762\", \"body\": \"Detenido e imputado\\u00a0en Lara el aberrado sexual Jos\\u00e9 Parra (42 a\\u00f1os) por los delitos de actos lascivos y amenaza, el sujeto cuenta con registros policiales por droga (Lara) y violencia sexual (Portuguesa), indic\\u00f3 el fiscal desde su cuenta de Twitter.\", \"title\": \"Detienen a depravado sexual en Lara\", \"url\": \"http://www.eluniversal.com/venezuela/104526/detienen-a-depravado-sexual-en-lara\", \"origin_path\": \"output/eluniversal_2021_08_18_articles.csv\", \"newspaper_uid\": \"eluniversal\", \"host\": \"www.eluniversal.com\", \"n_tokens_title\": 4, \"n_tokens_body\": 25}, {\"uid\": \"d56d8b58b9a78aeb5318c24277cc8b1d\", \"body\": \"Venezuela Sin L\\u00edmites es un articulador de alianzas, dice su presidenta Mireya Blavia de Cisneros (CORTES\\u00cdA)\", \"title\": \"Venezuela Sin L\\u00edmites: 22 a\\u00f1os de solidaridad en hechos concretos\", \"url\": \"http://www.eluniversal.com/sociales/104622/venezuela-sin-limites-22-anos-de-solidaridad-en-hechos-concretos\", \"origin_path\": \"output/eluniversal_2021_08_18_articles.csv\", \"newspaper_uid\": \"eluniversal\", \"host\": \"www.eluniversal.com\", \"n_tokens_title\": 6, \"n_tokens_body\": 10}, {\"uid\": \"6092da2cf351a96be9cea86fee735918\", \"body\": \"La mucormicosis afecta principalmente a pacientes con problemas de salud de base, como diabetes o sida, o que toman medicamentos que reducen la capacidad del cuerpo para combatir g\\u00e9rmenes y enfermedades, como es el caso de enfermos de Covid-19.\", \"title\": \"Gobernador de M\\u00e9rida confirm\\u00f3 primer caso de hongo negro relacionado con Covid-19\", \"url\": \"http://www.eluniversal.com/venezuela/104726/gobernador-de-merida-confirmo-primer-caso-de-hongo-negro-relacionado-con-covid19\", \"origin_path\": \"output/eluniversal_2021_08_18_articles.csv\", \"newspaper_uid\": \"eluniversal\", \"host\": \"www.eluniversal.com\", \"n_tokens_title\": 8, \"n_tokens_body\": 19}, {\"uid\": \"f10a37d81e67aa6d62064e2c43077853\", \"body\": null, \"title\": \"Esposo de Scarlett Johansson confirma que la actriz est\\u00e1 embarazada\", \"url\": \"http://www.eluniversal.com/entretenimiento/104708/esposo-de-scarlett-johansson-confirma-que-la-actriz-esta-embarazada\", \"origin_path\": \"output/eluniversal_2021_08_18_articles.csv\", \"newspaper_uid\": \"eluniversal\", \"host\": \"www.eluniversal.com\", \"n_tokens_title\": 6, \"n_tokens_body\": 0}, {\"uid\": \"034ea5e51b4b864ad1437471f83fa1ac\", \"body\": \"Los municipios Ezequiel Zamora, Antonio Jos\\u00e9 de Sucre y Pedraza de Barinas, est\\u00e1n en una cr\\u00edtica situaci\\u00f3n debido a las inundaciones presuntamente originadas por la apertura de compuertas de la represa Caparo y las precipitaciones registradas en la zona durante las \\u00faltimas horas.\", \"title\": \"Inundaci\\u00f3n en tres municipios de Barinas al desbordarse los r\\u00edos Surip\\u00e1 y Anaro\", \"url\": \"http://www.eluniversal.com/venezuela/104753/inundacion-en-tres-municipios-de-barinas-al-desbordarse-los-rios-suripa-y-anaro\", \"origin_path\": \"output/eluniversal_2021_08_18_articles.csv\", \"newspaper_uid\": \"eluniversal\", \"host\": \"www.eluniversal.com\", \"n_tokens_title\": 8, \"n_tokens_body\": 23}, {\"uid\": \"6abc95056e36f655fba0424634cf956d\", \"body\": \"No se registraron heridos ni da\\u00f1os graves.\", \"title\": \"Se registr\\u00f3 incendio en la sede del Saime de Plaza Caracas este martes\", \"url\": \"http://www.eluniversal.com/caracas/104625/reportaron-incendio-en-sede-del-saime-de-plaza-caracas-este-martes\", \"origin_path\": \"output/eluniversal_2021_08_18_articles.csv\", \"newspaper_uid\": \"eluniversal\", \"host\": \"www.eluniversal.com\", \"n_tokens_title\": 7, \"n_tokens_body\": 4}, {\"uid\": \"3a9d24f94bd5b149fac28e4cb8118174\", \"body\": \"Vicente Fern\\u00e1ndez Jr. asegur\\u00f3 que los rumores sobre que su padre, Vicente Fern\\u00e1ndez, sufra el s\\u00edndrome Guillain-Barr\\u00e9 son falsos.\", \"title\": \"Familia desmiente que Vicente Fern\\u00e1ndez tenga el s\\u00edndrome Guillain-Barr\\u00e9\", \"url\": \"http://www.eluniversal.com/entretenimiento/104702/familia-desmiente-que-vicente-fernandez-tenga-el-sindrome-guillainbarre\", \"origin_path\": \"output/eluniversal_2021_08_18_articles.csv\", \"newspaper_uid\": \"eluniversal\", \"host\": \"www.eluniversal.com\", \"n_tokens_title\": 5, \"n_tokens_body\": 10}, {\"uid\": \"aef10800a98e4e8429e0ed0d1fbbbefe\", \"body\": \"\\u2022Renuncia del canciller de Per\\u00fa, H\\u00e9ctor B\\u00e9jar, por presiones de la Marina de Guerra.\", \"title\": \"D\\u00eda a D\\u00eda\", \"url\": \"http://www.eluniversal.com/politica/104682/dia-a-dia\", \"origin_path\": \"output/eluniversal_2021_08_18_articles.csv\", \"newspaper_uid\": \"eluniversal\", \"host\": \"www.eluniversal.com\", \"n_tokens_title\": 2, \"n_tokens_body\": 7}, {\"uid\": \"5883b343c782ec896d8f8ab4b7316e75\", \"body\": \"Dominic Thiem se coron\\u00f3 campe\\u00f3n del \\u00faltimo US Open disputado en Flushing Meadows, Nueva York, tras perder los dos primeros sets de la final ante el alem\\u00e1n Alexander Zverev. El tenista austr\\u00edaco protagoniz\\u00f3 entonces una incre\\u00edble remontada para llevarse las tres mangas siguientes y el t\\u00edtulo en ese grand slam.\", \"title\": \"El campe\\u00f3n Dominic Thiem no defender\\u00e1 su corona en el Abierto de Estados Unidos\", \"url\": \"http://www.eluniversal.com/deportes/104698/el-campeon-dominic-thiem-no-defendera-su-corona-en-el-us-open\", \"origin_path\": \"output/eluniversal_2021_08_18_articles.csv\", \"newspaper_uid\": \"eluniversal\", \"host\": \"www.eluniversal.com\", \"n_tokens_title\": 7, \"n_tokens_body\": 34}, {\"uid\": \"62c00ff8d98071303b3d3aa2eaf22f71\", \"body\": \"Venezuela report\\u00f3 este martes un acumulado de 320.922 casos de Covid-19 -967 nuevos y 9.831 activos- y 3.830 fallecidos -15 nuevos-.\", \"title\": \"EEUU aprueba refuerzo anticoronavirus para contrarrestar disminuci\\u00f3n de eficacia de la vacuna\", \"url\": \"http://www.eluniversal.com/internacional/104716/eeuu-aprueba-refuerzo-anticoronavirus-para-contrarrestar-disminucion-de-eficacia-de-la-vacuna\", \"origin_path\": \"output/eluniversal_2021_08_18_articles.csv\", \"newspaper_uid\": \"eluniversal\", \"host\": \"www.eluniversal.com\", \"n_tokens_title\": 8, \"n_tokens_body\": 7}]}}, {\"actions\": false, \"mode\": \"vega-lite\"});\n</script>",
      "text/plain": "alt.Chart(...)"
     },
     "metadata": {}
    }
   ],
   "execution_count": 28
  },
  {
   "cell_type": "code",
   "source": "grouped[\"n_tokens_body\"].agg([min, \"mean\", max])",
   "metadata": {
    "tags": [],
    "cell_id": "00012-6ecfdeb9-2154-4fb2-bc34-8ce5de46ddca",
    "deepnote_to_be_reexecuted": false,
    "source_hash": "8cd522f5",
    "execution_start": 1629347594555,
    "execution_millis": 73,
    "deepnote_cell_type": "code"
   },
   "outputs": [
    {
     "output_type": "execute_result",
     "execution_count": 30,
     "data": {
      "application/vnd.deepnote.dataframe.v2+json": {
       "row_count": 3,
       "column_count": 3,
       "columns": [
        {
         "name": "min",
         "dtype": "int64",
         "stats": {
          "unique_count": 2,
          "nan_count": 0,
          "min": "0",
          "max": "8",
          "histogram": [
           {
            "bin_start": 0,
            "bin_end": 0.8,
            "count": 2
           },
           {
            "bin_start": 0.8,
            "bin_end": 1.6,
            "count": 0
           },
           {
            "bin_start": 1.6,
            "bin_end": 2.4000000000000004,
            "count": 0
           },
           {
            "bin_start": 2.4000000000000004,
            "bin_end": 3.2,
            "count": 0
           },
           {
            "bin_start": 3.2,
            "bin_end": 4,
            "count": 0
           },
           {
            "bin_start": 4,
            "bin_end": 4.800000000000001,
            "count": 0
           },
           {
            "bin_start": 4.800000000000001,
            "bin_end": 5.6000000000000005,
            "count": 0
           },
           {
            "bin_start": 5.6000000000000005,
            "bin_end": 6.4,
            "count": 0
           },
           {
            "bin_start": 6.4,
            "bin_end": 7.2,
            "count": 0
           },
           {
            "bin_start": 7.2,
            "bin_end": 8,
            "count": 1
           }
          ]
         }
        },
        {
         "name": "mean",
         "dtype": "float64",
         "stats": {
          "unique_count": 3,
          "nan_count": 0,
          "min": "11.666666666666666",
          "max": "18.78205128205128",
          "histogram": [
           {
            "bin_start": 11.666666666666666,
            "bin_end": 12.378205128205128,
            "count": 1
           },
           {
            "bin_start": 12.378205128205128,
            "bin_end": 13.08974358974359,
            "count": 0
           },
           {
            "bin_start": 13.08974358974359,
            "bin_end": 13.801282051282051,
            "count": 1
           },
           {
            "bin_start": 13.801282051282051,
            "bin_end": 14.512820512820511,
            "count": 0
           },
           {
            "bin_start": 14.512820512820511,
            "bin_end": 15.224358974358974,
            "count": 0
           },
           {
            "bin_start": 15.224358974358974,
            "bin_end": 15.935897435897434,
            "count": 0
           },
           {
            "bin_start": 15.935897435897434,
            "bin_end": 16.647435897435898,
            "count": 0
           },
           {
            "bin_start": 16.647435897435898,
            "bin_end": 17.358974358974358,
            "count": 0
           },
           {
            "bin_start": 17.358974358974358,
            "bin_end": 18.070512820512818,
            "count": 0
           },
           {
            "bin_start": 18.070512820512818,
            "bin_end": 18.78205128205128,
            "count": 1
           }
          ]
         }
        },
        {
         "name": "max",
         "dtype": "int64",
         "stats": {
          "unique_count": 3,
          "nan_count": 0,
          "min": "15",
          "max": "59",
          "histogram": [
           {
            "bin_start": 15,
            "bin_end": 19.4,
            "count": 1
           },
           {
            "bin_start": 19.4,
            "bin_end": 23.8,
            "count": 0
           },
           {
            "bin_start": 23.8,
            "bin_end": 28.200000000000003,
            "count": 0
           },
           {
            "bin_start": 28.200000000000003,
            "bin_end": 32.6,
            "count": 0
           },
           {
            "bin_start": 32.6,
            "bin_end": 37,
            "count": 0
           },
           {
            "bin_start": 37,
            "bin_end": 41.400000000000006,
            "count": 0
           },
           {
            "bin_start": 41.400000000000006,
            "bin_end": 45.800000000000004,
            "count": 1
           },
           {
            "bin_start": 45.800000000000004,
            "bin_end": 50.2,
            "count": 0
           },
           {
            "bin_start": 50.2,
            "bin_end": 54.6,
            "count": 0
           },
           {
            "bin_start": 54.6,
            "bin_end": 59,
            "count": 1
           }
          ]
         }
        },
        {
         "name": "_deepnote_index_column",
         "dtype": "object"
        }
       ],
       "rows_top": [
        {
         "min": 0,
         "mean": 18.78205128205128,
         "max": 59,
         "_deepnote_index_column": "elpais"
        },
        {
         "min": 0,
         "mean": 13.772727272727273,
         "max": 43,
         "_deepnote_index_column": "eluniversal"
        },
        {
         "min": 8,
         "mean": 11.666666666666666,
         "max": 15,
         "_deepnote_index_column": "english"
        }
       ],
       "rows_bottom": null
      },
      "text/plain": "               min       mean  max\nnewspaper_uid                     \nelpais           0  18.782051   59\neluniversal      0  13.772727   43\nenglish          8  11.666667   15",
      "text/html": "<div>\n<style scoped>\n    .dataframe tbody tr th:only-of-type {\n        vertical-align: middle;\n    }\n\n    .dataframe tbody tr th {\n        vertical-align: top;\n    }\n\n    .dataframe thead th {\n        text-align: right;\n    }\n</style>\n<table border=\"1\" class=\"dataframe\">\n  <thead>\n    <tr style=\"text-align: right;\">\n      <th></th>\n      <th>min</th>\n      <th>mean</th>\n      <th>max</th>\n    </tr>\n    <tr>\n      <th>newspaper_uid</th>\n      <th></th>\n      <th></th>\n      <th></th>\n    </tr>\n  </thead>\n  <tbody>\n    <tr>\n      <th>elpais</th>\n      <td>0</td>\n      <td>18.782051</td>\n      <td>59</td>\n    </tr>\n    <tr>\n      <th>eluniversal</th>\n      <td>0</td>\n      <td>13.772727</td>\n      <td>43</td>\n    </tr>\n    <tr>\n      <th>english</th>\n      <td>8</td>\n      <td>11.666667</td>\n      <td>15</td>\n    </tr>\n  </tbody>\n</table>\n</div>"
     },
     "metadata": {}
    }
   ],
   "execution_count": 30
  },
  {
   "cell_type": "code",
   "source": "grouped.plot()",
   "metadata": {
    "tags": [],
    "cell_id": "00013-b90dc9e2-02dd-48c8-b8cc-ceb72a8665b4",
    "deepnote_to_be_reexecuted": false,
    "source_hash": "abe8e75d",
    "execution_start": 1629347624843,
    "execution_millis": 1195,
    "deepnote_cell_type": "code"
   },
   "outputs": [
    {
     "output_type": "execute_result",
     "execution_count": 31,
     "data": {
      "text/plain": "newspaper_uid\nelpais         AxesSubplot(0.125,0.125;0.775x0.755)\neluniversal    AxesSubplot(0.125,0.125;0.775x0.755)\nenglish        AxesSubplot(0.125,0.125;0.775x0.755)\ndtype: object"
     },
     "metadata": {}
    },
    {
     "data": {
      "text/plain": "<Figure size 432x288 with 1 Axes>",
      "image/png": "[encoded data removed]"
     },
     "metadata": {
      "needs_background": "light",
      "image/png": {
       "width": 368,
       "height": 248
      }
     },
     "output_type": "display_data"
    },
    {
     "data": {
      "text/plain": "<Figure size 432x288 with 1 Axes>",
      "image/png": "[encoded data removed]"
     },
     "metadata": {
      "needs_background": "light",
      "image/png": {
       "width": 368,
       "height": 248
      }
     },
     "output_type": "display_data"
    },
    {
     "data": {
      "text/plain": "<Figure size 432x288 with 1 Axes>",
      "image/png": "[encoded data removed]"
     },
     "metadata": {
      "needs_background": "light",
      "image/png": {
       "width": 368,
       "height": 248
      }
     },
     "output_type": "display_data"
    }
   ],
   "execution_count": 31
  },
  {
   "cell_type": "code",
   "source": "",
   "metadata": {
    "tags": [],
    "cell_id": "00014-e9c4a72e-1bb6-4a09-be6c-161803fb7ca2",
    "deepnote_cell_type": "code"
   },
   "outputs": [],
   "execution_count": null
  },
  {
   "cell_type": "markdown",
   "source": "<a style='text-decoration:none;line-height:16px;display:flex;color:#5B5B62;padding:10px;justify-content:end;' href='https://deepnote.com?utm_source=created-in-deepnote-cell&projectId=ea363058-8482-4b97-a1b6-14194156c350' target=\"_blank\">\n<img alt='Created in deepnote.com' style='display:inline;max-height:16px;margin:0px;margin-right:7.5px;' src='data:image/svg+xml;base64,PD94bWwgdmVyc2lvbj0iMS4wIiBlbmNvZGluZz0iVVRGLTgiPz4KPHN2ZyB3aWR0aD0iODBweCIgaGVpZ2h0PSI4MHB4IiB2aWV3Qm94PSIwIDAgODAgODAiIHZlcnNpb249IjEuMSIgeG1sbnM9Imh0dHA6Ly93d3cudzMub3JnLzIwMDAvc3ZnIiB4bWxuczp4bGluaz0iaHR0cDovL3d3dy53My5vcmcvMTk5OS94bGluayI+CiAgICA8IS0tIEdlbmVyYXRvcjogU2tldGNoIDU0LjEgKDc2NDkwKSAtIGh0dHBzOi8vc2tldGNoYXBwLmNvbSAtLT4KICAgIDx0aXRsZT5Hcm91cCAzPC90aXRsZT4KICAgIDxkZXNjPkNyZWF0ZWQgd2l0aCBTa2V0Y2guPC9kZXNjPgogICAgPGcgaWQ9IkxhbmRpbmciIHN0cm9rZT0ibm9uZSIgc3Ryb2tlLXdpZHRoPSIxIiBmaWxsPSJub25lIiBmaWxsLXJ1bGU9ImV2ZW5vZGQiPgogICAgICAgIDxnIGlkPSJBcnRib2FyZCIgdHJhbnNmb3JtPSJ0cmFuc2xhdGUoLTEyMzUuMDAwMDAwLCAtNzkuMDAwMDAwKSI+CiAgICAgICAgICAgIDxnIGlkPSJHcm91cC0zIiB0cmFuc2Zvcm09InRyYW5zbGF0ZSgxMjM1LjAwMDAwMCwgNzkuMDAwMDAwKSI+CiAgICAgICAgICAgICAgICA8cG9seWdvbiBpZD0iUGF0aC0yMCIgZmlsbD0iIzAyNjVCNCIgcG9pbnRzPSIyLjM3NjIzNzYyIDgwIDM4LjA0NzY2NjcgODAgNTcuODIxNzgyMiA3My44MDU3NTkyIDU3LjgyMTc4MjIgMzIuNzU5MjczOSAzOS4xNDAyMjc4IDMxLjY4MzE2ODMiPjwvcG9seWdvbj4KICAgICAgICAgICAgICAgIDxwYXRoIGQ9Ik0zNS4wMDc3MTgsODAgQzQyLjkwNjIwMDcsNzYuNDU0OTM1OCA0Ny41NjQ5MTY3LDcxLjU0MjI2NzEgNDguOTgzODY2LDY1LjI2MTk5MzkgQzUxLjExMjI4OTksNTUuODQxNTg0MiA0MS42NzcxNzk1LDQ5LjIxMjIyODQgMjUuNjIzOTg0Niw0OS4yMTIyMjg0IEMyNS40ODQ5Mjg5LDQ5LjEyNjg0NDggMjkuODI2MTI5Niw0My4yODM4MjQ4IDM4LjY0NzU4NjksMzEuNjgzMTY4MyBMNzIuODcxMjg3MSwzMi41NTQ0MjUgTDY1LjI4MDk3Myw2Ny42NzYzNDIxIEw1MS4xMTIyODk5LDc3LjM3NjE0NCBMMzUuMDA3NzE4LDgwIFoiIGlkPSJQYXRoLTIyIiBmaWxsPSIjMDAyODY4Ij48L3BhdGg+CiAgICAgICAgICAgICAgICA8cGF0aCBkPSJNMCwzNy43MzA0NDA1IEwyNy4xMTQ1MzcsMC4yNTcxMTE0MzYgQzYyLjM3MTUxMjMsLTEuOTkwNzE3MDEgODAsMTAuNTAwMzkyNyA4MCwzNy43MzA0NDA1IEM4MCw2NC45NjA0ODgyIDY0Ljc3NjUwMzgsNzkuMDUwMzQxNCAzNC4zMjk1MTEzLDgwIEM0Ny4wNTUzNDg5LDc3LjU2NzA4MDggNTMuNDE4MjY3Nyw3MC4zMTM2MTAzIDUzLjQxODI2NzcsNTguMjM5NTg4NSBDNTMuNDE4MjY3Nyw0MC4xMjg1NTU3IDM2LjMwMzk1NDQsMzcuNzMwNDQwNSAyNS4yMjc0MTcsMzcuNzMwNDQwNSBDMTcuODQzMDU4NiwzNy43MzA0NDA1IDkuNDMzOTE5NjYsMzcuNzMwNDQwNSAwLDM3LjczMDQ0MDUgWiIgaWQ9IlBhdGgtMTkiIGZpbGw9IiMzNzkzRUYiPjwvcGF0aD4KICAgICAgICAgICAgPC9nPgogICAgICAgIDwvZz4KICAgIDwvZz4KPC9zdmc+' > </img>\nCreated in <span style='font-weight:600;margin-left:4px;'>Deepnote</span></a>",
   "metadata": {
    "tags": [],
    "created_in_deepnote_cell": true,
    "deepnote_cell_type": "markdown"
   }
  }
 ],
 "nbformat": 4,
 "nbformat_minor": 2,
 "metadata": {
  "orig_nbformat": 2,
  "deepnote": {
   "is_reactive": false
  },
  "deepnote_notebook_id": "a1a25886-dd35-4d47-b598-ff682821276b",
  "deepnote_execution_queue": []
 }
}