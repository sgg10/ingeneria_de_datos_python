{
 "cells": [
  {
   "cell_type": "code",
   "metadata": {
    "tags": [],
    "cell_id": "00000-f0d56759-02df-4136-a3b8-c9989eb659b9",
    "deepnote_to_be_reexecuted": false,
    "source_hash": "e3aeb665",
    "execution_start": 1629333862271,
    "execution_millis": 2,
    "deepnote_cell_type": "code"
   },
   "source": "import requests\nimport bs4\nimport pandas as pd",
   "outputs": [],
   "execution_count": 13
  },
  {
   "cell_type": "code",
   "metadata": {
    "tags": [],
    "cell_id": "00001-6605a9f1-645b-4816-b177-62715ab82763",
    "deepnote_to_be_reexecuted": false,
    "source_hash": "be553ceb",
    "execution_start": 1629323630043,
    "execution_millis": 178,
    "deepnote_cell_type": "code"
   },
   "source": "response = requests.get(\"https://platzi.com/\")",
   "outputs": [],
   "execution_count": 2
  },
  {
   "cell_type": "markdown",
   "source": "# Extracción de información del HTML",
   "metadata": {
    "tags": [],
    "is_collapsed": false,
    "cell_id": "00002-16627936-fad8-4cfd-852a-51833da00ff5",
    "deepnote_cell_type": "text-cell-h1"
   }
  },
  {
   "cell_type": "code",
   "metadata": {
    "tags": [],
    "cell_id": "00002-a46c93f2-1174-4187-9eb1-a7bdcced13e0",
    "deepnote_to_be_reexecuted": false,
    "source_hash": "de55f1ea",
    "execution_start": 1629323631370,
    "execution_millis": 75,
    "deepnote_cell_type": "code"
   },
   "source": "soup = bs4.BeautifulSoup(response.text, \"html.parser\")",
   "outputs": [],
   "execution_count": 3
  },
  {
   "cell_type": "code",
   "metadata": {
    "tags": [],
    "cell_id": "00003-af0fc69d-2df4-4d3f-84f8-b6a223c3722b",
    "deepnote_to_be_reexecuted": false,
    "source_hash": "cdd96379",
    "execution_start": 1629323877711,
    "execution_millis": 37,
    "deepnote_cell_type": "code"
   },
   "source": "print(soup.title.text)\nprint(soup.select(\"meta[name=description]\"))\nprint(soup.select(\"meta[name=description]\")[0][\"content\"])",
   "outputs": [
    {
     "name": "stdout",
     "text": "Platzi: ‎Cursos Online Profesionales de Tecnología\n[<meta content=\"Aprende desde cero a crear el futuro web con nuestros Cursos Online Profesionales de Tecnología. 🚀¡Cursos de Desarrollo, Diseño, Marketing y Negocios!\" name=\"description\"/>]\nAprende desde cero a crear el futuro web con nuestros Cursos Online Profesionales de Tecnología. 🚀¡Cursos de Desarrollo, Diseño, Marketing y Negocios!\n",
     "output_type": "stream"
    }
   ],
   "execution_count": 8
  },
  {
   "cell_type": "code",
   "metadata": {
    "tags": [],
    "cell_id": "00007-8ef7aaed-ce50-49cd-8079-c46742e21c68",
    "deepnote_to_be_reexecuted": false,
    "source_hash": "e2c31033",
    "execution_start": 1629324038015,
    "execution_millis": 52,
    "deepnote_cell_type": "code"
   },
   "source": "schools_nodes = soup.select(\".SchoolsList-school\")\nschools_links = [ school[\"href\"] for school in schools_nodes ]\nschools_links",
   "outputs": [
    {
     "output_type": "execute_result",
     "execution_count": 12,
     "data": {
      "text/plain": "['/web/',\n '/escuela-javascript/',\n '/idioma-ingles/',\n '/marketing-digital/',\n '/publicidad/',\n '/startups/',\n '/periodismo-digital/',\n '/diseno-producto/',\n '/negocios/',\n '/videojuegos/',\n '/ecommerce/',\n '/finanzas/',\n '/azure/',\n '/diseno-grafico/',\n '/datos/',\n '/software/',\n '/matematicas/',\n '/produccion-video/',\n '/blockchain-criptomonedas/',\n '/habilidades-blandas/']"
     },
     "metadata": {}
    }
   ],
   "execution_count": 12
  },
  {
   "cell_type": "code",
   "metadata": {
    "tags": [],
    "cell_id": "00007-6704ed35-3bf9-42d1-accd-c76ff00cbb1a",
    "deepnote_cell_type": "code"
   },
   "source": "",
   "execution_count": null,
   "outputs": []
  },
  {
   "cell_type": "markdown",
   "source": "# DataFrames",
   "metadata": {
    "tags": [],
    "is_collapsed": false,
    "cell_id": "00007-0cbba9ee-c662-4ac1-a8dd-1aae649bd197",
    "deepnote_cell_type": "text-cell-h1"
   }
  },
  {
   "cell_type": "code",
   "source": "df = pd.read_csv(\"/work/ingeneria_de_datos_python/output/elpais_2021_08_18_articles.csv\")",
   "metadata": {
    "tags": [],
    "cell_id": "00008-ef1ed393-149d-4edc-8731-cb0077964e1d",
    "deepnote_to_be_reexecuted": false,
    "source_hash": "d08e82da",
    "execution_start": 1629334223666,
    "execution_millis": 10,
    "deepnote_cell_type": "code"
   },
   "outputs": [],
   "execution_count": 20
  },
  {
   "cell_type": "code",
   "source": "df.sample(10)",
   "metadata": {
    "tags": [],
    "cell_id": "00009-a8decc44-1db4-418d-bdb3-bc4465e00993",
    "deepnote_to_be_reexecuted": false,
    "source_hash": "96846a11",
    "execution_start": 1629334559467,
    "execution_millis": 22,
    "deepnote_cell_type": "code"
   },
   "outputs": [
    {
     "output_type": "execute_result",
     "execution_count": 24,
     "data": {
      "application/vnd.deepnote.dataframe.v2+json": {
       "row_count": 10,
       "column_count": 3,
       "columns": [
        {
         "name": "body",
         "dtype": "object",
         "stats": {
          "unique_count": 10,
          "nan_count": 0,
          "categories": [
           {
            "name": " respetado ejecutivo de la industria discográfica española, falleció esta madrugada en Madrid, víctima de un tumor cerebral, con 74 años. Cámara estuvo en la cúpula de CBS, en BMG Ariola y en la compañía resultante de la fusión de ambas, Sony BMG. En 2007 entró en el mundo del teatro, para montar musicales originales o traducidos.",
            "count": 1
           },
           {
            "name": " que se ha convertido en una figura clave en la política del país en sus periodos de mayor crisis y fragilidad, se prepara para despedirse del cargo y, salvo sorpresas, dejará el Palacio del Quirinal en febrero. Su mandato ha entrado este mes de agosto en la recta final, los últimos seis meses, que se conocen habitualmente como el Semestre blanco, que marca una fase decisiva en la que no se pueden disolver las Cámaras del Parlamento ni convocar elecciones. La carrera para elegir a un sucesor ha comenzado hace tiempo, pero será difícil encontrar un nombre de consenso.",
            "count": 1
           },
           {
            "name": "8 others",
            "count": 8
           }
          ]
         }
        },
        {
         "name": "title",
         "dtype": "object",
         "stats": {
          "unique_count": 10,
          "nan_count": 0,
          "categories": [
           {
            "name": "Muere José María Cámara, figura esencial de la industria discográfica en España",
            "count": 1
           },
           {
            "name": "Italia se encamina a un incierto recambio en la jefatura del Estado",
            "count": 1
           },
           {
            "name": "8 others",
            "count": 8
           }
          ]
         }
        },
        {
         "name": "url",
         "dtype": "object",
         "stats": {
          "unique_count": 10,
          "nan_count": 0,
          "categories": [
           {
            "name": "https://elpais.com/cultura/2021-08-18/muere-jose-maria-camara-figura-esencial-de-la-industria-discografica-en-espana.html",
            "count": 1
           },
           {
            "name": "https://elpais.com/internacional/2021-08-18/italia-se-encamina-a-un-incierto-recambio-en-la-jefatura-del-estado.html",
            "count": 1
           },
           {
            "name": "8 others",
            "count": 8
           }
          ]
         }
        },
        {
         "name": "_deepnote_index_column",
         "dtype": "int64"
        }
       ],
       "rows_top": [
        {
         "body": " respetado ejecutivo de la industria discográfica española, falleció esta madrugada en Madrid, víct…",
         "title": "Muere José María Cámara, figura esencial de la industria discográfica en España",
         "url": "https://elpais.com/cultura/2021-08-18/muere-jose-maria-camara-figura-esencial-de-la-industria-disco…",
         "_deepnote_index_column": 37
        },
        {
         "body": " que se ha convertido en una figura clave en la política del país en sus periodos de mayor crisis y…",
         "title": "Italia se encamina a un incierto recambio en la jefatura del Estado",
         "url": "https://elpais.com/internacional/2021-08-18/italia-se-encamina-a-un-incierto-recambio-en-la-jefatur…",
         "_deepnote_index_column": 38
        },
        {
         "body": "Joe Biden ha anunciado este miércoles un plan para ofrecer",
         "title": "EE UU planea ofrecer en septiembre una tercera dosis de la vacuna a la población general para ataja…",
         "url": "https://elpais.com/sociedad/2021-08-18/ee-uu-planea-ofrecer-en-septiembre-una-tercera-dosis-de-la-v…",
         "_deepnote_index_column": 74
        },
        {
         "body": "En la madrugada del 18 de agosto de 1936, el poeta Federico García Lorca, el maestro Dióscoro Galin…",
         "title": "La nieta de Dióscoro Galindo pide a Estrasburgo la búsqueda de los restos de su abuelo y de Lorca",
         "url": "https://elpais.com/cultura/2021-08-18/la-nieta-del-dioscoro-galindo-pide-a-estrasburgo-la-busqueda-…",
         "_deepnote_index_column": 18
        },
        {
         "body": "Para contestar a tu pregunta hay recordar que un agujero negro es una región en el espacio con una …",
         "title": "¿Podría generarse un microagujero negro en el acelerador de partículas LHC?",
         "url": "https://elpais.com/ciencia/2021-08-18/podria-generarse-un-microagujero-negro-en-el-acelerador-de-pa…",
         "_deepnote_index_column": 22
        },
        {
         "body": "Los talibanes no mandaban en Afganistán desde 2001. Aquel año la burbuja de internet había explotad…",
         "title": "El drama digital en Afganistán: borrarse de las redes y limpiar el historial en internet para escap…",
         "url": "https://elpais.com/tecnologia/2021-08-18/el-drama-digital-en-afganistan-borrarse-de-las-redes-y-lim…",
         "_deepnote_index_column": 69
        },
        {
         "body": "Como parte de la transición política vivida en todo el país tras los pasados ",
         "title": "Avances legislativos para los mexiquenses",
         "url": "https://elpais.com/sociedad/2021-08-13/avances-legislativos-para-los-mexiquenses.html",
         "_deepnote_index_column": 65
        },
        {
         "body": "En el norte ",
         "title": "Pueblos mayas en Guatemala presionan al BID para que retire su inversión en dos hidroeléctricas",
         "url": "https://elpais.com/economia/2021-08-18/pueblos-mayas-en-guatemala-presionan-al-bid-para-que-retire-…",
         "_deepnote_index_column": 25
        },
        {
         "body": "El amor como amenaza. No como disfrute, como apoyo, como acompañamiento, como catalizador del deseo…",
         "title": "Cristina Rivera Garza: “La palabra escrita puede convocar apariciones”",
         "url": "https://elpais.com/babelia/2021-08-17/cristina-rivera-garza-la-palabra-escrita-puede-convocar-apari…",
         "_deepnote_index_column": 57
        },
        {
         "body": "La firma de un ",
         "title": "Avances en Venezuela",
         "url": "https://elpais.com/opinion/2021-08-18/avances-en-venezuela.html",
         "_deepnote_index_column": 11
        }
       ],
       "rows_bottom": null
      },
      "text/plain": "                                                 body  \\\n37   respetado ejecutivo de la industria discográf...   \n38   que se ha convertido en una figura clave en l...   \n74  Joe Biden ha anunciado este miércoles un plan ...   \n18  En la madrugada del 18 de agosto de 1936, el p...   \n22  Para contestar a tu pregunta hay recordar que ...   \n69  Los talibanes no mandaban en Afganistán desde ...   \n65  Como parte de la transición política vivida en...   \n25                                       En el norte    \n57  El amor como amenaza. No como disfrute, como a...   \n11                                    La firma de un    \n\n                                                title  \\\n37  Muere José María Cámara, figura esencial de la...   \n38  Italia se encamina a un incierto recambio en l...   \n74  EE UU planea ofrecer en septiembre una tercera...   \n18  La nieta de Dióscoro Galindo pide a Estrasburg...   \n22  ¿Podría generarse un microagujero negro en el ...   \n69  El drama digital en Afganistán: borrarse de la...   \n65          Avances legislativos para los mexiquenses   \n25  Pueblos mayas en Guatemala presionan al BID pa...   \n57  Cristina Rivera Garza: “La palabra escrita pue...   \n11                               Avances en Venezuela   \n\n                                                  url  \n37  https://elpais.com/cultura/2021-08-18/muere-jo...  \n38  https://elpais.com/internacional/2021-08-18/it...  \n74  https://elpais.com/sociedad/2021-08-18/ee-uu-p...  \n18  https://elpais.com/cultura/2021-08-18/la-nieta...  \n22  https://elpais.com/ciencia/2021-08-18/podria-g...  \n69  https://elpais.com/tecnologia/2021-08-18/el-dr...  \n65  https://elpais.com/sociedad/2021-08-13/avances...  \n25  https://elpais.com/economia/2021-08-18/pueblos...  \n57  https://elpais.com/babelia/2021-08-17/cristina...  \n11  https://elpais.com/opinion/2021-08-18/avances-...  ",
      "text/html": "<div>\n<style scoped>\n    .dataframe tbody tr th:only-of-type {\n        vertical-align: middle;\n    }\n\n    .dataframe tbody tr th {\n        vertical-align: top;\n    }\n\n    .dataframe thead th {\n        text-align: right;\n    }\n</style>\n<table border=\"1\" class=\"dataframe\">\n  <thead>\n    <tr style=\"text-align: right;\">\n      <th></th>\n      <th>body</th>\n      <th>title</th>\n      <th>url</th>\n    </tr>\n  </thead>\n  <tbody>\n    <tr>\n      <th>37</th>\n      <td>respetado ejecutivo de la industria discográf...</td>\n      <td>Muere José María Cámara, figura esencial de la...</td>\n      <td>https://elpais.com/cultura/2021-08-18/muere-jo...</td>\n    </tr>\n    <tr>\n      <th>38</th>\n      <td>que se ha convertido en una figura clave en l...</td>\n      <td>Italia se encamina a un incierto recambio en l...</td>\n      <td>https://elpais.com/internacional/2021-08-18/it...</td>\n    </tr>\n    <tr>\n      <th>74</th>\n      <td>Joe Biden ha anunciado este miércoles un plan ...</td>\n      <td>EE UU planea ofrecer en septiembre una tercera...</td>\n      <td>https://elpais.com/sociedad/2021-08-18/ee-uu-p...</td>\n    </tr>\n    <tr>\n      <th>18</th>\n      <td>En la madrugada del 18 de agosto de 1936, el p...</td>\n      <td>La nieta de Dióscoro Galindo pide a Estrasburg...</td>\n      <td>https://elpais.com/cultura/2021-08-18/la-nieta...</td>\n    </tr>\n    <tr>\n      <th>22</th>\n      <td>Para contestar a tu pregunta hay recordar que ...</td>\n      <td>¿Podría generarse un microagujero negro en el ...</td>\n      <td>https://elpais.com/ciencia/2021-08-18/podria-g...</td>\n    </tr>\n    <tr>\n      <th>69</th>\n      <td>Los talibanes no mandaban en Afganistán desde ...</td>\n      <td>El drama digital en Afganistán: borrarse de la...</td>\n      <td>https://elpais.com/tecnologia/2021-08-18/el-dr...</td>\n    </tr>\n    <tr>\n      <th>65</th>\n      <td>Como parte de la transición política vivida en...</td>\n      <td>Avances legislativos para los mexiquenses</td>\n      <td>https://elpais.com/sociedad/2021-08-13/avances...</td>\n    </tr>\n    <tr>\n      <th>25</th>\n      <td>En el norte</td>\n      <td>Pueblos mayas en Guatemala presionan al BID pa...</td>\n      <td>https://elpais.com/economia/2021-08-18/pueblos...</td>\n    </tr>\n    <tr>\n      <th>57</th>\n      <td>El amor como amenaza. No como disfrute, como a...</td>\n      <td>Cristina Rivera Garza: “La palabra escrita pue...</td>\n      <td>https://elpais.com/babelia/2021-08-17/cristina...</td>\n    </tr>\n    <tr>\n      <th>11</th>\n      <td>La firma de un</td>\n      <td>Avances en Venezuela</td>\n      <td>https://elpais.com/opinion/2021-08-18/avances-...</td>\n    </tr>\n  </tbody>\n</table>\n</div>"
     },
     "metadata": {}
    }
   ],
   "execution_count": 24
  },
  {
   "cell_type": "code",
   "source": "",
   "metadata": {
    "tags": [],
    "cell_id": "00010-f2629c61-df84-47dd-a8fc-9f41878780c1",
    "deepnote_cell_type": "code"
   },
   "outputs": [],
   "execution_count": null
  },
  {
   "cell_type": "markdown",
   "source": "<a style='text-decoration:none;line-height:16px;display:flex;color:#5B5B62;padding:10px;justify-content:end;' href='https://deepnote.com?utm_source=created-in-deepnote-cell&projectId=ea363058-8482-4b97-a1b6-14194156c350' target=\"_blank\">\n<img alt='Created in deepnote.com' style='display:inline;max-height:16px;margin:0px;margin-right:7.5px;' src='data:image/svg+xml;base64,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' > </img>\nCreated in <span style='font-weight:600;margin-left:4px;'>Deepnote</span></a>",
   "metadata": {
    "tags": [],
    "created_in_deepnote_cell": true,
    "deepnote_cell_type": "markdown"
   }
  }
 ],
 "nbformat": 4,
 "nbformat_minor": 2,
 "metadata": {
  "orig_nbformat": 2,
  "deepnote": {
   "is_reactive": false
  },
  "deepnote_notebook_id": "541ce78d-4f5c-43ce-872f-38f503c69652",
  "deepnote_execution_queue": []
 }
}